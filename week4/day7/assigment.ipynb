{
  "nbformat": 4,
  "nbformat_minor": 0,
  "metadata": {
    "colab": {
      "name": "Untitled13.ipynb",
      "provenance": [],
      "collapsed_sections": []
    },
    "kernelspec": {
      "name": "python3",
      "display_name": "Python 3"
    }
  },
  "cells": [
    {
      "cell_type": "code",
      "metadata": {
        "id": "3K9pxVIQDFDw",
        "colab_type": "code",
        "colab": {}
      },
      "source": [
        "import pandas as pd\n",
        "import numpy as np\n",
        "from sklearn.model_selection import train_test_split\n",
        "from sklearn.linear_model import LinearRegression\n",
        "from sklearn.preprocessing import MinMaxScaler\n",
        "import warnings\n",
        "warnings.filterwarnings(\"ignore\")"
      ],
      "execution_count": 28,
      "outputs": []
    },
    {
      "cell_type": "code",
      "metadata": {
        "id": "jbpAzwUUD25Q",
        "colab_type": "code",
        "colab": {}
      },
      "source": [
        "df_train = pd.read_csv('Invertebrate TrainData - dataset.csv')\n",
        "df_test = pd.read_csv('InvertebrateTest Data - new_test_data.csv')"
      ],
      "execution_count": 33,
      "outputs": []
    },
    {
      "cell_type": "code",
      "metadata": {
        "id": "eaXaOLK_EC3T",
        "colab_type": "code",
        "colab": {
          "base_uri": "https://localhost:8080/",
          "height": 197
        },
        "outputId": "9a27a484-9072-4a4c-fbf1-064452ab47f4"
      },
      "source": [
        "df_train.head()"
      ],
      "execution_count": 22,
      "outputs": [
        {
          "output_type": "execute_result",
          "data": {
            "text/html": [
              "<div>\n",
              "<style scoped>\n",
              "    .dataframe tbody tr th:only-of-type {\n",
              "        vertical-align: middle;\n",
              "    }\n",
              "\n",
              "    .dataframe tbody tr th {\n",
              "        vertical-align: top;\n",
              "    }\n",
              "\n",
              "    .dataframe thead th {\n",
              "        text-align: right;\n",
              "    }\n",
              "</style>\n",
              "<table border=\"1\" class=\"dataframe\">\n",
              "  <thead>\n",
              "    <tr style=\"text-align: right;\">\n",
              "      <th></th>\n",
              "      <th>SWI</th>\n",
              "      <th>SWF</th>\n",
              "      <th>temperature</th>\n",
              "      <th>size</th>\n",
              "      <th>management</th>\n",
              "      <th>duration</th>\n",
              "    </tr>\n",
              "  </thead>\n",
              "  <tbody>\n",
              "    <tr>\n",
              "      <th>0</th>\n",
              "      <td>0.59</td>\n",
              "      <td>1.30</td>\n",
              "      <td>3.5</td>\n",
              "      <td>0.5</td>\n",
              "      <td>2</td>\n",
              "      <td>20</td>\n",
              "    </tr>\n",
              "    <tr>\n",
              "      <th>1</th>\n",
              "      <td>1.21</td>\n",
              "      <td>1.85</td>\n",
              "      <td>4.6</td>\n",
              "      <td>47.2</td>\n",
              "      <td>3</td>\n",
              "      <td>19</td>\n",
              "    </tr>\n",
              "    <tr>\n",
              "      <th>2</th>\n",
              "      <td>1.08</td>\n",
              "      <td>0.97</td>\n",
              "      <td>4.8</td>\n",
              "      <td>53.3</td>\n",
              "      <td>4</td>\n",
              "      <td>22</td>\n",
              "    </tr>\n",
              "    <tr>\n",
              "      <th>3</th>\n",
              "      <td>1.60</td>\n",
              "      <td>1.67</td>\n",
              "      <td>5.2</td>\n",
              "      <td>27.2</td>\n",
              "      <td>8</td>\n",
              "      <td>20</td>\n",
              "    </tr>\n",
              "    <tr>\n",
              "      <th>4</th>\n",
              "      <td>2.95</td>\n",
              "      <td>2.41</td>\n",
              "      <td>5.7</td>\n",
              "      <td>38.8</td>\n",
              "      <td>6</td>\n",
              "      <td>22</td>\n",
              "    </tr>\n",
              "  </tbody>\n",
              "</table>\n",
              "</div>"
            ],
            "text/plain": [
              "    SWI   SWF  temperature  size  management  duration\n",
              "0  0.59  1.30          3.5   0.5           2        20\n",
              "1  1.21  1.85          4.6  47.2           3        19\n",
              "2  1.08  0.97          4.8  53.3           4        22\n",
              "3  1.60  1.67          5.2  27.2           8        20\n",
              "4  2.95  2.41          5.7  38.8           6        22"
            ]
          },
          "metadata": {
            "tags": []
          },
          "execution_count": 22
        }
      ]
    },
    {
      "cell_type": "code",
      "metadata": {
        "id": "qlqYFp-wHUL3",
        "colab_type": "code",
        "colab": {
          "base_uri": "https://localhost:8080/",
          "height": 197
        },
        "outputId": "39550f20-d5da-49ab-fc07-b970ae6ec4d8"
      },
      "source": [
        "df_test.head()"
      ],
      "execution_count": 35,
      "outputs": [
        {
          "output_type": "execute_result",
          "data": {
            "text/html": [
              "<div>\n",
              "<style scoped>\n",
              "    .dataframe tbody tr th:only-of-type {\n",
              "        vertical-align: middle;\n",
              "    }\n",
              "\n",
              "    .dataframe tbody tr th {\n",
              "        vertical-align: top;\n",
              "    }\n",
              "\n",
              "    .dataframe thead th {\n",
              "        text-align: right;\n",
              "    }\n",
              "</style>\n",
              "<table border=\"1\" class=\"dataframe\">\n",
              "  <thead>\n",
              "    <tr style=\"text-align: right;\">\n",
              "      <th></th>\n",
              "      <th>SWF</th>\n",
              "      <th>temperature</th>\n",
              "      <th>size</th>\n",
              "      <th>management</th>\n",
              "      <th>duration</th>\n",
              "    </tr>\n",
              "  </thead>\n",
              "  <tbody>\n",
              "    <tr>\n",
              "      <th>0</th>\n",
              "      <td>0.86</td>\n",
              "      <td>21.6</td>\n",
              "      <td>21.6</td>\n",
              "      <td>5</td>\n",
              "      <td>32</td>\n",
              "    </tr>\n",
              "    <tr>\n",
              "      <th>1</th>\n",
              "      <td>1.30</td>\n",
              "      <td>21.6</td>\n",
              "      <td>23.7</td>\n",
              "      <td>4</td>\n",
              "      <td>35</td>\n",
              "    </tr>\n",
              "    <tr>\n",
              "      <th>2</th>\n",
              "      <td>1.79</td>\n",
              "      <td>21.7</td>\n",
              "      <td>32.9</td>\n",
              "      <td>3</td>\n",
              "      <td>39</td>\n",
              "    </tr>\n",
              "    <tr>\n",
              "      <th>3</th>\n",
              "      <td>1.92</td>\n",
              "      <td>21.8</td>\n",
              "      <td>47.5</td>\n",
              "      <td>7</td>\n",
              "      <td>34</td>\n",
              "    </tr>\n",
              "    <tr>\n",
              "      <th>4</th>\n",
              "      <td>0.90</td>\n",
              "      <td>21.8</td>\n",
              "      <td>42.8</td>\n",
              "      <td>6</td>\n",
              "      <td>35</td>\n",
              "    </tr>\n",
              "  </tbody>\n",
              "</table>\n",
              "</div>"
            ],
            "text/plain": [
              "    SWF  temperature  size  management  duration\n",
              "0  0.86         21.6  21.6           5        32\n",
              "1  1.30         21.6  23.7           4        35\n",
              "2  1.79         21.7  32.9           3        39\n",
              "3  1.92         21.8  47.5           7        34\n",
              "4  0.90         21.8  42.8           6        35"
            ]
          },
          "metadata": {
            "tags": []
          },
          "execution_count": 35
        }
      ]
    },
    {
      "cell_type": "code",
      "metadata": {
        "id": "BiM-lOlDE4iI",
        "colab_type": "code",
        "colab": {}
      },
      "source": [
        "X_train = df_train.drop('SWI',axis=1)\n",
        "y_train = df_train.iloc[:,0]"
      ],
      "execution_count": 36,
      "outputs": []
    },
    {
      "cell_type": "code",
      "metadata": {
        "id": "dmgzXkeeHHPe",
        "colab_type": "code",
        "colab": {}
      },
      "source": [
        "X_test = df_test\n"
      ],
      "execution_count": 38,
      "outputs": []
    },
    {
      "cell_type": "code",
      "metadata": {
        "id": "4IMpVgOZEMOD",
        "colab_type": "code",
        "colab": {
          "base_uri": "https://localhost:8080/",
          "height": 34
        },
        "outputId": "aef9c34c-d214-4a34-db2d-f203ca89e641"
      },
      "source": [
        "min_max = MinMaxScaler()\n",
        "min_max.fit(X_train)\n",
        "print(min_max.data_max_)\n",
        "X_train= min_max.transform(X_train)\n"
      ],
      "execution_count": 24,
      "outputs": [
        {
          "output_type": "stream",
          "text": [
            "[ 2.84 21.6  94.2   8.   41.  ]\n"
          ],
          "name": "stdout"
        }
      ]
    },
    {
      "cell_type": "code",
      "metadata": {
        "id": "ekIXLUdKF_Ie",
        "colab_type": "code",
        "colab": {}
      },
      "source": [
        "model = LinearRegression()\n"
      ],
      "execution_count": 30,
      "outputs": []
    },
    {
      "cell_type": "code",
      "metadata": {
        "id": "eOZdQxHgGSkR",
        "colab_type": "code",
        "colab": {
          "base_uri": "https://localhost:8080/",
          "height": 34
        },
        "outputId": "ac8a4a61-b648-4639-89dc-b2af2479cc05"
      },
      "source": [
        "model.fit(X_train,y_train)"
      ],
      "execution_count": 31,
      "outputs": [
        {
          "output_type": "execute_result",
          "data": {
            "text/plain": [
              "LinearRegression(copy_X=True, fit_intercept=True, n_jobs=None, normalize=False)"
            ]
          },
          "metadata": {
            "tags": []
          },
          "execution_count": 31
        }
      ]
    },
    {
      "cell_type": "code",
      "metadata": {
        "id": "QWLf_m6hGcGq",
        "colab_type": "code",
        "colab": {
          "base_uri": "https://localhost:8080/",
          "height": 443
        },
        "outputId": "4fb37b80-86a9-415c-bcf1-39baa04808d2"
      },
      "source": [
        "model.predict(X_test)"
      ],
      "execution_count": 39,
      "outputs": [
        {
          "output_type": "execute_result",
          "data": {
            "text/plain": [
              "array([26.17320757, 27.2777873 , 28.33123475, 28.42958458, 26.19215723,\n",
              "       29.79681251, 26.60821903, 28.35974299, 27.57094344, 25.94973711,\n",
              "       28.72030054, 25.75515411, 28.41266466, 31.54380366, 25.01064813,\n",
              "       26.51021059, 30.31847802, 24.46111136, 28.84485477, 26.24575043,\n",
              "       31.40953457, 24.51539737, 27.88686634, 29.67318505, 31.77994502,\n",
              "       29.18080682, 26.96522969, 29.82644077, 30.77108398, 26.68024873,\n",
              "       29.68400521, 26.12362805, 30.61511215, 30.35667841, 27.34953472,\n",
              "       32.1800459 , 32.5514227 , 28.09094114, 28.37547271, 27.41783237,\n",
              "       25.38107143, 29.01160465, 33.87291343, 32.55645213, 26.84513527,\n",
              "       31.91669181, 28.47709465, 26.45649225, 28.03777663, 30.01947013,\n",
              "       25.28495694, 29.97117165, 33.03874973, 27.41916238, 29.00749668,\n",
              "       31.01646947, 28.3410279 , 26.41305048, 25.12716865, 29.85850985,\n",
              "       29.74252938, 31.9376789 , 28.19160386, 32.19142545, 28.64138918,\n",
              "       30.5069401 , 31.31487307, 28.44447143, 27.33834912, 34.78480779,\n",
              "       32.9689813 , 27.37677014, 31.60325374, 31.52521454, 33.5445001 ,\n",
              "       26.84745453, 26.97464337, 31.91821405, 27.50211492, 26.94592271,\n",
              "       32.702219  , 30.19668811, 31.63717606, 32.55125524, 32.72604098,\n",
              "       32.80182495, 33.0714534 , 31.65745965, 31.0370602 , 33.44488301,\n",
              "       27.80198765, 31.13747298, 29.17860652, 34.26894803, 30.40144823,\n",
              "       33.48466366, 29.02875226, 26.18585823, 30.76450957, 30.43687795,\n",
              "       29.4716695 , 27.94408109, 29.37229142, 32.47822227, 32.94197433,\n",
              "       31.27994489, 30.16936993, 29.62847341, 29.22265511, 31.13133341,\n",
              "       31.85610772, 34.97666979, 29.15406993, 29.76057733, 30.37100286,\n",
              "       31.12400684, 32.55325744, 30.44534187, 31.87368211, 31.63517176])"
            ]
          },
          "metadata": {
            "tags": []
          },
          "execution_count": 39
        }
      ]
    },
    {
      "cell_type": "code",
      "metadata": {
        "id": "uMJS-5bXHp72",
        "colab_type": "code",
        "colab": {}
      },
      "source": [
        ""
      ],
      "execution_count": null,
      "outputs": []
    }
  ]
}