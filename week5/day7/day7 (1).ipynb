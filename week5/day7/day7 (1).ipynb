{
  "nbformat": 4,
  "nbformat_minor": 0,
  "metadata": {
    "colab": {
      "name": "day7",
      "provenance": [],
      "collapsed_sections": [],
      "toc_visible": true
    },
    "kernelspec": {
      "name": "python3",
      "display_name": "Python 3"
    }
  },
  "cells": [
    {
      "cell_type": "code",
      "metadata": {
        "id": "HSDEepOULSMN",
        "colab_type": "code",
        "colab": {}
      },
      "source": [
        "import pandas as pd\n",
        "import matplotlib.pyplot as plt\n",
        "import seaborn as sns\n",
        "import numpy as np\n",
        "%matplotlib inline"
      ],
      "execution_count": 157,
      "outputs": []
    },
    {
      "cell_type": "code",
      "metadata": {
        "id": "xKLMZEi9LWU6",
        "colab_type": "code",
        "colab": {}
      },
      "source": [
        "df = pd.read_csv('https://raw.githubusercontent.com/dphi-official/Datasets/master/pharma_data/Training_set_begs.csv')"
      ],
      "execution_count": 158,
      "outputs": []
    },
    {
      "cell_type": "code",
      "metadata": {
        "id": "ZeUjEy0sLa3_",
        "colab_type": "code",
        "colab": {
          "base_uri": "https://localhost:8080/",
          "height": 461
        },
        "outputId": "47a44249-37e8-4df4-dd41-6107dbb16adf"
      },
      "source": [
        "df.info()"
      ],
      "execution_count": 159,
      "outputs": [
        {
          "output_type": "stream",
          "text": [
            "<class 'pandas.core.frame.DataFrame'>\n",
            "RangeIndex: 23097 entries, 0 to 23096\n",
            "Data columns (total 18 columns):\n",
            " #   Column                     Non-Null Count  Dtype  \n",
            "---  ------                     --------------  -----  \n",
            " 0   ID_Patient_Care_Situation  23097 non-null  int64  \n",
            " 1   Diagnosed_Condition        23097 non-null  int64  \n",
            " 2   Patient_ID                 23097 non-null  int64  \n",
            " 3   Treated_with_drugs         23084 non-null  object \n",
            " 4   Patient_Age                23097 non-null  int64  \n",
            " 5   Patient_Body_Mass_Index    23097 non-null  float64\n",
            " 6   Patient_Smoker             23097 non-null  object \n",
            " 7   Patient_Rural_Urban        23097 non-null  object \n",
            " 8   Patient_mental_condition   23097 non-null  object \n",
            " 9   A                          21862 non-null  float64\n",
            " 10  B                          21862 non-null  float64\n",
            " 11  C                          21862 non-null  float64\n",
            " 12  D                          21862 non-null  float64\n",
            " 13  E                          21862 non-null  float64\n",
            " 14  F                          21862 non-null  float64\n",
            " 15  Z                          21862 non-null  float64\n",
            " 16  Number_of_prev_cond        21862 non-null  float64\n",
            " 17  Survived_1_year            23097 non-null  int64  \n",
            "dtypes: float64(9), int64(5), object(4)\n",
            "memory usage: 3.2+ MB\n"
          ],
          "name": "stdout"
        }
      ]
    },
    {
      "cell_type": "code",
      "metadata": {
        "id": "tpAiGjdaLdUB",
        "colab_type": "code",
        "colab": {
          "base_uri": "https://localhost:8080/",
          "height": 187
        },
        "outputId": "52fa2e64-6ca4-421c-c2e2-c5cacba40ac5"
      },
      "source": [
        "df.head(4)"
      ],
      "execution_count": 160,
      "outputs": [
        {
          "output_type": "execute_result",
          "data": {
            "text/html": [
              "<div>\n",
              "<style scoped>\n",
              "    .dataframe tbody tr th:only-of-type {\n",
              "        vertical-align: middle;\n",
              "    }\n",
              "\n",
              "    .dataframe tbody tr th {\n",
              "        vertical-align: top;\n",
              "    }\n",
              "\n",
              "    .dataframe thead th {\n",
              "        text-align: right;\n",
              "    }\n",
              "</style>\n",
              "<table border=\"1\" class=\"dataframe\">\n",
              "  <thead>\n",
              "    <tr style=\"text-align: right;\">\n",
              "      <th></th>\n",
              "      <th>ID_Patient_Care_Situation</th>\n",
              "      <th>Diagnosed_Condition</th>\n",
              "      <th>Patient_ID</th>\n",
              "      <th>Treated_with_drugs</th>\n",
              "      <th>Patient_Age</th>\n",
              "      <th>Patient_Body_Mass_Index</th>\n",
              "      <th>Patient_Smoker</th>\n",
              "      <th>Patient_Rural_Urban</th>\n",
              "      <th>Patient_mental_condition</th>\n",
              "      <th>A</th>\n",
              "      <th>B</th>\n",
              "      <th>C</th>\n",
              "      <th>D</th>\n",
              "      <th>E</th>\n",
              "      <th>F</th>\n",
              "      <th>Z</th>\n",
              "      <th>Number_of_prev_cond</th>\n",
              "      <th>Survived_1_year</th>\n",
              "    </tr>\n",
              "  </thead>\n",
              "  <tbody>\n",
              "    <tr>\n",
              "      <th>0</th>\n",
              "      <td>22374</td>\n",
              "      <td>8</td>\n",
              "      <td>3333</td>\n",
              "      <td>DX6</td>\n",
              "      <td>56</td>\n",
              "      <td>18.479385</td>\n",
              "      <td>YES</td>\n",
              "      <td>URBAN</td>\n",
              "      <td>Stable</td>\n",
              "      <td>1.0</td>\n",
              "      <td>0.0</td>\n",
              "      <td>0.0</td>\n",
              "      <td>0.0</td>\n",
              "      <td>1.0</td>\n",
              "      <td>0.0</td>\n",
              "      <td>0.0</td>\n",
              "      <td>2.0</td>\n",
              "      <td>0</td>\n",
              "    </tr>\n",
              "    <tr>\n",
              "      <th>1</th>\n",
              "      <td>18164</td>\n",
              "      <td>5</td>\n",
              "      <td>5740</td>\n",
              "      <td>DX2</td>\n",
              "      <td>36</td>\n",
              "      <td>22.945566</td>\n",
              "      <td>YES</td>\n",
              "      <td>RURAL</td>\n",
              "      <td>Stable</td>\n",
              "      <td>1.0</td>\n",
              "      <td>0.0</td>\n",
              "      <td>0.0</td>\n",
              "      <td>0.0</td>\n",
              "      <td>0.0</td>\n",
              "      <td>0.0</td>\n",
              "      <td>0.0</td>\n",
              "      <td>1.0</td>\n",
              "      <td>1</td>\n",
              "    </tr>\n",
              "    <tr>\n",
              "      <th>2</th>\n",
              "      <td>6283</td>\n",
              "      <td>23</td>\n",
              "      <td>10446</td>\n",
              "      <td>DX6</td>\n",
              "      <td>48</td>\n",
              "      <td>27.510027</td>\n",
              "      <td>YES</td>\n",
              "      <td>RURAL</td>\n",
              "      <td>Stable</td>\n",
              "      <td>1.0</td>\n",
              "      <td>0.0</td>\n",
              "      <td>0.0</td>\n",
              "      <td>0.0</td>\n",
              "      <td>0.0</td>\n",
              "      <td>0.0</td>\n",
              "      <td>0.0</td>\n",
              "      <td>1.0</td>\n",
              "      <td>0</td>\n",
              "    </tr>\n",
              "    <tr>\n",
              "      <th>3</th>\n",
              "      <td>5339</td>\n",
              "      <td>51</td>\n",
              "      <td>12011</td>\n",
              "      <td>DX1</td>\n",
              "      <td>5</td>\n",
              "      <td>19.130976</td>\n",
              "      <td>NO</td>\n",
              "      <td>URBAN</td>\n",
              "      <td>Stable</td>\n",
              "      <td>1.0</td>\n",
              "      <td>0.0</td>\n",
              "      <td>0.0</td>\n",
              "      <td>0.0</td>\n",
              "      <td>0.0</td>\n",
              "      <td>0.0</td>\n",
              "      <td>0.0</td>\n",
              "      <td>1.0</td>\n",
              "      <td>1</td>\n",
              "    </tr>\n",
              "  </tbody>\n",
              "</table>\n",
              "</div>"
            ],
            "text/plain": [
              "   ID_Patient_Care_Situation  ...  Survived_1_year\n",
              "0                      22374  ...                0\n",
              "1                      18164  ...                1\n",
              "2                       6283  ...                0\n",
              "3                       5339  ...                1\n",
              "\n",
              "[4 rows x 18 columns]"
            ]
          },
          "metadata": {
            "tags": []
          },
          "execution_count": 160
        }
      ]
    },
    {
      "cell_type": "code",
      "metadata": {
        "id": "Z0lNv0FGNOCy",
        "colab_type": "code",
        "colab": {
          "base_uri": "https://localhost:8080/",
          "height": 70
        },
        "outputId": "45c00aea-1ed5-4dc2-f0d7-fa5d8531e919"
      },
      "source": [
        "df['Survived_1_year'].value_counts()"
      ],
      "execution_count": 161,
      "outputs": [
        {
          "output_type": "execute_result",
          "data": {
            "text/plain": [
              "1    14603\n",
              "0     8494\n",
              "Name: Survived_1_year, dtype: int64"
            ]
          },
          "metadata": {
            "tags": []
          },
          "execution_count": 161
        }
      ]
    },
    {
      "cell_type": "code",
      "metadata": {
        "id": "jjfy-RJgLkPD",
        "colab_type": "code",
        "colab": {
          "base_uri": "https://localhost:8080/",
          "height": 70
        },
        "outputId": "28f0e1d3-1ad6-4986-add2-45f7854845ff"
      },
      "source": [
        "df['Survived_1_year'].value_counts()/len(df)*100"
      ],
      "execution_count": 162,
      "outputs": [
        {
          "output_type": "execute_result",
          "data": {
            "text/plain": [
              "1    63.224661\n",
              "0    36.775339\n",
              "Name: Survived_1_year, dtype: float64"
            ]
          },
          "metadata": {
            "tags": []
          },
          "execution_count": 162
        }
      ]
    },
    {
      "cell_type": "code",
      "metadata": {
        "id": "uTHL2CoxM3Mg",
        "colab_type": "code",
        "colab": {
          "base_uri": "https://localhost:8080/",
          "height": 297
        },
        "outputId": "3811b143-adf7-4e51-a45c-058c1ac095ab"
      },
      "source": [
        "sns.countplot(df['Survived_1_year'])"
      ],
      "execution_count": 163,
      "outputs": [
        {
          "output_type": "execute_result",
          "data": {
            "text/plain": [
              "<matplotlib.axes._subplots.AxesSubplot at 0x7f1cff481588>"
            ]
          },
          "metadata": {
            "tags": []
          },
          "execution_count": 163
        },
        {
          "output_type": "display_data",
          "data": {
            "image/png": "[encoded data removed]",
            "text/plain": [
              "<Figure size 432x288 with 1 Axes>"
            ]
          },
          "metadata": {
            "tags": [],
            "needs_background": "light"
          }
        }
      ]
    },
    {
      "cell_type": "code",
      "metadata": {
        "id": "o4Kg3EG3NeL1",
        "colab_type": "code",
        "colab": {
          "base_uri": "https://localhost:8080/",
          "height": 34
        },
        "outputId": "96ac5fa9-482c-44e1-fad6-b1166f5925b3"
      },
      "source": [
        "df.shape"
      ],
      "execution_count": 164,
      "outputs": [
        {
          "output_type": "execute_result",
          "data": {
            "text/plain": [
              "(23097, 18)"
            ]
          },
          "metadata": {
            "tags": []
          },
          "execution_count": 164
        }
      ]
    },
    {
      "cell_type": "code",
      "metadata": {
        "id": "4jcs1ghZOoTp",
        "colab_type": "code",
        "colab": {
          "base_uri": "https://localhost:8080/",
          "height": 354
        },
        "outputId": "16f41fcb-b509-4e19-f063-59660d467d6d"
      },
      "source": [
        "df.isnull().sum()"
      ],
      "execution_count": 165,
      "outputs": [
        {
          "output_type": "execute_result",
          "data": {
            "text/plain": [
              "ID_Patient_Care_Situation       0\n",
              "Diagnosed_Condition             0\n",
              "Patient_ID                      0\n",
              "Treated_with_drugs             13\n",
              "Patient_Age                     0\n",
              "Patient_Body_Mass_Index         0\n",
              "Patient_Smoker                  0\n",
              "Patient_Rural_Urban             0\n",
              "Patient_mental_condition        0\n",
              "A                            1235\n",
              "B                            1235\n",
              "C                            1235\n",
              "D                            1235\n",
              "E                            1235\n",
              "F                            1235\n",
              "Z                            1235\n",
              "Number_of_prev_cond          1235\n",
              "Survived_1_year                 0\n",
              "dtype: int64"
            ]
          },
          "metadata": {
            "tags": []
          },
          "execution_count": 165
        }
      ]
    },
    {
      "cell_type": "code",
      "metadata": {
        "id": "Banfs8asNpvA",
        "colab_type": "code",
        "colab": {
          "base_uri": "https://localhost:8080/",
          "height": 354
        },
        "outputId": "5f158239-d724-4133-b6aa-33b885d3d441"
      },
      "source": [
        "df.isnull().sum() /len(df)*100"
      ],
      "execution_count": 166,
      "outputs": [
        {
          "output_type": "execute_result",
          "data": {
            "text/plain": [
              "ID_Patient_Care_Situation    0.000000\n",
              "Diagnosed_Condition          0.000000\n",
              "Patient_ID                   0.000000\n",
              "Treated_with_drugs           0.056284\n",
              "Patient_Age                  0.000000\n",
              "Patient_Body_Mass_Index      0.000000\n",
              "Patient_Smoker               0.000000\n",
              "Patient_Rural_Urban          0.000000\n",
              "Patient_mental_condition     0.000000\n",
              "A                            5.347015\n",
              "B                            5.347015\n",
              "C                            5.347015\n",
              "D                            5.347015\n",
              "E                            5.347015\n",
              "F                            5.347015\n",
              "Z                            5.347015\n",
              "Number_of_prev_cond          5.347015\n",
              "Survived_1_year              0.000000\n",
              "dtype: float64"
            ]
          },
          "metadata": {
            "tags": []
          },
          "execution_count": 166
        }
      ]
    },
    {
      "cell_type": "code",
      "metadata": {
        "id": "31qOpGt6N7Ub",
        "colab_type": "code",
        "colab": {
          "base_uri": "https://localhost:8080/",
          "height": 426
        },
        "outputId": "95f3a2ac-da2f-44b2-a279-265381d81294"
      },
      "source": [
        "df[df['A'].isnull()]"
      ],
      "execution_count": 167,
      "outputs": [
        {
          "output_type": "execute_result",
          "data": {
            "text/html": [
              "<div>\n",
              "<style scoped>\n",
              "    .dataframe tbody tr th:only-of-type {\n",
              "        vertical-align: middle;\n",
              "    }\n",
              "\n",
              "    .dataframe tbody tr th {\n",
              "        vertical-align: top;\n",
              "    }\n",
              "\n",
              "    .dataframe thead th {\n",
              "        text-align: right;\n",
              "    }\n",
              "</style>\n",
              "<table border=\"1\" class=\"dataframe\">\n",
              "  <thead>\n",
              "    <tr style=\"text-align: right;\">\n",
              "      <th></th>\n",
              "      <th>ID_Patient_Care_Situation</th>\n",
              "      <th>Diagnosed_Condition</th>\n",
              "      <th>Patient_ID</th>\n",
              "      <th>Treated_with_drugs</th>\n",
              "      <th>Patient_Age</th>\n",
              "      <th>Patient_Body_Mass_Index</th>\n",
              "      <th>Patient_Smoker</th>\n",
              "      <th>Patient_Rural_Urban</th>\n",
              "      <th>Patient_mental_condition</th>\n",
              "      <th>A</th>\n",
              "      <th>B</th>\n",
              "      <th>C</th>\n",
              "      <th>D</th>\n",
              "      <th>E</th>\n",
              "      <th>F</th>\n",
              "      <th>Z</th>\n",
              "      <th>Number_of_prev_cond</th>\n",
              "      <th>Survived_1_year</th>\n",
              "    </tr>\n",
              "  </thead>\n",
              "  <tbody>\n",
              "    <tr>\n",
              "      <th>27</th>\n",
              "      <td>4691</td>\n",
              "      <td>31</td>\n",
              "      <td>4500</td>\n",
              "      <td>DX2</td>\n",
              "      <td>44</td>\n",
              "      <td>27.935658</td>\n",
              "      <td>YES</td>\n",
              "      <td>URBAN</td>\n",
              "      <td>Stable</td>\n",
              "      <td>NaN</td>\n",
              "      <td>NaN</td>\n",
              "      <td>NaN</td>\n",
              "      <td>NaN</td>\n",
              "      <td>NaN</td>\n",
              "      <td>NaN</td>\n",
              "      <td>NaN</td>\n",
              "      <td>NaN</td>\n",
              "      <td>0</td>\n",
              "    </tr>\n",
              "    <tr>\n",
              "      <th>36</th>\n",
              "      <td>4869</td>\n",
              "      <td>28</td>\n",
              "      <td>6826</td>\n",
              "      <td>DX1</td>\n",
              "      <td>4</td>\n",
              "      <td>17.342624</td>\n",
              "      <td>NO</td>\n",
              "      <td>URBAN</td>\n",
              "      <td>Stable</td>\n",
              "      <td>NaN</td>\n",
              "      <td>NaN</td>\n",
              "      <td>NaN</td>\n",
              "      <td>NaN</td>\n",
              "      <td>NaN</td>\n",
              "      <td>NaN</td>\n",
              "      <td>NaN</td>\n",
              "      <td>NaN</td>\n",
              "      <td>0</td>\n",
              "    </tr>\n",
              "    <tr>\n",
              "      <th>41</th>\n",
              "      <td>32899</td>\n",
              "      <td>24</td>\n",
              "      <td>7275</td>\n",
              "      <td>DX2 DX5</td>\n",
              "      <td>12</td>\n",
              "      <td>20.994843</td>\n",
              "      <td>NO</td>\n",
              "      <td>RURAL</td>\n",
              "      <td>Stable</td>\n",
              "      <td>NaN</td>\n",
              "      <td>NaN</td>\n",
              "      <td>NaN</td>\n",
              "      <td>NaN</td>\n",
              "      <td>NaN</td>\n",
              "      <td>NaN</td>\n",
              "      <td>NaN</td>\n",
              "      <td>NaN</td>\n",
              "      <td>1</td>\n",
              "    </tr>\n",
              "    <tr>\n",
              "      <th>97</th>\n",
              "      <td>9311</td>\n",
              "      <td>13</td>\n",
              "      <td>7538</td>\n",
              "      <td>DX2</td>\n",
              "      <td>49</td>\n",
              "      <td>26.641499</td>\n",
              "      <td>NO</td>\n",
              "      <td>RURAL</td>\n",
              "      <td>Stable</td>\n",
              "      <td>NaN</td>\n",
              "      <td>NaN</td>\n",
              "      <td>NaN</td>\n",
              "      <td>NaN</td>\n",
              "      <td>NaN</td>\n",
              "      <td>NaN</td>\n",
              "      <td>NaN</td>\n",
              "      <td>NaN</td>\n",
              "      <td>1</td>\n",
              "    </tr>\n",
              "    <tr>\n",
              "      <th>105</th>\n",
              "      <td>13511</td>\n",
              "      <td>44</td>\n",
              "      <td>7903</td>\n",
              "      <td>DX4</td>\n",
              "      <td>41</td>\n",
              "      <td>28.079769</td>\n",
              "      <td>YES</td>\n",
              "      <td>RURAL</td>\n",
              "      <td>Stable</td>\n",
              "      <td>NaN</td>\n",
              "      <td>NaN</td>\n",
              "      <td>NaN</td>\n",
              "      <td>NaN</td>\n",
              "      <td>NaN</td>\n",
              "      <td>NaN</td>\n",
              "      <td>NaN</td>\n",
              "      <td>NaN</td>\n",
              "      <td>0</td>\n",
              "    </tr>\n",
              "    <tr>\n",
              "      <th>...</th>\n",
              "      <td>...</td>\n",
              "      <td>...</td>\n",
              "      <td>...</td>\n",
              "      <td>...</td>\n",
              "      <td>...</td>\n",
              "      <td>...</td>\n",
              "      <td>...</td>\n",
              "      <td>...</td>\n",
              "      <td>...</td>\n",
              "      <td>...</td>\n",
              "      <td>...</td>\n",
              "      <td>...</td>\n",
              "      <td>...</td>\n",
              "      <td>...</td>\n",
              "      <td>...</td>\n",
              "      <td>...</td>\n",
              "      <td>...</td>\n",
              "      <td>...</td>\n",
              "    </tr>\n",
              "    <tr>\n",
              "      <th>23002</th>\n",
              "      <td>6195</td>\n",
              "      <td>3</td>\n",
              "      <td>7812</td>\n",
              "      <td>DX2</td>\n",
              "      <td>26</td>\n",
              "      <td>26.548517</td>\n",
              "      <td>YES</td>\n",
              "      <td>RURAL</td>\n",
              "      <td>Stable</td>\n",
              "      <td>NaN</td>\n",
              "      <td>NaN</td>\n",
              "      <td>NaN</td>\n",
              "      <td>NaN</td>\n",
              "      <td>NaN</td>\n",
              "      <td>NaN</td>\n",
              "      <td>NaN</td>\n",
              "      <td>NaN</td>\n",
              "      <td>1</td>\n",
              "    </tr>\n",
              "    <tr>\n",
              "      <th>23012</th>\n",
              "      <td>20220</td>\n",
              "      <td>48</td>\n",
              "      <td>12318</td>\n",
              "      <td>DX4</td>\n",
              "      <td>15</td>\n",
              "      <td>18.849124</td>\n",
              "      <td>NO</td>\n",
              "      <td>RURAL</td>\n",
              "      <td>Stable</td>\n",
              "      <td>NaN</td>\n",
              "      <td>NaN</td>\n",
              "      <td>NaN</td>\n",
              "      <td>NaN</td>\n",
              "      <td>NaN</td>\n",
              "      <td>NaN</td>\n",
              "      <td>NaN</td>\n",
              "      <td>NaN</td>\n",
              "      <td>1</td>\n",
              "    </tr>\n",
              "    <tr>\n",
              "      <th>23024</th>\n",
              "      <td>25571</td>\n",
              "      <td>6</td>\n",
              "      <td>3423</td>\n",
              "      <td>DX2</td>\n",
              "      <td>13</td>\n",
              "      <td>24.343030</td>\n",
              "      <td>NO</td>\n",
              "      <td>RURAL</td>\n",
              "      <td>Stable</td>\n",
              "      <td>NaN</td>\n",
              "      <td>NaN</td>\n",
              "      <td>NaN</td>\n",
              "      <td>NaN</td>\n",
              "      <td>NaN</td>\n",
              "      <td>NaN</td>\n",
              "      <td>NaN</td>\n",
              "      <td>NaN</td>\n",
              "      <td>1</td>\n",
              "    </tr>\n",
              "    <tr>\n",
              "      <th>23038</th>\n",
              "      <td>644</td>\n",
              "      <td>30</td>\n",
              "      <td>8032</td>\n",
              "      <td>DX3 DX5</td>\n",
              "      <td>45</td>\n",
              "      <td>19.272509</td>\n",
              "      <td>NO</td>\n",
              "      <td>RURAL</td>\n",
              "      <td>Stable</td>\n",
              "      <td>NaN</td>\n",
              "      <td>NaN</td>\n",
              "      <td>NaN</td>\n",
              "      <td>NaN</td>\n",
              "      <td>NaN</td>\n",
              "      <td>NaN</td>\n",
              "      <td>NaN</td>\n",
              "      <td>NaN</td>\n",
              "      <td>1</td>\n",
              "    </tr>\n",
              "    <tr>\n",
              "      <th>23054</th>\n",
              "      <td>20927</td>\n",
              "      <td>14</td>\n",
              "      <td>12195</td>\n",
              "      <td>DX5</td>\n",
              "      <td>27</td>\n",
              "      <td>23.819121</td>\n",
              "      <td>YES</td>\n",
              "      <td>RURAL</td>\n",
              "      <td>Stable</td>\n",
              "      <td>NaN</td>\n",
              "      <td>NaN</td>\n",
              "      <td>NaN</td>\n",
              "      <td>NaN</td>\n",
              "      <td>NaN</td>\n",
              "      <td>NaN</td>\n",
              "      <td>NaN</td>\n",
              "      <td>NaN</td>\n",
              "      <td>1</td>\n",
              "    </tr>\n",
              "  </tbody>\n",
              "</table>\n",
              "<p>1235 rows × 18 columns</p>\n",
              "</div>"
            ],
            "text/plain": [
              "       ID_Patient_Care_Situation  ...  Survived_1_year\n",
              "27                          4691  ...                0\n",
              "36                          4869  ...                0\n",
              "41                         32899  ...                1\n",
              "97                          9311  ...                1\n",
              "105                        13511  ...                0\n",
              "...                          ...  ...              ...\n",
              "23002                       6195  ...                1\n",
              "23012                      20220  ...                1\n",
              "23024                      25571  ...                1\n",
              "23038                        644  ...                1\n",
              "23054                      20927  ...                1\n",
              "\n",
              "[1235 rows x 18 columns]"
            ]
          },
          "metadata": {
            "tags": []
          },
          "execution_count": 167
        }
      ]
    },
    {
      "cell_type": "code",
      "metadata": {
        "id": "273-elu8OJur",
        "colab_type": "code",
        "colab": {}
      },
      "source": [
        "df_nnull = df.drop(df[df['A'].isnull()].index, axis=0)"
      ],
      "execution_count": 168,
      "outputs": []
    },
    {
      "cell_type": "code",
      "metadata": {
        "id": "GrXL-DWWPBak",
        "colab_type": "code",
        "colab": {
          "base_uri": "https://localhost:8080/",
          "height": 34
        },
        "outputId": "373f12ef-00d6-4752-faa0-5fa98c932f01"
      },
      "source": [
        "df.shape[0] - df_nnull.shape[0]"
      ],
      "execution_count": 169,
      "outputs": [
        {
          "output_type": "execute_result",
          "data": {
            "text/plain": [
              "1235"
            ]
          },
          "metadata": {
            "tags": []
          },
          "execution_count": 169
        }
      ]
    },
    {
      "cell_type": "code",
      "metadata": {
        "id": "va8jCGeGPJii",
        "colab_type": "code",
        "colab": {
          "base_uri": "https://localhost:8080/",
          "height": 187
        },
        "outputId": "7830f9d6-522b-4b1a-d6b6-9f91bb5c8dd8"
      },
      "source": [
        "df_nnull.head(4)"
      ],
      "execution_count": 170,
      "outputs": [
        {
          "output_type": "execute_result",
          "data": {
            "text/html": [
              "<div>\n",
              "<style scoped>\n",
              "    .dataframe tbody tr th:only-of-type {\n",
              "        vertical-align: middle;\n",
              "    }\n",
              "\n",
              "    .dataframe tbody tr th {\n",
              "        vertical-align: top;\n",
              "    }\n",
              "\n",
              "    .dataframe thead th {\n",
              "        text-align: right;\n",
              "    }\n",
              "</style>\n",
              "<table border=\"1\" class=\"dataframe\">\n",
              "  <thead>\n",
              "    <tr style=\"text-align: right;\">\n",
              "      <th></th>\n",
              "      <th>ID_Patient_Care_Situation</th>\n",
              "      <th>Diagnosed_Condition</th>\n",
              "      <th>Patient_ID</th>\n",
              "      <th>Treated_with_drugs</th>\n",
              "      <th>Patient_Age</th>\n",
              "      <th>Patient_Body_Mass_Index</th>\n",
              "      <th>Patient_Smoker</th>\n",
              "      <th>Patient_Rural_Urban</th>\n",
              "      <th>Patient_mental_condition</th>\n",
              "      <th>A</th>\n",
              "      <th>B</th>\n",
              "      <th>C</th>\n",
              "      <th>D</th>\n",
              "      <th>E</th>\n",
              "      <th>F</th>\n",
              "      <th>Z</th>\n",
              "      <th>Number_of_prev_cond</th>\n",
              "      <th>Survived_1_year</th>\n",
              "    </tr>\n",
              "  </thead>\n",
              "  <tbody>\n",
              "    <tr>\n",
              "      <th>0</th>\n",
              "      <td>22374</td>\n",
              "      <td>8</td>\n",
              "      <td>3333</td>\n",
              "      <td>DX6</td>\n",
              "      <td>56</td>\n",
              "      <td>18.479385</td>\n",
              "      <td>YES</td>\n",
              "      <td>URBAN</td>\n",
              "      <td>Stable</td>\n",
              "      <td>1.0</td>\n",
              "      <td>0.0</td>\n",
              "      <td>0.0</td>\n",
              "      <td>0.0</td>\n",
              "      <td>1.0</td>\n",
              "      <td>0.0</td>\n",
              "      <td>0.0</td>\n",
              "      <td>2.0</td>\n",
              "      <td>0</td>\n",
              "    </tr>\n",
              "    <tr>\n",
              "      <th>1</th>\n",
              "      <td>18164</td>\n",
              "      <td>5</td>\n",
              "      <td>5740</td>\n",
              "      <td>DX2</td>\n",
              "      <td>36</td>\n",
              "      <td>22.945566</td>\n",
              "      <td>YES</td>\n",
              "      <td>RURAL</td>\n",
              "      <td>Stable</td>\n",
              "      <td>1.0</td>\n",
              "      <td>0.0</td>\n",
              "      <td>0.0</td>\n",
              "      <td>0.0</td>\n",
              "      <td>0.0</td>\n",
              "      <td>0.0</td>\n",
              "      <td>0.0</td>\n",
              "      <td>1.0</td>\n",
              "      <td>1</td>\n",
              "    </tr>\n",
              "    <tr>\n",
              "      <th>2</th>\n",
              "      <td>6283</td>\n",
              "      <td>23</td>\n",
              "      <td>10446</td>\n",
              "      <td>DX6</td>\n",
              "      <td>48</td>\n",
              "      <td>27.510027</td>\n",
              "      <td>YES</td>\n",
              "      <td>RURAL</td>\n",
              "      <td>Stable</td>\n",
              "      <td>1.0</td>\n",
              "      <td>0.0</td>\n",
              "      <td>0.0</td>\n",
              "      <td>0.0</td>\n",
              "      <td>0.0</td>\n",
              "      <td>0.0</td>\n",
              "      <td>0.0</td>\n",
              "      <td>1.0</td>\n",
              "      <td>0</td>\n",
              "    </tr>\n",
              "    <tr>\n",
              "      <th>3</th>\n",
              "      <td>5339</td>\n",
              "      <td>51</td>\n",
              "      <td>12011</td>\n",
              "      <td>DX1</td>\n",
              "      <td>5</td>\n",
              "      <td>19.130976</td>\n",
              "      <td>NO</td>\n",
              "      <td>URBAN</td>\n",
              "      <td>Stable</td>\n",
              "      <td>1.0</td>\n",
              "      <td>0.0</td>\n",
              "      <td>0.0</td>\n",
              "      <td>0.0</td>\n",
              "      <td>0.0</td>\n",
              "      <td>0.0</td>\n",
              "      <td>0.0</td>\n",
              "      <td>1.0</td>\n",
              "      <td>1</td>\n",
              "    </tr>\n",
              "  </tbody>\n",
              "</table>\n",
              "</div>"
            ],
            "text/plain": [
              "   ID_Patient_Care_Situation  ...  Survived_1_year\n",
              "0                      22374  ...                0\n",
              "1                      18164  ...                1\n",
              "2                       6283  ...                0\n",
              "3                       5339  ...                1\n",
              "\n",
              "[4 rows x 18 columns]"
            ]
          },
          "metadata": {
            "tags": []
          },
          "execution_count": 170
        }
      ]
    },
    {
      "cell_type": "code",
      "metadata": {
        "id": "5x4H8QxRPTnx",
        "colab_type": "code",
        "colab": {
          "base_uri": "https://localhost:8080/",
          "height": 354
        },
        "outputId": "c1509fa4-c623-409c-a189-75d961dcef8d"
      },
      "source": [
        "df_nnull.isnull().sum() /len(df)*100"
      ],
      "execution_count": 171,
      "outputs": [
        {
          "output_type": "execute_result",
          "data": {
            "text/plain": [
              "ID_Patient_Care_Situation    0.000000\n",
              "Diagnosed_Condition          0.000000\n",
              "Patient_ID                   0.000000\n",
              "Treated_with_drugs           0.056284\n",
              "Patient_Age                  0.000000\n",
              "Patient_Body_Mass_Index      0.000000\n",
              "Patient_Smoker               0.000000\n",
              "Patient_Rural_Urban          0.000000\n",
              "Patient_mental_condition     0.000000\n",
              "A                            0.000000\n",
              "B                            0.000000\n",
              "C                            0.000000\n",
              "D                            0.000000\n",
              "E                            0.000000\n",
              "F                            0.000000\n",
              "Z                            0.000000\n",
              "Number_of_prev_cond          0.000000\n",
              "Survived_1_year              0.000000\n",
              "dtype: float64"
            ]
          },
          "metadata": {
            "tags": []
          },
          "execution_count": 171
        }
      ]
    },
    {
      "cell_type": "code",
      "metadata": {
        "id": "P6cFlMhqPbIm",
        "colab_type": "code",
        "colab": {
          "base_uri": "https://localhost:8080/",
          "height": 457
        },
        "outputId": "c4b72f64-61ad-4b80-9985-791701e35c7d"
      },
      "source": [
        "df[df['Treated_with_drugs'].isnull()]"
      ],
      "execution_count": 172,
      "outputs": [
        {
          "output_type": "execute_result",
          "data": {
            "text/html": [
              "<div>\n",
              "<style scoped>\n",
              "    .dataframe tbody tr th:only-of-type {\n",
              "        vertical-align: middle;\n",
              "    }\n",
              "\n",
              "    .dataframe tbody tr th {\n",
              "        vertical-align: top;\n",
              "    }\n",
              "\n",
              "    .dataframe thead th {\n",
              "        text-align: right;\n",
              "    }\n",
              "</style>\n",
              "<table border=\"1\" class=\"dataframe\">\n",
              "  <thead>\n",
              "    <tr style=\"text-align: right;\">\n",
              "      <th></th>\n",
              "      <th>ID_Patient_Care_Situation</th>\n",
              "      <th>Diagnosed_Condition</th>\n",
              "      <th>Patient_ID</th>\n",
              "      <th>Treated_with_drugs</th>\n",
              "      <th>Patient_Age</th>\n",
              "      <th>Patient_Body_Mass_Index</th>\n",
              "      <th>Patient_Smoker</th>\n",
              "      <th>Patient_Rural_Urban</th>\n",
              "      <th>Patient_mental_condition</th>\n",
              "      <th>A</th>\n",
              "      <th>B</th>\n",
              "      <th>C</th>\n",
              "      <th>D</th>\n",
              "      <th>E</th>\n",
              "      <th>F</th>\n",
              "      <th>Z</th>\n",
              "      <th>Number_of_prev_cond</th>\n",
              "      <th>Survived_1_year</th>\n",
              "    </tr>\n",
              "  </thead>\n",
              "  <tbody>\n",
              "    <tr>\n",
              "      <th>4</th>\n",
              "      <td>33012</td>\n",
              "      <td>0</td>\n",
              "      <td>12513</td>\n",
              "      <td>NaN</td>\n",
              "      <td>128</td>\n",
              "      <td>1.3484</td>\n",
              "      <td>Cannot say</td>\n",
              "      <td>RURAL</td>\n",
              "      <td>Stable</td>\n",
              "      <td>0.0</td>\n",
              "      <td>0.0</td>\n",
              "      <td>0.0</td>\n",
              "      <td>0.0</td>\n",
              "      <td>0.0</td>\n",
              "      <td>0.0</td>\n",
              "      <td>1.0</td>\n",
              "      <td>1.0</td>\n",
              "      <td>1</td>\n",
              "    </tr>\n",
              "    <tr>\n",
              "      <th>218</th>\n",
              "      <td>33008</td>\n",
              "      <td>0</td>\n",
              "      <td>12509</td>\n",
              "      <td>NaN</td>\n",
              "      <td>112</td>\n",
              "      <td>1.2925</td>\n",
              "      <td>Cannot say</td>\n",
              "      <td>RURAL</td>\n",
              "      <td>Stable</td>\n",
              "      <td>0.0</td>\n",
              "      <td>0.0</td>\n",
              "      <td>0.0</td>\n",
              "      <td>0.0</td>\n",
              "      <td>0.0</td>\n",
              "      <td>0.0</td>\n",
              "      <td>1.0</td>\n",
              "      <td>1.0</td>\n",
              "      <td>1</td>\n",
              "    </tr>\n",
              "    <tr>\n",
              "      <th>2540</th>\n",
              "      <td>33014</td>\n",
              "      <td>0</td>\n",
              "      <td>12515</td>\n",
              "      <td>NaN</td>\n",
              "      <td>149</td>\n",
              "      <td>1.7784</td>\n",
              "      <td>Cannot say</td>\n",
              "      <td>RURAL</td>\n",
              "      <td>Stable</td>\n",
              "      <td>0.0</td>\n",
              "      <td>0.0</td>\n",
              "      <td>0.0</td>\n",
              "      <td>0.0</td>\n",
              "      <td>0.0</td>\n",
              "      <td>0.0</td>\n",
              "      <td>1.0</td>\n",
              "      <td>1.0</td>\n",
              "      <td>1</td>\n",
              "    </tr>\n",
              "    <tr>\n",
              "      <th>2711</th>\n",
              "      <td>33004</td>\n",
              "      <td>0</td>\n",
              "      <td>12505</td>\n",
              "      <td>NaN</td>\n",
              "      <td>123</td>\n",
              "      <td>1.9290</td>\n",
              "      <td>Cannot say</td>\n",
              "      <td>RURAL</td>\n",
              "      <td>Stable</td>\n",
              "      <td>0.0</td>\n",
              "      <td>0.0</td>\n",
              "      <td>0.0</td>\n",
              "      <td>0.0</td>\n",
              "      <td>0.0</td>\n",
              "      <td>0.0</td>\n",
              "      <td>1.0</td>\n",
              "      <td>1.0</td>\n",
              "      <td>1</td>\n",
              "    </tr>\n",
              "    <tr>\n",
              "      <th>4308</th>\n",
              "      <td>33001</td>\n",
              "      <td>0</td>\n",
              "      <td>12502</td>\n",
              "      <td>NaN</td>\n",
              "      <td>114</td>\n",
              "      <td>1.6239</td>\n",
              "      <td>Cannot say</td>\n",
              "      <td>RURAL</td>\n",
              "      <td>Stable</td>\n",
              "      <td>0.0</td>\n",
              "      <td>0.0</td>\n",
              "      <td>0.0</td>\n",
              "      <td>0.0</td>\n",
              "      <td>0.0</td>\n",
              "      <td>0.0</td>\n",
              "      <td>1.0</td>\n",
              "      <td>1.0</td>\n",
              "      <td>1</td>\n",
              "    </tr>\n",
              "    <tr>\n",
              "      <th>4887</th>\n",
              "      <td>33011</td>\n",
              "      <td>0</td>\n",
              "      <td>12512</td>\n",
              "      <td>NaN</td>\n",
              "      <td>132</td>\n",
              "      <td>1.9896</td>\n",
              "      <td>Cannot say</td>\n",
              "      <td>RURAL</td>\n",
              "      <td>Stable</td>\n",
              "      <td>0.0</td>\n",
              "      <td>0.0</td>\n",
              "      <td>0.0</td>\n",
              "      <td>0.0</td>\n",
              "      <td>0.0</td>\n",
              "      <td>0.0</td>\n",
              "      <td>1.0</td>\n",
              "      <td>1.0</td>\n",
              "      <td>1</td>\n",
              "    </tr>\n",
              "    <tr>\n",
              "      <th>6308</th>\n",
              "      <td>33010</td>\n",
              "      <td>0</td>\n",
              "      <td>12511</td>\n",
              "      <td>NaN</td>\n",
              "      <td>142</td>\n",
              "      <td>1.5701</td>\n",
              "      <td>Cannot say</td>\n",
              "      <td>RURAL</td>\n",
              "      <td>Stable</td>\n",
              "      <td>0.0</td>\n",
              "      <td>0.0</td>\n",
              "      <td>0.0</td>\n",
              "      <td>0.0</td>\n",
              "      <td>0.0</td>\n",
              "      <td>0.0</td>\n",
              "      <td>1.0</td>\n",
              "      <td>1.0</td>\n",
              "      <td>1</td>\n",
              "    </tr>\n",
              "    <tr>\n",
              "      <th>10388</th>\n",
              "      <td>33006</td>\n",
              "      <td>0</td>\n",
              "      <td>12507</td>\n",
              "      <td>NaN</td>\n",
              "      <td>138</td>\n",
              "      <td>1.3745</td>\n",
              "      <td>Cannot say</td>\n",
              "      <td>RURAL</td>\n",
              "      <td>Stable</td>\n",
              "      <td>0.0</td>\n",
              "      <td>0.0</td>\n",
              "      <td>0.0</td>\n",
              "      <td>0.0</td>\n",
              "      <td>0.0</td>\n",
              "      <td>0.0</td>\n",
              "      <td>1.0</td>\n",
              "      <td>1.0</td>\n",
              "      <td>1</td>\n",
              "    </tr>\n",
              "    <tr>\n",
              "      <th>10663</th>\n",
              "      <td>33009</td>\n",
              "      <td>0</td>\n",
              "      <td>12510</td>\n",
              "      <td>NaN</td>\n",
              "      <td>142</td>\n",
              "      <td>1.1450</td>\n",
              "      <td>Cannot say</td>\n",
              "      <td>RURAL</td>\n",
              "      <td>Stable</td>\n",
              "      <td>0.0</td>\n",
              "      <td>0.0</td>\n",
              "      <td>0.0</td>\n",
              "      <td>0.0</td>\n",
              "      <td>0.0</td>\n",
              "      <td>0.0</td>\n",
              "      <td>1.0</td>\n",
              "      <td>1.0</td>\n",
              "      <td>1</td>\n",
              "    </tr>\n",
              "    <tr>\n",
              "      <th>12782</th>\n",
              "      <td>33000</td>\n",
              "      <td>0</td>\n",
              "      <td>12501</td>\n",
              "      <td>NaN</td>\n",
              "      <td>112</td>\n",
              "      <td>1.5465</td>\n",
              "      <td>Cannot say</td>\n",
              "      <td>RURAL</td>\n",
              "      <td>Stable</td>\n",
              "      <td>0.0</td>\n",
              "      <td>0.0</td>\n",
              "      <td>0.0</td>\n",
              "      <td>0.0</td>\n",
              "      <td>0.0</td>\n",
              "      <td>0.0</td>\n",
              "      <td>1.0</td>\n",
              "      <td>1.0</td>\n",
              "      <td>1</td>\n",
              "    </tr>\n",
              "    <tr>\n",
              "      <th>18630</th>\n",
              "      <td>33005</td>\n",
              "      <td>0</td>\n",
              "      <td>12506</td>\n",
              "      <td>NaN</td>\n",
              "      <td>125</td>\n",
              "      <td>1.2581</td>\n",
              "      <td>Cannot say</td>\n",
              "      <td>RURAL</td>\n",
              "      <td>Stable</td>\n",
              "      <td>0.0</td>\n",
              "      <td>0.0</td>\n",
              "      <td>0.0</td>\n",
              "      <td>0.0</td>\n",
              "      <td>0.0</td>\n",
              "      <td>0.0</td>\n",
              "      <td>1.0</td>\n",
              "      <td>1.0</td>\n",
              "      <td>1</td>\n",
              "    </tr>\n",
              "    <tr>\n",
              "      <th>19123</th>\n",
              "      <td>33002</td>\n",
              "      <td>0</td>\n",
              "      <td>12503</td>\n",
              "      <td>NaN</td>\n",
              "      <td>115</td>\n",
              "      <td>1.8199</td>\n",
              "      <td>Cannot say</td>\n",
              "      <td>RURAL</td>\n",
              "      <td>Stable</td>\n",
              "      <td>0.0</td>\n",
              "      <td>0.0</td>\n",
              "      <td>0.0</td>\n",
              "      <td>0.0</td>\n",
              "      <td>0.0</td>\n",
              "      <td>0.0</td>\n",
              "      <td>1.0</td>\n",
              "      <td>1.0</td>\n",
              "      <td>1</td>\n",
              "    </tr>\n",
              "    <tr>\n",
              "      <th>21705</th>\n",
              "      <td>33013</td>\n",
              "      <td>0</td>\n",
              "      <td>12514</td>\n",
              "      <td>NaN</td>\n",
              "      <td>121</td>\n",
              "      <td>1.0893</td>\n",
              "      <td>Cannot say</td>\n",
              "      <td>RURAL</td>\n",
              "      <td>Stable</td>\n",
              "      <td>0.0</td>\n",
              "      <td>0.0</td>\n",
              "      <td>0.0</td>\n",
              "      <td>0.0</td>\n",
              "      <td>0.0</td>\n",
              "      <td>0.0</td>\n",
              "      <td>1.0</td>\n",
              "      <td>1.0</td>\n",
              "      <td>1</td>\n",
              "    </tr>\n",
              "  </tbody>\n",
              "</table>\n",
              "</div>"
            ],
            "text/plain": [
              "       ID_Patient_Care_Situation  ...  Survived_1_year\n",
              "4                          33012  ...                1\n",
              "218                        33008  ...                1\n",
              "2540                       33014  ...                1\n",
              "2711                       33004  ...                1\n",
              "4308                       33001  ...                1\n",
              "4887                       33011  ...                1\n",
              "6308                       33010  ...                1\n",
              "10388                      33006  ...                1\n",
              "10663                      33009  ...                1\n",
              "12782                      33000  ...                1\n",
              "18630                      33005  ...                1\n",
              "19123                      33002  ...                1\n",
              "21705                      33013  ...                1\n",
              "\n",
              "[13 rows x 18 columns]"
            ]
          },
          "metadata": {
            "tags": []
          },
          "execution_count": 172
        }
      ]
    },
    {
      "cell_type": "code",
      "metadata": {
        "id": "Hn8GdbJvVIpm",
        "colab_type": "code",
        "colab": {
          "base_uri": "https://localhost:8080/",
          "height": 52
        },
        "outputId": "3f93779f-ad3c-41e5-f35f-b50717d27f67"
      },
      "source": [
        "print(df_nnull[df_nnull['Patient_Smoker']=='Cannot say'].shape)\n",
        "df_nnull[df_nnull['Treated_with_drugs'].isnull() ].shape"
      ],
      "execution_count": 173,
      "outputs": [
        {
          "output_type": "stream",
          "text": [
            "(13, 18)\n"
          ],
          "name": "stdout"
        },
        {
          "output_type": "execute_result",
          "data": {
            "text/plain": [
              "(13, 18)"
            ]
          },
          "metadata": {
            "tags": []
          },
          "execution_count": 173
        }
      ]
    },
    {
      "cell_type": "code",
      "metadata": {
        "id": "kPRdej14PmM5",
        "colab_type": "code",
        "colab": {
          "base_uri": "https://localhost:8080/",
          "height": 34
        },
        "outputId": "6420626a-ea2c-4b5a-9cc5-b5c89cd4f65e"
      },
      "source": [
        "df_nnull[df_nnull['Patient_Smoker']=='Cannot say'].equals(df_nnull[df_nnull['Treated_with_drugs'].isnull() ])"
      ],
      "execution_count": 174,
      "outputs": [
        {
          "output_type": "execute_result",
          "data": {
            "text/plain": [
              "True"
            ]
          },
          "metadata": {
            "tags": []
          },
          "execution_count": 174
        }
      ]
    },
    {
      "cell_type": "code",
      "metadata": {
        "id": "_5QLdNKJSsUy",
        "colab_type": "code",
        "colab": {
          "base_uri": "https://localhost:8080/",
          "height": 457
        },
        "outputId": "03429848-795e-4a90-aa1a-6a9f82f758f5"
      },
      "source": [
        "df_nnull[df_nnull['Treated_with_drugs'].isnull() ]"
      ],
      "execution_count": 175,
      "outputs": [
        {
          "output_type": "execute_result",
          "data": {
            "text/html": [
              "<div>\n",
              "<style scoped>\n",
              "    .dataframe tbody tr th:only-of-type {\n",
              "        vertical-align: middle;\n",
              "    }\n",
              "\n",
              "    .dataframe tbody tr th {\n",
              "        vertical-align: top;\n",
              "    }\n",
              "\n",
              "    .dataframe thead th {\n",
              "        text-align: right;\n",
              "    }\n",
              "</style>\n",
              "<table border=\"1\" class=\"dataframe\">\n",
              "  <thead>\n",
              "    <tr style=\"text-align: right;\">\n",
              "      <th></th>\n",
              "      <th>ID_Patient_Care_Situation</th>\n",
              "      <th>Diagnosed_Condition</th>\n",
              "      <th>Patient_ID</th>\n",
              "      <th>Treated_with_drugs</th>\n",
              "      <th>Patient_Age</th>\n",
              "      <th>Patient_Body_Mass_Index</th>\n",
              "      <th>Patient_Smoker</th>\n",
              "      <th>Patient_Rural_Urban</th>\n",
              "      <th>Patient_mental_condition</th>\n",
              "      <th>A</th>\n",
              "      <th>B</th>\n",
              "      <th>C</th>\n",
              "      <th>D</th>\n",
              "      <th>E</th>\n",
              "      <th>F</th>\n",
              "      <th>Z</th>\n",
              "      <th>Number_of_prev_cond</th>\n",
              "      <th>Survived_1_year</th>\n",
              "    </tr>\n",
              "  </thead>\n",
              "  <tbody>\n",
              "    <tr>\n",
              "      <th>4</th>\n",
              "      <td>33012</td>\n",
              "      <td>0</td>\n",
              "      <td>12513</td>\n",
              "      <td>NaN</td>\n",
              "      <td>128</td>\n",
              "      <td>1.3484</td>\n",
              "      <td>Cannot say</td>\n",
              "      <td>RURAL</td>\n",
              "      <td>Stable</td>\n",
              "      <td>0.0</td>\n",
              "      <td>0.0</td>\n",
              "      <td>0.0</td>\n",
              "      <td>0.0</td>\n",
              "      <td>0.0</td>\n",
              "      <td>0.0</td>\n",
              "      <td>1.0</td>\n",
              "      <td>1.0</td>\n",
              "      <td>1</td>\n",
              "    </tr>\n",
              "    <tr>\n",
              "      <th>218</th>\n",
              "      <td>33008</td>\n",
              "      <td>0</td>\n",
              "      <td>12509</td>\n",
              "      <td>NaN</td>\n",
              "      <td>112</td>\n",
              "      <td>1.2925</td>\n",
              "      <td>Cannot say</td>\n",
              "      <td>RURAL</td>\n",
              "      <td>Stable</td>\n",
              "      <td>0.0</td>\n",
              "      <td>0.0</td>\n",
              "      <td>0.0</td>\n",
              "      <td>0.0</td>\n",
              "      <td>0.0</td>\n",
              "      <td>0.0</td>\n",
              "      <td>1.0</td>\n",
              "      <td>1.0</td>\n",
              "      <td>1</td>\n",
              "    </tr>\n",
              "    <tr>\n",
              "      <th>2540</th>\n",
              "      <td>33014</td>\n",
              "      <td>0</td>\n",
              "      <td>12515</td>\n",
              "      <td>NaN</td>\n",
              "      <td>149</td>\n",
              "      <td>1.7784</td>\n",
              "      <td>Cannot say</td>\n",
              "      <td>RURAL</td>\n",
              "      <td>Stable</td>\n",
              "      <td>0.0</td>\n",
              "      <td>0.0</td>\n",
              "      <td>0.0</td>\n",
              "      <td>0.0</td>\n",
              "      <td>0.0</td>\n",
              "      <td>0.0</td>\n",
              "      <td>1.0</td>\n",
              "      <td>1.0</td>\n",
              "      <td>1</td>\n",
              "    </tr>\n",
              "    <tr>\n",
              "      <th>2711</th>\n",
              "      <td>33004</td>\n",
              "      <td>0</td>\n",
              "      <td>12505</td>\n",
              "      <td>NaN</td>\n",
              "      <td>123</td>\n",
              "      <td>1.9290</td>\n",
              "      <td>Cannot say</td>\n",
              "      <td>RURAL</td>\n",
              "      <td>Stable</td>\n",
              "      <td>0.0</td>\n",
              "      <td>0.0</td>\n",
              "      <td>0.0</td>\n",
              "      <td>0.0</td>\n",
              "      <td>0.0</td>\n",
              "      <td>0.0</td>\n",
              "      <td>1.0</td>\n",
              "      <td>1.0</td>\n",
              "      <td>1</td>\n",
              "    </tr>\n",
              "    <tr>\n",
              "      <th>4308</th>\n",
              "      <td>33001</td>\n",
              "      <td>0</td>\n",
              "      <td>12502</td>\n",
              "      <td>NaN</td>\n",
              "      <td>114</td>\n",
              "      <td>1.6239</td>\n",
              "      <td>Cannot say</td>\n",
              "      <td>RURAL</td>\n",
              "      <td>Stable</td>\n",
              "      <td>0.0</td>\n",
              "      <td>0.0</td>\n",
              "      <td>0.0</td>\n",
              "      <td>0.0</td>\n",
              "      <td>0.0</td>\n",
              "      <td>0.0</td>\n",
              "      <td>1.0</td>\n",
              "      <td>1.0</td>\n",
              "      <td>1</td>\n",
              "    </tr>\n",
              "    <tr>\n",
              "      <th>4887</th>\n",
              "      <td>33011</td>\n",
              "      <td>0</td>\n",
              "      <td>12512</td>\n",
              "      <td>NaN</td>\n",
              "      <td>132</td>\n",
              "      <td>1.9896</td>\n",
              "      <td>Cannot say</td>\n",
              "      <td>RURAL</td>\n",
              "      <td>Stable</td>\n",
              "      <td>0.0</td>\n",
              "      <td>0.0</td>\n",
              "      <td>0.0</td>\n",
              "      <td>0.0</td>\n",
              "      <td>0.0</td>\n",
              "      <td>0.0</td>\n",
              "      <td>1.0</td>\n",
              "      <td>1.0</td>\n",
              "      <td>1</td>\n",
              "    </tr>\n",
              "    <tr>\n",
              "      <th>6308</th>\n",
              "      <td>33010</td>\n",
              "      <td>0</td>\n",
              "      <td>12511</td>\n",
              "      <td>NaN</td>\n",
              "      <td>142</td>\n",
              "      <td>1.5701</td>\n",
              "      <td>Cannot say</td>\n",
              "      <td>RURAL</td>\n",
              "      <td>Stable</td>\n",
              "      <td>0.0</td>\n",
              "      <td>0.0</td>\n",
              "      <td>0.0</td>\n",
              "      <td>0.0</td>\n",
              "      <td>0.0</td>\n",
              "      <td>0.0</td>\n",
              "      <td>1.0</td>\n",
              "      <td>1.0</td>\n",
              "      <td>1</td>\n",
              "    </tr>\n",
              "    <tr>\n",
              "      <th>10388</th>\n",
              "      <td>33006</td>\n",
              "      <td>0</td>\n",
              "      <td>12507</td>\n",
              "      <td>NaN</td>\n",
              "      <td>138</td>\n",
              "      <td>1.3745</td>\n",
              "      <td>Cannot say</td>\n",
              "      <td>RURAL</td>\n",
              "      <td>Stable</td>\n",
              "      <td>0.0</td>\n",
              "      <td>0.0</td>\n",
              "      <td>0.0</td>\n",
              "      <td>0.0</td>\n",
              "      <td>0.0</td>\n",
              "      <td>0.0</td>\n",
              "      <td>1.0</td>\n",
              "      <td>1.0</td>\n",
              "      <td>1</td>\n",
              "    </tr>\n",
              "    <tr>\n",
              "      <th>10663</th>\n",
              "      <td>33009</td>\n",
              "      <td>0</td>\n",
              "      <td>12510</td>\n",
              "      <td>NaN</td>\n",
              "      <td>142</td>\n",
              "      <td>1.1450</td>\n",
              "      <td>Cannot say</td>\n",
              "      <td>RURAL</td>\n",
              "      <td>Stable</td>\n",
              "      <td>0.0</td>\n",
              "      <td>0.0</td>\n",
              "      <td>0.0</td>\n",
              "      <td>0.0</td>\n",
              "      <td>0.0</td>\n",
              "      <td>0.0</td>\n",
              "      <td>1.0</td>\n",
              "      <td>1.0</td>\n",
              "      <td>1</td>\n",
              "    </tr>\n",
              "    <tr>\n",
              "      <th>12782</th>\n",
              "      <td>33000</td>\n",
              "      <td>0</td>\n",
              "      <td>12501</td>\n",
              "      <td>NaN</td>\n",
              "      <td>112</td>\n",
              "      <td>1.5465</td>\n",
              "      <td>Cannot say</td>\n",
              "      <td>RURAL</td>\n",
              "      <td>Stable</td>\n",
              "      <td>0.0</td>\n",
              "      <td>0.0</td>\n",
              "      <td>0.0</td>\n",
              "      <td>0.0</td>\n",
              "      <td>0.0</td>\n",
              "      <td>0.0</td>\n",
              "      <td>1.0</td>\n",
              "      <td>1.0</td>\n",
              "      <td>1</td>\n",
              "    </tr>\n",
              "    <tr>\n",
              "      <th>18630</th>\n",
              "      <td>33005</td>\n",
              "      <td>0</td>\n",
              "      <td>12506</td>\n",
              "      <td>NaN</td>\n",
              "      <td>125</td>\n",
              "      <td>1.2581</td>\n",
              "      <td>Cannot say</td>\n",
              "      <td>RURAL</td>\n",
              "      <td>Stable</td>\n",
              "      <td>0.0</td>\n",
              "      <td>0.0</td>\n",
              "      <td>0.0</td>\n",
              "      <td>0.0</td>\n",
              "      <td>0.0</td>\n",
              "      <td>0.0</td>\n",
              "      <td>1.0</td>\n",
              "      <td>1.0</td>\n",
              "      <td>1</td>\n",
              "    </tr>\n",
              "    <tr>\n",
              "      <th>19123</th>\n",
              "      <td>33002</td>\n",
              "      <td>0</td>\n",
              "      <td>12503</td>\n",
              "      <td>NaN</td>\n",
              "      <td>115</td>\n",
              "      <td>1.8199</td>\n",
              "      <td>Cannot say</td>\n",
              "      <td>RURAL</td>\n",
              "      <td>Stable</td>\n",
              "      <td>0.0</td>\n",
              "      <td>0.0</td>\n",
              "      <td>0.0</td>\n",
              "      <td>0.0</td>\n",
              "      <td>0.0</td>\n",
              "      <td>0.0</td>\n",
              "      <td>1.0</td>\n",
              "      <td>1.0</td>\n",
              "      <td>1</td>\n",
              "    </tr>\n",
              "    <tr>\n",
              "      <th>21705</th>\n",
              "      <td>33013</td>\n",
              "      <td>0</td>\n",
              "      <td>12514</td>\n",
              "      <td>NaN</td>\n",
              "      <td>121</td>\n",
              "      <td>1.0893</td>\n",
              "      <td>Cannot say</td>\n",
              "      <td>RURAL</td>\n",
              "      <td>Stable</td>\n",
              "      <td>0.0</td>\n",
              "      <td>0.0</td>\n",
              "      <td>0.0</td>\n",
              "      <td>0.0</td>\n",
              "      <td>0.0</td>\n",
              "      <td>0.0</td>\n",
              "      <td>1.0</td>\n",
              "      <td>1.0</td>\n",
              "      <td>1</td>\n",
              "    </tr>\n",
              "  </tbody>\n",
              "</table>\n",
              "</div>"
            ],
            "text/plain": [
              "       ID_Patient_Care_Situation  ...  Survived_1_year\n",
              "4                          33012  ...                1\n",
              "218                        33008  ...                1\n",
              "2540                       33014  ...                1\n",
              "2711                       33004  ...                1\n",
              "4308                       33001  ...                1\n",
              "4887                       33011  ...                1\n",
              "6308                       33010  ...                1\n",
              "10388                      33006  ...                1\n",
              "10663                      33009  ...                1\n",
              "12782                      33000  ...                1\n",
              "18630                      33005  ...                1\n",
              "19123                      33002  ...                1\n",
              "21705                      33013  ...                1\n",
              "\n",
              "[13 rows x 18 columns]"
            ]
          },
          "metadata": {
            "tags": []
          },
          "execution_count": 175
        }
      ]
    },
    {
      "cell_type": "code",
      "metadata": {
        "id": "GfSDoA29TZNQ",
        "colab_type": "code",
        "colab": {
          "base_uri": "https://localhost:8080/",
          "height": 105
        },
        "outputId": "aae9f959-252d-4664-8e61-c82dd4ce7763"
      },
      "source": [
        "df_nnull['Treated_with_drugs'].describe()"
      ],
      "execution_count": 176,
      "outputs": [
        {
          "output_type": "execute_result",
          "data": {
            "text/plain": [
              "count     21849\n",
              "unique       32\n",
              "top         DX6\n",
              "freq       8148\n",
              "Name: Treated_with_drugs, dtype: object"
            ]
          },
          "metadata": {
            "tags": []
          },
          "execution_count": 176
        }
      ]
    },
    {
      "cell_type": "code",
      "metadata": {
        "id": "wvWbYvUGVj5Z",
        "colab_type": "code",
        "colab": {
          "base_uri": "https://localhost:8080/",
          "height": 87
        },
        "outputId": "418e0c2b-0ef5-4ad4-b986-03805a11a35e"
      },
      "source": [
        "df_nnull['Patient_Smoker'].value_counts() / len(df_nnull)"
      ],
      "execution_count": 177,
      "outputs": [
        {
          "output_type": "execute_result",
          "data": {
            "text/plain": [
              "NO            0.572637\n",
              "YES           0.426768\n",
              "Cannot say    0.000595\n",
              "Name: Patient_Smoker, dtype: float64"
            ]
          },
          "metadata": {
            "tags": []
          },
          "execution_count": 177
        }
      ]
    },
    {
      "cell_type": "code",
      "metadata": {
        "id": "R_ufKVClVvjR",
        "colab_type": "code",
        "colab": {}
      },
      "source": [
        "df_clean = df_nnull.drop(df_nnull[df_nnull['Patient_Smoker']=='Cannot say'].index,axis=0)"
      ],
      "execution_count": 178,
      "outputs": []
    },
    {
      "cell_type": "code",
      "metadata": {
        "id": "ons5I5P6Ycnp",
        "colab_type": "code",
        "colab": {}
      },
      "source": [
        "df_clean = df_clean.drop(\"Patient_ID\",axis=1)"
      ],
      "execution_count": 179,
      "outputs": []
    },
    {
      "cell_type": "code",
      "metadata": {
        "id": "Za1C9U5RfAJo",
        "colab_type": "code",
        "colab": {}
      },
      "source": [
        "df_clean = df_clean.drop(\"Z\",axis=1)"
      ],
      "execution_count": 180,
      "outputs": []
    },
    {
      "cell_type": "code",
      "metadata": {
        "id": "gOr5kdw6WOEA",
        "colab_type": "code",
        "colab": {
          "base_uri": "https://localhost:8080/",
          "height": 318
        },
        "outputId": "e4773427-e445-437b-9d34-75553f283ad4"
      },
      "source": [
        "df_clean.isnull().sum()"
      ],
      "execution_count": 181,
      "outputs": [
        {
          "output_type": "execute_result",
          "data": {
            "text/plain": [
              "ID_Patient_Care_Situation    0\n",
              "Diagnosed_Condition          0\n",
              "Treated_with_drugs           0\n",
              "Patient_Age                  0\n",
              "Patient_Body_Mass_Index      0\n",
              "Patient_Smoker               0\n",
              "Patient_Rural_Urban          0\n",
              "Patient_mental_condition     0\n",
              "A                            0\n",
              "B                            0\n",
              "C                            0\n",
              "D                            0\n",
              "E                            0\n",
              "F                            0\n",
              "Number_of_prev_cond          0\n",
              "Survived_1_year              0\n",
              "dtype: int64"
            ]
          },
          "metadata": {
            "tags": []
          },
          "execution_count": 181
        }
      ]
    },
    {
      "cell_type": "markdown",
      "metadata": {
        "id": "t6235Cb0WkL2",
        "colab_type": "text"
      },
      "source": [
        "\n",
        "\n",
        "---\n",
        "\n",
        "\n",
        "\n",
        "---\n",
        "\n"
      ]
    },
    {
      "cell_type": "markdown",
      "metadata": {
        "id": "_hx2eRsEWl32",
        "colab_type": "text"
      },
      "source": [
        "EDA"
      ]
    },
    {
      "cell_type": "code",
      "metadata": {
        "id": "xhipZu8sWYEx",
        "colab_type": "code",
        "colab": {
          "base_uri": "https://localhost:8080/",
          "height": 307
        },
        "outputId": "558344b7-cb14-4f1a-fa53-e33d39e8d476"
      },
      "source": [
        "df_clean.describe()"
      ],
      "execution_count": 182,
      "outputs": [
        {
          "output_type": "execute_result",
          "data": {
            "text/html": [
              "<div>\n",
              "<style scoped>\n",
              "    .dataframe tbody tr th:only-of-type {\n",
              "        vertical-align: middle;\n",
              "    }\n",
              "\n",
              "    .dataframe tbody tr th {\n",
              "        vertical-align: top;\n",
              "    }\n",
              "\n",
              "    .dataframe thead th {\n",
              "        text-align: right;\n",
              "    }\n",
              "</style>\n",
              "<table border=\"1\" class=\"dataframe\">\n",
              "  <thead>\n",
              "    <tr style=\"text-align: right;\">\n",
              "      <th></th>\n",
              "      <th>ID_Patient_Care_Situation</th>\n",
              "      <th>Diagnosed_Condition</th>\n",
              "      <th>Patient_Age</th>\n",
              "      <th>Patient_Body_Mass_Index</th>\n",
              "      <th>A</th>\n",
              "      <th>B</th>\n",
              "      <th>C</th>\n",
              "      <th>D</th>\n",
              "      <th>E</th>\n",
              "      <th>F</th>\n",
              "      <th>Number_of_prev_cond</th>\n",
              "      <th>Survived_1_year</th>\n",
              "    </tr>\n",
              "  </thead>\n",
              "  <tbody>\n",
              "    <tr>\n",
              "      <th>count</th>\n",
              "      <td>21849.000000</td>\n",
              "      <td>21849.000000</td>\n",
              "      <td>21849.000000</td>\n",
              "      <td>21849.000000</td>\n",
              "      <td>21849.000000</td>\n",
              "      <td>21849.000000</td>\n",
              "      <td>21849.000000</td>\n",
              "      <td>21849.000000</td>\n",
              "      <td>21849.000000</td>\n",
              "      <td>21849.000000</td>\n",
              "      <td>21849.000000</td>\n",
              "      <td>21849.000000</td>\n",
              "    </tr>\n",
              "    <tr>\n",
              "      <th>mean</th>\n",
              "      <td>16516.195066</td>\n",
              "      <td>26.399469</td>\n",
              "      <td>33.232230</td>\n",
              "      <td>23.453391</td>\n",
              "      <td>0.898439</td>\n",
              "      <td>0.136436</td>\n",
              "      <td>0.185180</td>\n",
              "      <td>0.083665</td>\n",
              "      <td>0.393473</td>\n",
              "      <td>0.053732</td>\n",
              "      <td>1.750927</td>\n",
              "      <td>0.624376</td>\n",
              "    </tr>\n",
              "    <tr>\n",
              "      <th>std</th>\n",
              "      <td>9533.314321</td>\n",
              "      <td>15.025344</td>\n",
              "      <td>19.406999</td>\n",
              "      <td>3.774410</td>\n",
              "      <td>0.302077</td>\n",
              "      <td>0.343259</td>\n",
              "      <td>0.388452</td>\n",
              "      <td>0.276891</td>\n",
              "      <td>0.488531</td>\n",
              "      <td>0.225494</td>\n",
              "      <td>0.770323</td>\n",
              "      <td>0.484295</td>\n",
              "    </tr>\n",
              "    <tr>\n",
              "      <th>min</th>\n",
              "      <td>2.000000</td>\n",
              "      <td>1.000000</td>\n",
              "      <td>0.000000</td>\n",
              "      <td>17.000336</td>\n",
              "      <td>0.000000</td>\n",
              "      <td>0.000000</td>\n",
              "      <td>0.000000</td>\n",
              "      <td>0.000000</td>\n",
              "      <td>0.000000</td>\n",
              "      <td>0.000000</td>\n",
              "      <td>1.000000</td>\n",
              "      <td>0.000000</td>\n",
              "    </tr>\n",
              "    <tr>\n",
              "      <th>25%</th>\n",
              "      <td>8232.000000</td>\n",
              "      <td>13.000000</td>\n",
              "      <td>16.000000</td>\n",
              "      <td>20.205050</td>\n",
              "      <td>1.000000</td>\n",
              "      <td>0.000000</td>\n",
              "      <td>0.000000</td>\n",
              "      <td>0.000000</td>\n",
              "      <td>0.000000</td>\n",
              "      <td>0.000000</td>\n",
              "      <td>1.000000</td>\n",
              "      <td>0.000000</td>\n",
              "    </tr>\n",
              "    <tr>\n",
              "      <th>50%</th>\n",
              "      <td>16577.000000</td>\n",
              "      <td>26.000000</td>\n",
              "      <td>33.000000</td>\n",
              "      <td>23.368735</td>\n",
              "      <td>1.000000</td>\n",
              "      <td>0.000000</td>\n",
              "      <td>0.000000</td>\n",
              "      <td>0.000000</td>\n",
              "      <td>0.000000</td>\n",
              "      <td>0.000000</td>\n",
              "      <td>2.000000</td>\n",
              "      <td>1.000000</td>\n",
              "    </tr>\n",
              "    <tr>\n",
              "      <th>75%</th>\n",
              "      <td>24798.000000</td>\n",
              "      <td>39.000000</td>\n",
              "      <td>50.000000</td>\n",
              "      <td>26.775992</td>\n",
              "      <td>1.000000</td>\n",
              "      <td>0.000000</td>\n",
              "      <td>0.000000</td>\n",
              "      <td>0.000000</td>\n",
              "      <td>1.000000</td>\n",
              "      <td>0.000000</td>\n",
              "      <td>2.000000</td>\n",
              "      <td>1.000000</td>\n",
              "    </tr>\n",
              "    <tr>\n",
              "      <th>max</th>\n",
              "      <td>32982.000000</td>\n",
              "      <td>52.000000</td>\n",
              "      <td>66.000000</td>\n",
              "      <td>29.999579</td>\n",
              "      <td>1.000000</td>\n",
              "      <td>1.000000</td>\n",
              "      <td>1.000000</td>\n",
              "      <td>1.000000</td>\n",
              "      <td>1.000000</td>\n",
              "      <td>1.000000</td>\n",
              "      <td>5.000000</td>\n",
              "      <td>1.000000</td>\n",
              "    </tr>\n",
              "  </tbody>\n",
              "</table>\n",
              "</div>"
            ],
            "text/plain": [
              "       ID_Patient_Care_Situation  ...  Survived_1_year\n",
              "count               21849.000000  ...     21849.000000\n",
              "mean                16516.195066  ...         0.624376\n",
              "std                  9533.314321  ...         0.484295\n",
              "min                     2.000000  ...         0.000000\n",
              "25%                  8232.000000  ...         0.000000\n",
              "50%                 16577.000000  ...         1.000000\n",
              "75%                 24798.000000  ...         1.000000\n",
              "max                 32982.000000  ...         1.000000\n",
              "\n",
              "[8 rows x 12 columns]"
            ]
          },
          "metadata": {
            "tags": []
          },
          "execution_count": 182
        }
      ]
    },
    {
      "cell_type": "code",
      "metadata": {
        "id": "6_B6zHMtXAL0",
        "colab_type": "code",
        "colab": {
          "base_uri": "https://localhost:8080/",
          "height": 87
        },
        "outputId": "8447fece-00ff-4e45-81af-cf5dd285f0bc"
      },
      "source": [
        "numeric_features = df_clean.select_dtypes(include=[np.number])\n",
        "numeric_features.columns"
      ],
      "execution_count": 183,
      "outputs": [
        {
          "output_type": "execute_result",
          "data": {
            "text/plain": [
              "Index(['ID_Patient_Care_Situation', 'Diagnosed_Condition', 'Patient_Age',\n",
              "       'Patient_Body_Mass_Index', 'A', 'B', 'C', 'D', 'E', 'F',\n",
              "       'Number_of_prev_cond', 'Survived_1_year'],\n",
              "      dtype='object')"
            ]
          },
          "metadata": {
            "tags": []
          },
          "execution_count": 183
        }
      ]
    },
    {
      "cell_type": "code",
      "metadata": {
        "id": "UTetG1w3dbRE",
        "colab_type": "code",
        "colab": {
          "base_uri": "https://localhost:8080/",
          "height": 826
        },
        "outputId": "82f21e65-7634-4e10-cf36-a4e7333a9129"
      },
      "source": [
        "f , ax = plt.subplots(figsize = (14,12))\n",
        "correlation = df_clean.corr()\n",
        "plt.title('Correlation of Numeric Features with Sale Price',y=1,size=16)\n",
        "sns.heatmap(correlation,square = True,annot=True,  vmax=0.8,linecolor=\"white\",cmap=\"viridis\")"
      ],
      "execution_count": 184,
      "outputs": [
        {
          "output_type": "execute_result",
          "data": {
            "text/plain": [
              "<matplotlib.axes._subplots.AxesSubplot at 0x7f1d089192e8>"
            ]
          },
          "metadata": {
            "tags": []
          },
          "execution_count": 184
        },
        {
          "output_type": "display_data",
          "data": {
            "image/png": "[encoded data removed]",
            "text/plain": [
              "<Figure size 1008x864 with 2 Axes>"
            ]
          },
          "metadata": {
            "tags": [],
            "needs_background": "light"
          }
        }
      ]
    },
    {
      "cell_type": "code",
      "metadata": {
        "id": "5v0c4MlpcEUb",
        "colab_type": "code",
        "colab": {
          "base_uri": "https://localhost:8080/",
          "height": 897
        },
        "outputId": "146b7486-e5e0-4271-fdfb-a3ed03adebbd"
      },
      "source": [
        "k=10\n",
        "cols = correlation.nlargest(k,'Survived_1_year')['Survived_1_year'].index\n",
        "print(cols)\n",
        "cm = np.corrcoef(df_clean[cols].values.T)\n",
        "f ,ax = plt.subplots(figsize=(14,12))\n",
        "sns.heatmap(cm,vmax=.8,linewidths=0.01,square=True,annot=True,cmap='viridis',\n",
        "            linecolor=\"white\",xticklabels=cols.values,annot_kws={'size':12},\n",
        "            yticklabels=cols.values)"
      ],
      "execution_count": 185,
      "outputs": [
        {
          "output_type": "stream",
          "text": [
            "Index(['Survived_1_year', 'E', 'F', 'Diagnosed_Condition',\n",
            "       'ID_Patient_Care_Situation', 'C', 'A', 'B', 'Patient_Age',\n",
            "       'Number_of_prev_cond'],\n",
            "      dtype='object')\n"
          ],
          "name": "stdout"
        },
        {
          "output_type": "execute_result",
          "data": {
            "text/plain": [
              "<matplotlib.axes._subplots.AxesSubplot at 0x7f1cff23dbe0>"
            ]
          },
          "metadata": {
            "tags": []
          },
          "execution_count": 185
        },
        {
          "output_type": "display_data",
          "data": {
            "image/png": "[encoded data removed]",
            "text/plain": [
              "<Figure size 1008x864 with 2 Axes>"
            ]
          },
          "metadata": {
            "tags": [],
            "needs_background": "light"
          }
        }
      ]
    },
    {
      "cell_type": "code",
      "metadata": {
        "id": "amRM41yjjTBX",
        "colab_type": "code",
        "colab": {
          "base_uri": "https://localhost:8080/",
          "height": 187
        },
        "outputId": "888a65bb-6d4a-4e0e-f9f3-0fff6eeb1301"
      },
      "source": [
        "df_clean.head(4)"
      ],
      "execution_count": 186,
      "outputs": [
        {
          "output_type": "execute_result",
          "data": {
            "text/html": [
              "<div>\n",
              "<style scoped>\n",
              "    .dataframe tbody tr th:only-of-type {\n",
              "        vertical-align: middle;\n",
              "    }\n",
              "\n",
              "    .dataframe tbody tr th {\n",
              "        vertical-align: top;\n",
              "    }\n",
              "\n",
              "    .dataframe thead th {\n",
              "        text-align: right;\n",
              "    }\n",
              "</style>\n",
              "<table border=\"1\" class=\"dataframe\">\n",
              "  <thead>\n",
              "    <tr style=\"text-align: right;\">\n",
              "      <th></th>\n",
              "      <th>ID_Patient_Care_Situation</th>\n",
              "      <th>Diagnosed_Condition</th>\n",
              "      <th>Treated_with_drugs</th>\n",
              "      <th>Patient_Age</th>\n",
              "      <th>Patient_Body_Mass_Index</th>\n",
              "      <th>Patient_Smoker</th>\n",
              "      <th>Patient_Rural_Urban</th>\n",
              "      <th>Patient_mental_condition</th>\n",
              "      <th>A</th>\n",
              "      <th>B</th>\n",
              "      <th>C</th>\n",
              "      <th>D</th>\n",
              "      <th>E</th>\n",
              "      <th>F</th>\n",
              "      <th>Number_of_prev_cond</th>\n",
              "      <th>Survived_1_year</th>\n",
              "    </tr>\n",
              "  </thead>\n",
              "  <tbody>\n",
              "    <tr>\n",
              "      <th>0</th>\n",
              "      <td>22374</td>\n",
              "      <td>8</td>\n",
              "      <td>DX6</td>\n",
              "      <td>56</td>\n",
              "      <td>18.479385</td>\n",
              "      <td>YES</td>\n",
              "      <td>URBAN</td>\n",
              "      <td>Stable</td>\n",
              "      <td>1.0</td>\n",
              "      <td>0.0</td>\n",
              "      <td>0.0</td>\n",
              "      <td>0.0</td>\n",
              "      <td>1.0</td>\n",
              "      <td>0.0</td>\n",
              "      <td>2.0</td>\n",
              "      <td>0</td>\n",
              "    </tr>\n",
              "    <tr>\n",
              "      <th>1</th>\n",
              "      <td>18164</td>\n",
              "      <td>5</td>\n",
              "      <td>DX2</td>\n",
              "      <td>36</td>\n",
              "      <td>22.945566</td>\n",
              "      <td>YES</td>\n",
              "      <td>RURAL</td>\n",
              "      <td>Stable</td>\n",
              "      <td>1.0</td>\n",
              "      <td>0.0</td>\n",
              "      <td>0.0</td>\n",
              "      <td>0.0</td>\n",
              "      <td>0.0</td>\n",
              "      <td>0.0</td>\n",
              "      <td>1.0</td>\n",
              "      <td>1</td>\n",
              "    </tr>\n",
              "    <tr>\n",
              "      <th>2</th>\n",
              "      <td>6283</td>\n",
              "      <td>23</td>\n",
              "      <td>DX6</td>\n",
              "      <td>48</td>\n",
              "      <td>27.510027</td>\n",
              "      <td>YES</td>\n",
              "      <td>RURAL</td>\n",
              "      <td>Stable</td>\n",
              "      <td>1.0</td>\n",
              "      <td>0.0</td>\n",
              "      <td>0.0</td>\n",
              "      <td>0.0</td>\n",
              "      <td>0.0</td>\n",
              "      <td>0.0</td>\n",
              "      <td>1.0</td>\n",
              "      <td>0</td>\n",
              "    </tr>\n",
              "    <tr>\n",
              "      <th>3</th>\n",
              "      <td>5339</td>\n",
              "      <td>51</td>\n",
              "      <td>DX1</td>\n",
              "      <td>5</td>\n",
              "      <td>19.130976</td>\n",
              "      <td>NO</td>\n",
              "      <td>URBAN</td>\n",
              "      <td>Stable</td>\n",
              "      <td>1.0</td>\n",
              "      <td>0.0</td>\n",
              "      <td>0.0</td>\n",
              "      <td>0.0</td>\n",
              "      <td>0.0</td>\n",
              "      <td>0.0</td>\n",
              "      <td>1.0</td>\n",
              "      <td>1</td>\n",
              "    </tr>\n",
              "  </tbody>\n",
              "</table>\n",
              "</div>"
            ],
            "text/plain": [
              "   ID_Patient_Care_Situation  ...  Survived_1_year\n",
              "0                      22374  ...                0\n",
              "1                      18164  ...                1\n",
              "2                       6283  ...                0\n",
              "3                       5339  ...                1\n",
              "\n",
              "[4 rows x 16 columns]"
            ]
          },
          "metadata": {
            "tags": []
          },
          "execution_count": 186
        }
      ]
    },
    {
      "cell_type": "code",
      "metadata": {
        "id": "Ju6RWBZakAqF",
        "colab_type": "code",
        "colab": {
          "base_uri": "https://localhost:8080/",
          "height": 318
        },
        "outputId": "0b575b35-c65d-44ef-e6a6-f76a73f38a1b"
      },
      "source": [
        "df_clean.dtypes"
      ],
      "execution_count": 187,
      "outputs": [
        {
          "output_type": "execute_result",
          "data": {
            "text/plain": [
              "ID_Patient_Care_Situation      int64\n",
              "Diagnosed_Condition            int64\n",
              "Treated_with_drugs            object\n",
              "Patient_Age                    int64\n",
              "Patient_Body_Mass_Index      float64\n",
              "Patient_Smoker                object\n",
              "Patient_Rural_Urban           object\n",
              "Patient_mental_condition      object\n",
              "A                            float64\n",
              "B                            float64\n",
              "C                            float64\n",
              "D                            float64\n",
              "E                            float64\n",
              "F                            float64\n",
              "Number_of_prev_cond          float64\n",
              "Survived_1_year                int64\n",
              "dtype: object"
            ]
          },
          "metadata": {
            "tags": []
          },
          "execution_count": 187
        }
      ]
    },
    {
      "cell_type": "code",
      "metadata": {
        "id": "rM_VIweEkEpk",
        "colab_type": "code",
        "colab": {}
      },
      "source": [
        "col_cat  =['Treated_with_drugs','Patient_Smoker','Patient_Rural_Urban','Patient_mental_condition']\n",
        "\n"
      ],
      "execution_count": 188,
      "outputs": []
    },
    {
      "cell_type": "code",
      "metadata": {
        "id": "84_6NfFqlxaV",
        "colab_type": "code",
        "colab": {}
      },
      "source": [
        "from sklearn.preprocessing import OneHotEncoder"
      ],
      "execution_count": 189,
      "outputs": []
    },
    {
      "cell_type": "code",
      "metadata": {
        "id": "5a-XZKzqznRn",
        "colab_type": "code",
        "colab": {}
      },
      "source": [
        "enc_dummies = df_clean.copy()"
      ],
      "execution_count": 190,
      "outputs": []
    },
    {
      "cell_type": "code",
      "metadata": {
        "id": "50LkNmsKynh0",
        "colab_type": "code",
        "colab": {}
      },
      "source": [
        "for i in col_cat:\n",
        "  enc_dummies = pd.get_dummies(enc_dummies,columns=[i],prefix=[i])"
      ],
      "execution_count": 191,
      "outputs": []
    },
    {
      "cell_type": "code",
      "metadata": {
        "id": "MVd5_fBV1JVC",
        "colab_type": "code",
        "colab": {
          "base_uri": "https://localhost:8080/",
          "height": 234
        },
        "outputId": "4c020996-9bf7-407e-f85b-11970099a9a2"
      },
      "source": [
        "enc_dummies.head()"
      ],
      "execution_count": 192,
      "outputs": [
        {
          "output_type": "execute_result",
          "data": {
            "text/html": [
              "<div>\n",
              "<style scoped>\n",
              "    .dataframe tbody tr th:only-of-type {\n",
              "        vertical-align: middle;\n",
              "    }\n",
              "\n",
              "    .dataframe tbody tr th {\n",
              "        vertical-align: top;\n",
              "    }\n",
              "\n",
              "    .dataframe thead th {\n",
              "        text-align: right;\n",
              "    }\n",
              "</style>\n",
              "<table border=\"1\" class=\"dataframe\">\n",
              "  <thead>\n",
              "    <tr style=\"text-align: right;\">\n",
              "      <th></th>\n",
              "      <th>ID_Patient_Care_Situation</th>\n",
              "      <th>Diagnosed_Condition</th>\n",
              "      <th>Patient_Age</th>\n",
              "      <th>Patient_Body_Mass_Index</th>\n",
              "      <th>A</th>\n",
              "      <th>B</th>\n",
              "      <th>C</th>\n",
              "      <th>D</th>\n",
              "      <th>E</th>\n",
              "      <th>F</th>\n",
              "      <th>Number_of_prev_cond</th>\n",
              "      <th>Survived_1_year</th>\n",
              "      <th>Treated_with_drugs_DX1</th>\n",
              "      <th>Treated_with_drugs_DX1 DX2</th>\n",
              "      <th>Treated_with_drugs_DX1 DX2 DX3</th>\n",
              "      <th>Treated_with_drugs_DX1 DX2 DX3 DX4</th>\n",
              "      <th>Treated_with_drugs_DX1 DX2 DX3 DX4 DX5</th>\n",
              "      <th>Treated_with_drugs_DX1 DX2 DX3 DX5</th>\n",
              "      <th>Treated_with_drugs_DX1 DX2 DX4</th>\n",
              "      <th>Treated_with_drugs_DX1 DX2 DX4 DX5</th>\n",
              "      <th>Treated_with_drugs_DX1 DX2 DX5</th>\n",
              "      <th>Treated_with_drugs_DX1 DX3</th>\n",
              "      <th>Treated_with_drugs_DX1 DX3 DX4</th>\n",
              "      <th>Treated_with_drugs_DX1 DX3 DX4 DX5</th>\n",
              "      <th>Treated_with_drugs_DX1 DX3 DX5</th>\n",
              "      <th>Treated_with_drugs_DX1 DX4</th>\n",
              "      <th>Treated_with_drugs_DX1 DX4 DX5</th>\n",
              "      <th>Treated_with_drugs_DX1 DX5</th>\n",
              "      <th>Treated_with_drugs_DX2</th>\n",
              "      <th>Treated_with_drugs_DX2 DX3</th>\n",
              "      <th>Treated_with_drugs_DX2 DX3 DX4</th>\n",
              "      <th>Treated_with_drugs_DX2 DX3 DX4 DX5</th>\n",
              "      <th>Treated_with_drugs_DX2 DX3 DX5</th>\n",
              "      <th>Treated_with_drugs_DX2 DX4</th>\n",
              "      <th>Treated_with_drugs_DX2 DX4 DX5</th>\n",
              "      <th>Treated_with_drugs_DX2 DX5</th>\n",
              "      <th>Treated_with_drugs_DX3</th>\n",
              "      <th>Treated_with_drugs_DX3 DX4</th>\n",
              "      <th>Treated_with_drugs_DX3 DX4 DX5</th>\n",
              "      <th>Treated_with_drugs_DX3 DX5</th>\n",
              "      <th>Treated_with_drugs_DX4</th>\n",
              "      <th>Treated_with_drugs_DX4 DX5</th>\n",
              "      <th>Treated_with_drugs_DX5</th>\n",
              "      <th>Treated_with_drugs_DX6</th>\n",
              "      <th>Patient_Smoker_NO</th>\n",
              "      <th>Patient_Smoker_YES</th>\n",
              "      <th>Patient_Rural_Urban_RURAL</th>\n",
              "      <th>Patient_Rural_Urban_URBAN</th>\n",
              "      <th>Patient_mental_condition_Stable</th>\n",
              "    </tr>\n",
              "  </thead>\n",
              "  <tbody>\n",
              "    <tr>\n",
              "      <th>0</th>\n",
              "      <td>22374</td>\n",
              "      <td>8</td>\n",
              "      <td>56</td>\n",
              "      <td>18.479385</td>\n",
              "      <td>1.0</td>\n",
              "      <td>0.0</td>\n",
              "      <td>0.0</td>\n",
              "      <td>0.0</td>\n",
              "      <td>1.0</td>\n",
              "      <td>0.0</td>\n",
              "      <td>2.0</td>\n",
              "      <td>0</td>\n",
              "      <td>0</td>\n",
              "      <td>0</td>\n",
              "      <td>0</td>\n",
              "      <td>0</td>\n",
              "      <td>0</td>\n",
              "      <td>0</td>\n",
              "      <td>0</td>\n",
              "      <td>0</td>\n",
              "      <td>0</td>\n",
              "      <td>0</td>\n",
              "      <td>0</td>\n",
              "      <td>0</td>\n",
              "      <td>0</td>\n",
              "      <td>0</td>\n",
              "      <td>0</td>\n",
              "      <td>0</td>\n",
              "      <td>0</td>\n",
              "      <td>0</td>\n",
              "      <td>0</td>\n",
              "      <td>0</td>\n",
              "      <td>0</td>\n",
              "      <td>0</td>\n",
              "      <td>0</td>\n",
              "      <td>0</td>\n",
              "      <td>0</td>\n",
              "      <td>0</td>\n",
              "      <td>0</td>\n",
              "      <td>0</td>\n",
              "      <td>0</td>\n",
              "      <td>0</td>\n",
              "      <td>0</td>\n",
              "      <td>1</td>\n",
              "      <td>0</td>\n",
              "      <td>1</td>\n",
              "      <td>0</td>\n",
              "      <td>1</td>\n",
              "      <td>1</td>\n",
              "    </tr>\n",
              "    <tr>\n",
              "      <th>1</th>\n",
              "      <td>18164</td>\n",
              "      <td>5</td>\n",
              "      <td>36</td>\n",
              "      <td>22.945566</td>\n",
              "      <td>1.0</td>\n",
              "      <td>0.0</td>\n",
              "      <td>0.0</td>\n",
              "      <td>0.0</td>\n",
              "      <td>0.0</td>\n",
              "      <td>0.0</td>\n",
              "      <td>1.0</td>\n",
              "      <td>1</td>\n",
              "      <td>0</td>\n",
              "      <td>0</td>\n",
              "      <td>0</td>\n",
              "      <td>0</td>\n",
              "      <td>0</td>\n",
              "      <td>0</td>\n",
              "      <td>0</td>\n",
              "      <td>0</td>\n",
              "      <td>0</td>\n",
              "      <td>0</td>\n",
              "      <td>0</td>\n",
              "      <td>0</td>\n",
              "      <td>0</td>\n",
              "      <td>0</td>\n",
              "      <td>0</td>\n",
              "      <td>0</td>\n",
              "      <td>1</td>\n",
              "      <td>0</td>\n",
              "      <td>0</td>\n",
              "      <td>0</td>\n",
              "      <td>0</td>\n",
              "      <td>0</td>\n",
              "      <td>0</td>\n",
              "      <td>0</td>\n",
              "      <td>0</td>\n",
              "      <td>0</td>\n",
              "      <td>0</td>\n",
              "      <td>0</td>\n",
              "      <td>0</td>\n",
              "      <td>0</td>\n",
              "      <td>0</td>\n",
              "      <td>0</td>\n",
              "      <td>0</td>\n",
              "      <td>1</td>\n",
              "      <td>1</td>\n",
              "      <td>0</td>\n",
              "      <td>1</td>\n",
              "    </tr>\n",
              "    <tr>\n",
              "      <th>2</th>\n",
              "      <td>6283</td>\n",
              "      <td>23</td>\n",
              "      <td>48</td>\n",
              "      <td>27.510027</td>\n",
              "      <td>1.0</td>\n",
              "      <td>0.0</td>\n",
              "      <td>0.0</td>\n",
              "      <td>0.0</td>\n",
              "      <td>0.0</td>\n",
              "      <td>0.0</td>\n",
              "      <td>1.0</td>\n",
              "      <td>0</td>\n",
              "      <td>0</td>\n",
              "      <td>0</td>\n",
              "      <td>0</td>\n",
              "      <td>0</td>\n",
              "      <td>0</td>\n",
              "      <td>0</td>\n",
              "      <td>0</td>\n",
              "      <td>0</td>\n",
              "      <td>0</td>\n",
              "      <td>0</td>\n",
              "      <td>0</td>\n",
              "      <td>0</td>\n",
              "      <td>0</td>\n",
              "      <td>0</td>\n",
              "      <td>0</td>\n",
              "      <td>0</td>\n",
              "      <td>0</td>\n",
              "      <td>0</td>\n",
              "      <td>0</td>\n",
              "      <td>0</td>\n",
              "      <td>0</td>\n",
              "      <td>0</td>\n",
              "      <td>0</td>\n",
              "      <td>0</td>\n",
              "      <td>0</td>\n",
              "      <td>0</td>\n",
              "      <td>0</td>\n",
              "      <td>0</td>\n",
              "      <td>0</td>\n",
              "      <td>0</td>\n",
              "      <td>0</td>\n",
              "      <td>1</td>\n",
              "      <td>0</td>\n",
              "      <td>1</td>\n",
              "      <td>1</td>\n",
              "      <td>0</td>\n",
              "      <td>1</td>\n",
              "    </tr>\n",
              "    <tr>\n",
              "      <th>3</th>\n",
              "      <td>5339</td>\n",
              "      <td>51</td>\n",
              "      <td>5</td>\n",
              "      <td>19.130976</td>\n",
              "      <td>1.0</td>\n",
              "      <td>0.0</td>\n",
              "      <td>0.0</td>\n",
              "      <td>0.0</td>\n",
              "      <td>0.0</td>\n",
              "      <td>0.0</td>\n",
              "      <td>1.0</td>\n",
              "      <td>1</td>\n",
              "      <td>1</td>\n",
              "      <td>0</td>\n",
              "      <td>0</td>\n",
              "      <td>0</td>\n",
              "      <td>0</td>\n",
              "      <td>0</td>\n",
              "      <td>0</td>\n",
              "      <td>0</td>\n",
              "      <td>0</td>\n",
              "      <td>0</td>\n",
              "      <td>0</td>\n",
              "      <td>0</td>\n",
              "      <td>0</td>\n",
              "      <td>0</td>\n",
              "      <td>0</td>\n",
              "      <td>0</td>\n",
              "      <td>0</td>\n",
              "      <td>0</td>\n",
              "      <td>0</td>\n",
              "      <td>0</td>\n",
              "      <td>0</td>\n",
              "      <td>0</td>\n",
              "      <td>0</td>\n",
              "      <td>0</td>\n",
              "      <td>0</td>\n",
              "      <td>0</td>\n",
              "      <td>0</td>\n",
              "      <td>0</td>\n",
              "      <td>0</td>\n",
              "      <td>0</td>\n",
              "      <td>0</td>\n",
              "      <td>0</td>\n",
              "      <td>1</td>\n",
              "      <td>0</td>\n",
              "      <td>0</td>\n",
              "      <td>1</td>\n",
              "      <td>1</td>\n",
              "    </tr>\n",
              "    <tr>\n",
              "      <th>5</th>\n",
              "      <td>10808</td>\n",
              "      <td>45</td>\n",
              "      <td>47</td>\n",
              "      <td>26.155120</td>\n",
              "      <td>1.0</td>\n",
              "      <td>0.0</td>\n",
              "      <td>0.0</td>\n",
              "      <td>0.0</td>\n",
              "      <td>0.0</td>\n",
              "      <td>0.0</td>\n",
              "      <td>1.0</td>\n",
              "      <td>0</td>\n",
              "      <td>0</td>\n",
              "      <td>0</td>\n",
              "      <td>0</td>\n",
              "      <td>0</td>\n",
              "      <td>0</td>\n",
              "      <td>0</td>\n",
              "      <td>0</td>\n",
              "      <td>0</td>\n",
              "      <td>0</td>\n",
              "      <td>0</td>\n",
              "      <td>0</td>\n",
              "      <td>0</td>\n",
              "      <td>0</td>\n",
              "      <td>0</td>\n",
              "      <td>0</td>\n",
              "      <td>0</td>\n",
              "      <td>0</td>\n",
              "      <td>0</td>\n",
              "      <td>0</td>\n",
              "      <td>0</td>\n",
              "      <td>0</td>\n",
              "      <td>0</td>\n",
              "      <td>0</td>\n",
              "      <td>0</td>\n",
              "      <td>0</td>\n",
              "      <td>0</td>\n",
              "      <td>0</td>\n",
              "      <td>0</td>\n",
              "      <td>0</td>\n",
              "      <td>0</td>\n",
              "      <td>0</td>\n",
              "      <td>1</td>\n",
              "      <td>0</td>\n",
              "      <td>1</td>\n",
              "      <td>0</td>\n",
              "      <td>1</td>\n",
              "      <td>1</td>\n",
              "    </tr>\n",
              "  </tbody>\n",
              "</table>\n",
              "</div>"
            ],
            "text/plain": [
              "   ID_Patient_Care_Situation  ...  Patient_mental_condition_Stable\n",
              "0                      22374  ...                                1\n",
              "1                      18164  ...                                1\n",
              "2                       6283  ...                                1\n",
              "3                       5339  ...                                1\n",
              "5                      10808  ...                                1\n",
              "\n",
              "[5 rows x 49 columns]"
            ]
          },
          "metadata": {
            "tags": []
          },
          "execution_count": 192
        }
      ]
    },
    {
      "cell_type": "code",
      "metadata": {
        "id": "4DNsfKyylctY",
        "colab_type": "code",
        "colab": {
          "base_uri": "https://localhost:8080/",
          "height": 204
        },
        "outputId": "6f485115-150f-460a-b3f6-1d3d241ae803"
      },
      "source": [
        "enc_dummies.head(4)"
      ],
      "execution_count": 193,
      "outputs": [
        {
          "output_type": "execute_result",
          "data": {
            "text/html": [
              "<div>\n",
              "<style scoped>\n",
              "    .dataframe tbody tr th:only-of-type {\n",
              "        vertical-align: middle;\n",
              "    }\n",
              "\n",
              "    .dataframe tbody tr th {\n",
              "        vertical-align: top;\n",
              "    }\n",
              "\n",
              "    .dataframe thead th {\n",
              "        text-align: right;\n",
              "    }\n",
              "</style>\n",
              "<table border=\"1\" class=\"dataframe\">\n",
              "  <thead>\n",
              "    <tr style=\"text-align: right;\">\n",
              "      <th></th>\n",
              "      <th>ID_Patient_Care_Situation</th>\n",
              "      <th>Diagnosed_Condition</th>\n",
              "      <th>Patient_Age</th>\n",
              "      <th>Patient_Body_Mass_Index</th>\n",
              "      <th>A</th>\n",
              "      <th>B</th>\n",
              "      <th>C</th>\n",
              "      <th>D</th>\n",
              "      <th>E</th>\n",
              "      <th>F</th>\n",
              "      <th>Number_of_prev_cond</th>\n",
              "      <th>Survived_1_year</th>\n",
              "      <th>Treated_with_drugs_DX1</th>\n",
              "      <th>Treated_with_drugs_DX1 DX2</th>\n",
              "      <th>Treated_with_drugs_DX1 DX2 DX3</th>\n",
              "      <th>Treated_with_drugs_DX1 DX2 DX3 DX4</th>\n",
              "      <th>Treated_with_drugs_DX1 DX2 DX3 DX4 DX5</th>\n",
              "      <th>Treated_with_drugs_DX1 DX2 DX3 DX5</th>\n",
              "      <th>Treated_with_drugs_DX1 DX2 DX4</th>\n",
              "      <th>Treated_with_drugs_DX1 DX2 DX4 DX5</th>\n",
              "      <th>Treated_with_drugs_DX1 DX2 DX5</th>\n",
              "      <th>Treated_with_drugs_DX1 DX3</th>\n",
              "      <th>Treated_with_drugs_DX1 DX3 DX4</th>\n",
              "      <th>Treated_with_drugs_DX1 DX3 DX4 DX5</th>\n",
              "      <th>Treated_with_drugs_DX1 DX3 DX5</th>\n",
              "      <th>Treated_with_drugs_DX1 DX4</th>\n",
              "      <th>Treated_with_drugs_DX1 DX4 DX5</th>\n",
              "      <th>Treated_with_drugs_DX1 DX5</th>\n",
              "      <th>Treated_with_drugs_DX2</th>\n",
              "      <th>Treated_with_drugs_DX2 DX3</th>\n",
              "      <th>Treated_with_drugs_DX2 DX3 DX4</th>\n",
              "      <th>Treated_with_drugs_DX2 DX3 DX4 DX5</th>\n",
              "      <th>Treated_with_drugs_DX2 DX3 DX5</th>\n",
              "      <th>Treated_with_drugs_DX2 DX4</th>\n",
              "      <th>Treated_with_drugs_DX2 DX4 DX5</th>\n",
              "      <th>Treated_with_drugs_DX2 DX5</th>\n",
              "      <th>Treated_with_drugs_DX3</th>\n",
              "      <th>Treated_with_drugs_DX3 DX4</th>\n",
              "      <th>Treated_with_drugs_DX3 DX4 DX5</th>\n",
              "      <th>Treated_with_drugs_DX3 DX5</th>\n",
              "      <th>Treated_with_drugs_DX4</th>\n",
              "      <th>Treated_with_drugs_DX4 DX5</th>\n",
              "      <th>Treated_with_drugs_DX5</th>\n",
              "      <th>Treated_with_drugs_DX6</th>\n",
              "      <th>Patient_Smoker_NO</th>\n",
              "      <th>Patient_Smoker_YES</th>\n",
              "      <th>Patient_Rural_Urban_RURAL</th>\n",
              "      <th>Patient_Rural_Urban_URBAN</th>\n",
              "      <th>Patient_mental_condition_Stable</th>\n",
              "    </tr>\n",
              "  </thead>\n",
              "  <tbody>\n",
              "    <tr>\n",
              "      <th>0</th>\n",
              "      <td>22374</td>\n",
              "      <td>8</td>\n",
              "      <td>56</td>\n",
              "      <td>18.479385</td>\n",
              "      <td>1.0</td>\n",
              "      <td>0.0</td>\n",
              "      <td>0.0</td>\n",
              "      <td>0.0</td>\n",
              "      <td>1.0</td>\n",
              "      <td>0.0</td>\n",
              "      <td>2.0</td>\n",
              "      <td>0</td>\n",
              "      <td>0</td>\n",
              "      <td>0</td>\n",
              "      <td>0</td>\n",
              "      <td>0</td>\n",
              "      <td>0</td>\n",
              "      <td>0</td>\n",
              "      <td>0</td>\n",
              "      <td>0</td>\n",
              "      <td>0</td>\n",
              "      <td>0</td>\n",
              "      <td>0</td>\n",
              "      <td>0</td>\n",
              "      <td>0</td>\n",
              "      <td>0</td>\n",
              "      <td>0</td>\n",
              "      <td>0</td>\n",
              "      <td>0</td>\n",
              "      <td>0</td>\n",
              "      <td>0</td>\n",
              "      <td>0</td>\n",
              "      <td>0</td>\n",
              "      <td>0</td>\n",
              "      <td>0</td>\n",
              "      <td>0</td>\n",
              "      <td>0</td>\n",
              "      <td>0</td>\n",
              "      <td>0</td>\n",
              "      <td>0</td>\n",
              "      <td>0</td>\n",
              "      <td>0</td>\n",
              "      <td>0</td>\n",
              "      <td>1</td>\n",
              "      <td>0</td>\n",
              "      <td>1</td>\n",
              "      <td>0</td>\n",
              "      <td>1</td>\n",
              "      <td>1</td>\n",
              "    </tr>\n",
              "    <tr>\n",
              "      <th>1</th>\n",
              "      <td>18164</td>\n",
              "      <td>5</td>\n",
              "      <td>36</td>\n",
              "      <td>22.945566</td>\n",
              "      <td>1.0</td>\n",
              "      <td>0.0</td>\n",
              "      <td>0.0</td>\n",
              "      <td>0.0</td>\n",
              "      <td>0.0</td>\n",
              "      <td>0.0</td>\n",
              "      <td>1.0</td>\n",
              "      <td>1</td>\n",
              "      <td>0</td>\n",
              "      <td>0</td>\n",
              "      <td>0</td>\n",
              "      <td>0</td>\n",
              "      <td>0</td>\n",
              "      <td>0</td>\n",
              "      <td>0</td>\n",
              "      <td>0</td>\n",
              "      <td>0</td>\n",
              "      <td>0</td>\n",
              "      <td>0</td>\n",
              "      <td>0</td>\n",
              "      <td>0</td>\n",
              "      <td>0</td>\n",
              "      <td>0</td>\n",
              "      <td>0</td>\n",
              "      <td>1</td>\n",
              "      <td>0</td>\n",
              "      <td>0</td>\n",
              "      <td>0</td>\n",
              "      <td>0</td>\n",
              "      <td>0</td>\n",
              "      <td>0</td>\n",
              "      <td>0</td>\n",
              "      <td>0</td>\n",
              "      <td>0</td>\n",
              "      <td>0</td>\n",
              "      <td>0</td>\n",
              "      <td>0</td>\n",
              "      <td>0</td>\n",
              "      <td>0</td>\n",
              "      <td>0</td>\n",
              "      <td>0</td>\n",
              "      <td>1</td>\n",
              "      <td>1</td>\n",
              "      <td>0</td>\n",
              "      <td>1</td>\n",
              "    </tr>\n",
              "    <tr>\n",
              "      <th>2</th>\n",
              "      <td>6283</td>\n",
              "      <td>23</td>\n",
              "      <td>48</td>\n",
              "      <td>27.510027</td>\n",
              "      <td>1.0</td>\n",
              "      <td>0.0</td>\n",
              "      <td>0.0</td>\n",
              "      <td>0.0</td>\n",
              "      <td>0.0</td>\n",
              "      <td>0.0</td>\n",
              "      <td>1.0</td>\n",
              "      <td>0</td>\n",
              "      <td>0</td>\n",
              "      <td>0</td>\n",
              "      <td>0</td>\n",
              "      <td>0</td>\n",
              "      <td>0</td>\n",
              "      <td>0</td>\n",
              "      <td>0</td>\n",
              "      <td>0</td>\n",
              "      <td>0</td>\n",
              "      <td>0</td>\n",
              "      <td>0</td>\n",
              "      <td>0</td>\n",
              "      <td>0</td>\n",
              "      <td>0</td>\n",
              "      <td>0</td>\n",
              "      <td>0</td>\n",
              "      <td>0</td>\n",
              "      <td>0</td>\n",
              "      <td>0</td>\n",
              "      <td>0</td>\n",
              "      <td>0</td>\n",
              "      <td>0</td>\n",
              "      <td>0</td>\n",
              "      <td>0</td>\n",
              "      <td>0</td>\n",
              "      <td>0</td>\n",
              "      <td>0</td>\n",
              "      <td>0</td>\n",
              "      <td>0</td>\n",
              "      <td>0</td>\n",
              "      <td>0</td>\n",
              "      <td>1</td>\n",
              "      <td>0</td>\n",
              "      <td>1</td>\n",
              "      <td>1</td>\n",
              "      <td>0</td>\n",
              "      <td>1</td>\n",
              "    </tr>\n",
              "    <tr>\n",
              "      <th>3</th>\n",
              "      <td>5339</td>\n",
              "      <td>51</td>\n",
              "      <td>5</td>\n",
              "      <td>19.130976</td>\n",
              "      <td>1.0</td>\n",
              "      <td>0.0</td>\n",
              "      <td>0.0</td>\n",
              "      <td>0.0</td>\n",
              "      <td>0.0</td>\n",
              "      <td>0.0</td>\n",
              "      <td>1.0</td>\n",
              "      <td>1</td>\n",
              "      <td>1</td>\n",
              "      <td>0</td>\n",
              "      <td>0</td>\n",
              "      <td>0</td>\n",
              "      <td>0</td>\n",
              "      <td>0</td>\n",
              "      <td>0</td>\n",
              "      <td>0</td>\n",
              "      <td>0</td>\n",
              "      <td>0</td>\n",
              "      <td>0</td>\n",
              "      <td>0</td>\n",
              "      <td>0</td>\n",
              "      <td>0</td>\n",
              "      <td>0</td>\n",
              "      <td>0</td>\n",
              "      <td>0</td>\n",
              "      <td>0</td>\n",
              "      <td>0</td>\n",
              "      <td>0</td>\n",
              "      <td>0</td>\n",
              "      <td>0</td>\n",
              "      <td>0</td>\n",
              "      <td>0</td>\n",
              "      <td>0</td>\n",
              "      <td>0</td>\n",
              "      <td>0</td>\n",
              "      <td>0</td>\n",
              "      <td>0</td>\n",
              "      <td>0</td>\n",
              "      <td>0</td>\n",
              "      <td>0</td>\n",
              "      <td>1</td>\n",
              "      <td>0</td>\n",
              "      <td>0</td>\n",
              "      <td>1</td>\n",
              "      <td>1</td>\n",
              "    </tr>\n",
              "  </tbody>\n",
              "</table>\n",
              "</div>"
            ],
            "text/plain": [
              "   ID_Patient_Care_Situation  ...  Patient_mental_condition_Stable\n",
              "0                      22374  ...                                1\n",
              "1                      18164  ...                                1\n",
              "2                       6283  ...                                1\n",
              "3                       5339  ...                                1\n",
              "\n",
              "[4 rows x 49 columns]"
            ]
          },
          "metadata": {
            "tags": []
          },
          "execution_count": 193
        }
      ]
    },
    {
      "cell_type": "code",
      "metadata": {
        "id": "AcNYjFYE4oPq",
        "colab_type": "code",
        "colab": {}
      },
      "source": [
        "enc_dummies = enc_dummies.drop('ID_Patient_Care_Situation',axis=1)"
      ],
      "execution_count": 194,
      "outputs": []
    },
    {
      "cell_type": "code",
      "metadata": {
        "id": "7YvNTdLE4Qg9",
        "colab_type": "code",
        "colab": {}
      },
      "source": [
        "X = enc_dummies.drop(\"Survived_1_year\",axis=1)\n",
        "y = enc_dummies['Survived_1_year']"
      ],
      "execution_count": 195,
      "outputs": []
    },
    {
      "cell_type": "markdown",
      "metadata": {
        "id": "QBy8XvtI327a",
        "colab_type": "text"
      },
      "source": [
        "\n",
        "\n",
        "---\n",
        "\n",
        "# SPLIT"
      ]
    },
    {
      "cell_type": "code",
      "metadata": {
        "id": "M7ZlagdX32NK",
        "colab_type": "code",
        "colab": {}
      },
      "source": [
        "from sklearn.model_selection import train_test_split"
      ],
      "execution_count": 40,
      "outputs": []
    },
    {
      "cell_type": "code",
      "metadata": {
        "id": "WRQFu5Vc32eF",
        "colab_type": "code",
        "colab": {}
      },
      "source": [
        "X_train,X_test,y_train,y_test = train_test_split(X,y,test_size=0.25,random_state=6)"
      ],
      "execution_count": 41,
      "outputs": []
    },
    {
      "cell_type": "code",
      "metadata": {
        "id": "x2fAvTTX5I25",
        "colab_type": "code",
        "colab": {
          "base_uri": "https://localhost:8080/",
          "height": 52
        },
        "outputId": "50f3935e-0958-4c64-fbb5-a11b87011cec"
      },
      "source": [
        "print(\"X_train\"+str(X_train.shape)+\" y_train \"+str(y_train.shape))\n",
        "print(\"X_test\"+str(X_test.shape)+\" y_test \"+str(y_test.shape))"
      ],
      "execution_count": 42,
      "outputs": [
        {
          "output_type": "stream",
          "text": [
            "X_train(16386, 47) y_train (16386,)\n",
            "X_test(5463, 47) y_test (5463,)\n"
          ],
          "name": "stdout"
        }
      ]
    },
    {
      "cell_type": "markdown",
      "metadata": {
        "id": "v2zMdh1t3o3h",
        "colab_type": "text"
      },
      "source": [
        "\n",
        "\n",
        "---\n",
        "\n",
        "## MODEL"
      ]
    },
    {
      "cell_type": "code",
      "metadata": {
        "id": "sfseXqxIimPb",
        "colab_type": "code",
        "colab": {}
      },
      "source": [
        "from sklearn.linear_model import LogisticRegression\n",
        "from sklearn.metrics import accuracy_score, f1_score\n",
        "from sklearn.model_selection import GridSearchCV"
      ],
      "execution_count": 43,
      "outputs": []
    },
    {
      "cell_type": "code",
      "metadata": {
        "id": "-mHwP9afi9kp",
        "colab_type": "code",
        "colab": {}
      },
      "source": [
        "logreg = LogisticRegression(n_jobs=-1)"
      ],
      "execution_count": 44,
      "outputs": []
    },
    {
      "cell_type": "code",
      "metadata": {
        "id": "sman7MVM6H_x",
        "colab_type": "code",
        "colab": {
          "base_uri": "https://localhost:8080/",
          "height": 105
        },
        "outputId": "b9b26787-c179-4103-967c-d39f92b136af"
      },
      "source": [
        "logreg.fit(X_train,y_train)"
      ],
      "execution_count": 45,
      "outputs": [
        {
          "output_type": "execute_result",
          "data": {
            "text/plain": [
              "LogisticRegression(C=1.0, class_weight=None, dual=False, fit_intercept=True,\n",
              "                   intercept_scaling=1, l1_ratio=None, max_iter=100,\n",
              "                   multi_class='auto', n_jobs=-1, penalty='l2',\n",
              "                   random_state=None, solver='lbfgs', tol=0.0001, verbose=0,\n",
              "                   warm_start=False)"
            ]
          },
          "metadata": {
            "tags": []
          },
          "execution_count": 45
        }
      ]
    },
    {
      "cell_type": "code",
      "metadata": {
        "id": "hhNbP5WY6LGD",
        "colab_type": "code",
        "colab": {}
      },
      "source": [
        "y_pred = logreg.predict(X_test)"
      ],
      "execution_count": 46,
      "outputs": []
    },
    {
      "cell_type": "code",
      "metadata": {
        "id": "bYgyrLG96oVG",
        "colab_type": "code",
        "colab": {
          "base_uri": "https://localhost:8080/",
          "height": 52
        },
        "outputId": "06d01fe1-ed42-4313-86c7-719ea04e5d4d"
      },
      "source": [
        "print(\"Acurracy Base\",accuracy_score(y_test,y_pred))\n",
        "print(\"F1 BAse\",f1_score(y_test,y_pred))\n"
      ],
      "execution_count": 47,
      "outputs": [
        {
          "output_type": "stream",
          "text": [
            "Acurracy Base 0.7411678564891085\n",
            "F1 BAse 0.8072519083969465\n"
          ],
          "name": "stdout"
        }
      ]
    },
    {
      "cell_type": "markdown",
      "metadata": {
        "id": "pHjC07J5_p55",
        "colab_type": "text"
      },
      "source": [
        "# Feature Selection\n",
        "\n",
        "---\n",
        "\n",
        "\n",
        "\n",
        "---\n",
        "\n"
      ]
    },
    {
      "cell_type": "code",
      "metadata": {
        "id": "gM_y767M_t1n",
        "colab_type": "code",
        "colab": {}
      },
      "source": [
        "from sklearn.feature_selection import RFE"
      ],
      "execution_count": 48,
      "outputs": []
    },
    {
      "cell_type": "code",
      "metadata": {
        "id": "7UwThv8Y_zOp",
        "colab_type": "code",
        "colab": {
          "base_uri": "https://localhost:8080/",
          "height": 141
        },
        "outputId": "6b512cef-8585-4f18-b8b6-f838c17c9da3"
      },
      "source": [
        "rfe = RFE(estimator= logreg,step=1)\n",
        "\n",
        "fit  =rfe.fit(X_train,y_train)\n",
        "\n",
        "print(\"Num features %d\"%fit.n_features_)\n",
        "print(\"Selected features %s\"% fit.support_)\n",
        "print(\"Feature ranking: %s\"% fit.ranking_)"
      ],
      "execution_count": 49,
      "outputs": [
        {
          "output_type": "stream",
          "text": [
            "Num features 23\n",
            "Selected features [False False False False False False  True  True  True  True False  True\n",
            "  True  True False False False False  True  True  True False  True False\n",
            "  True  True False False False False  True False  True  True False False\n",
            "  True  True False False  True  True  True  True  True False False]\n",
            "Feature ranking: [24 25 15  4 13 19  1  1  1  1 23  1  1  1 18 20  8 21  1  1  1  3  1 22\n",
            "  1  1  9 14 16 17  1  6  1  1 11 10  1  1  5  2  1  1  1  1  1 12  7]\n"
          ],
          "name": "stdout"
        }
      ]
    },
    {
      "cell_type": "code",
      "metadata": {
        "id": "6LAELnDUAVT2",
        "colab_type": "code",
        "colab": {
          "base_uri": "https://localhost:8080/",
          "height": 1000
        },
        "outputId": "36f93514-864d-4e63-f206-9d587e5efa6c"
      },
      "source": [
        "selected_rfe = pd.DataFrame({\"Feature\":list(X_train.columns),\n",
        "                             \"Ranking\":rfe.ranking_})\n",
        "selected_rfe.sort_values(by=\"Ranking\",ascending=False)"
      ],
      "execution_count": 50,
      "outputs": [
        {
          "output_type": "execute_result",
          "data": {
            "text/html": [
              "<div>\n",
              "<style scoped>\n",
              "    .dataframe tbody tr th:only-of-type {\n",
              "        vertical-align: middle;\n",
              "    }\n",
              "\n",
              "    .dataframe tbody tr th {\n",
              "        vertical-align: top;\n",
              "    }\n",
              "\n",
              "    .dataframe thead th {\n",
              "        text-align: right;\n",
              "    }\n",
              "</style>\n",
              "<table border=\"1\" class=\"dataframe\">\n",
              "  <thead>\n",
              "    <tr style=\"text-align: right;\">\n",
              "      <th></th>\n",
              "      <th>Feature</th>\n",
              "      <th>Ranking</th>\n",
              "    </tr>\n",
              "  </thead>\n",
              "  <tbody>\n",
              "    <tr>\n",
              "      <th>1</th>\n",
              "      <td>Patient_Age</td>\n",
              "      <td>25</td>\n",
              "    </tr>\n",
              "    <tr>\n",
              "      <th>0</th>\n",
              "      <td>Diagnosed_Condition</td>\n",
              "      <td>24</td>\n",
              "    </tr>\n",
              "    <tr>\n",
              "      <th>10</th>\n",
              "      <td>Treated_with_drugs_DX1</td>\n",
              "      <td>23</td>\n",
              "    </tr>\n",
              "    <tr>\n",
              "      <th>23</th>\n",
              "      <td>Treated_with_drugs_DX1 DX4</td>\n",
              "      <td>22</td>\n",
              "    </tr>\n",
              "    <tr>\n",
              "      <th>17</th>\n",
              "      <td>Treated_with_drugs_DX1 DX2 DX4 DX5</td>\n",
              "      <td>21</td>\n",
              "    </tr>\n",
              "    <tr>\n",
              "      <th>15</th>\n",
              "      <td>Treated_with_drugs_DX1 DX2 DX3 DX5</td>\n",
              "      <td>20</td>\n",
              "    </tr>\n",
              "    <tr>\n",
              "      <th>5</th>\n",
              "      <td>C</td>\n",
              "      <td>19</td>\n",
              "    </tr>\n",
              "    <tr>\n",
              "      <th>14</th>\n",
              "      <td>Treated_with_drugs_DX1 DX2 DX3 DX4 DX5</td>\n",
              "      <td>18</td>\n",
              "    </tr>\n",
              "    <tr>\n",
              "      <th>29</th>\n",
              "      <td>Treated_with_drugs_DX2 DX3 DX4 DX5</td>\n",
              "      <td>17</td>\n",
              "    </tr>\n",
              "    <tr>\n",
              "      <th>28</th>\n",
              "      <td>Treated_with_drugs_DX2 DX3 DX4</td>\n",
              "      <td>16</td>\n",
              "    </tr>\n",
              "    <tr>\n",
              "      <th>2</th>\n",
              "      <td>Patient_Body_Mass_Index</td>\n",
              "      <td>15</td>\n",
              "    </tr>\n",
              "    <tr>\n",
              "      <th>27</th>\n",
              "      <td>Treated_with_drugs_DX2 DX3</td>\n",
              "      <td>14</td>\n",
              "    </tr>\n",
              "    <tr>\n",
              "      <th>4</th>\n",
              "      <td>B</td>\n",
              "      <td>13</td>\n",
              "    </tr>\n",
              "    <tr>\n",
              "      <th>45</th>\n",
              "      <td>Patient_Rural_Urban_URBAN</td>\n",
              "      <td>12</td>\n",
              "    </tr>\n",
              "    <tr>\n",
              "      <th>34</th>\n",
              "      <td>Treated_with_drugs_DX3</td>\n",
              "      <td>11</td>\n",
              "    </tr>\n",
              "    <tr>\n",
              "      <th>35</th>\n",
              "      <td>Treated_with_drugs_DX3 DX4</td>\n",
              "      <td>10</td>\n",
              "    </tr>\n",
              "    <tr>\n",
              "      <th>26</th>\n",
              "      <td>Treated_with_drugs_DX2</td>\n",
              "      <td>9</td>\n",
              "    </tr>\n",
              "    <tr>\n",
              "      <th>16</th>\n",
              "      <td>Treated_with_drugs_DX1 DX2 DX4</td>\n",
              "      <td>8</td>\n",
              "    </tr>\n",
              "    <tr>\n",
              "      <th>46</th>\n",
              "      <td>Patient_mental_condition_Stable</td>\n",
              "      <td>7</td>\n",
              "    </tr>\n",
              "    <tr>\n",
              "      <th>31</th>\n",
              "      <td>Treated_with_drugs_DX2 DX4</td>\n",
              "      <td>6</td>\n",
              "    </tr>\n",
              "    <tr>\n",
              "      <th>38</th>\n",
              "      <td>Treated_with_drugs_DX4</td>\n",
              "      <td>5</td>\n",
              "    </tr>\n",
              "    <tr>\n",
              "      <th>3</th>\n",
              "      <td>A</td>\n",
              "      <td>4</td>\n",
              "    </tr>\n",
              "    <tr>\n",
              "      <th>21</th>\n",
              "      <td>Treated_with_drugs_DX1 DX3 DX4 DX5</td>\n",
              "      <td>3</td>\n",
              "    </tr>\n",
              "    <tr>\n",
              "      <th>39</th>\n",
              "      <td>Treated_with_drugs_DX4 DX5</td>\n",
              "      <td>2</td>\n",
              "    </tr>\n",
              "    <tr>\n",
              "      <th>19</th>\n",
              "      <td>Treated_with_drugs_DX1 DX3</td>\n",
              "      <td>1</td>\n",
              "    </tr>\n",
              "    <tr>\n",
              "      <th>7</th>\n",
              "      <td>E</td>\n",
              "      <td>1</td>\n",
              "    </tr>\n",
              "    <tr>\n",
              "      <th>6</th>\n",
              "      <td>D</td>\n",
              "      <td>1</td>\n",
              "    </tr>\n",
              "    <tr>\n",
              "      <th>44</th>\n",
              "      <td>Patient_Rural_Urban_RURAL</td>\n",
              "      <td>1</td>\n",
              "    </tr>\n",
              "    <tr>\n",
              "      <th>43</th>\n",
              "      <td>Patient_Smoker_YES</td>\n",
              "      <td>1</td>\n",
              "    </tr>\n",
              "    <tr>\n",
              "      <th>42</th>\n",
              "      <td>Patient_Smoker_NO</td>\n",
              "      <td>1</td>\n",
              "    </tr>\n",
              "    <tr>\n",
              "      <th>41</th>\n",
              "      <td>Treated_with_drugs_DX6</td>\n",
              "      <td>1</td>\n",
              "    </tr>\n",
              "    <tr>\n",
              "      <th>40</th>\n",
              "      <td>Treated_with_drugs_DX5</td>\n",
              "      <td>1</td>\n",
              "    </tr>\n",
              "    <tr>\n",
              "      <th>37</th>\n",
              "      <td>Treated_with_drugs_DX3 DX5</td>\n",
              "      <td>1</td>\n",
              "    </tr>\n",
              "    <tr>\n",
              "      <th>36</th>\n",
              "      <td>Treated_with_drugs_DX3 DX4 DX5</td>\n",
              "      <td>1</td>\n",
              "    </tr>\n",
              "    <tr>\n",
              "      <th>33</th>\n",
              "      <td>Treated_with_drugs_DX2 DX5</td>\n",
              "      <td>1</td>\n",
              "    </tr>\n",
              "    <tr>\n",
              "      <th>8</th>\n",
              "      <td>F</td>\n",
              "      <td>1</td>\n",
              "    </tr>\n",
              "    <tr>\n",
              "      <th>20</th>\n",
              "      <td>Treated_with_drugs_DX1 DX3 DX4</td>\n",
              "      <td>1</td>\n",
              "    </tr>\n",
              "    <tr>\n",
              "      <th>32</th>\n",
              "      <td>Treated_with_drugs_DX2 DX4 DX5</td>\n",
              "      <td>1</td>\n",
              "    </tr>\n",
              "    <tr>\n",
              "      <th>30</th>\n",
              "      <td>Treated_with_drugs_DX2 DX3 DX5</td>\n",
              "      <td>1</td>\n",
              "    </tr>\n",
              "    <tr>\n",
              "      <th>9</th>\n",
              "      <td>Number_of_prev_cond</td>\n",
              "      <td>1</td>\n",
              "    </tr>\n",
              "    <tr>\n",
              "      <th>11</th>\n",
              "      <td>Treated_with_drugs_DX1 DX2</td>\n",
              "      <td>1</td>\n",
              "    </tr>\n",
              "    <tr>\n",
              "      <th>12</th>\n",
              "      <td>Treated_with_drugs_DX1 DX2 DX3</td>\n",
              "      <td>1</td>\n",
              "    </tr>\n",
              "    <tr>\n",
              "      <th>13</th>\n",
              "      <td>Treated_with_drugs_DX1 DX2 DX3 DX4</td>\n",
              "      <td>1</td>\n",
              "    </tr>\n",
              "    <tr>\n",
              "      <th>24</th>\n",
              "      <td>Treated_with_drugs_DX1 DX4 DX5</td>\n",
              "      <td>1</td>\n",
              "    </tr>\n",
              "    <tr>\n",
              "      <th>18</th>\n",
              "      <td>Treated_with_drugs_DX1 DX2 DX5</td>\n",
              "      <td>1</td>\n",
              "    </tr>\n",
              "    <tr>\n",
              "      <th>22</th>\n",
              "      <td>Treated_with_drugs_DX1 DX3 DX5</td>\n",
              "      <td>1</td>\n",
              "    </tr>\n",
              "    <tr>\n",
              "      <th>25</th>\n",
              "      <td>Treated_with_drugs_DX1 DX5</td>\n",
              "      <td>1</td>\n",
              "    </tr>\n",
              "  </tbody>\n",
              "</table>\n",
              "</div>"
            ],
            "text/plain": [
              "                                    Feature  Ranking\n",
              "1                               Patient_Age       25\n",
              "0                       Diagnosed_Condition       24\n",
              "10                  Treated_with_drugs_DX1        23\n",
              "23              Treated_with_drugs_DX1 DX4        22\n",
              "17      Treated_with_drugs_DX1 DX2 DX4 DX5        21\n",
              "15      Treated_with_drugs_DX1 DX2 DX3 DX5        20\n",
              "5                                         C       19\n",
              "14  Treated_with_drugs_DX1 DX2 DX3 DX4 DX5        18\n",
              "29      Treated_with_drugs_DX2 DX3 DX4 DX5        17\n",
              "28          Treated_with_drugs_DX2 DX3 DX4        16\n",
              "2                   Patient_Body_Mass_Index       15\n",
              "27              Treated_with_drugs_DX2 DX3        14\n",
              "4                                         B       13\n",
              "45                Patient_Rural_Urban_URBAN       12\n",
              "34                  Treated_with_drugs_DX3        11\n",
              "35              Treated_with_drugs_DX3 DX4        10\n",
              "26                  Treated_with_drugs_DX2         9\n",
              "16          Treated_with_drugs_DX1 DX2 DX4         8\n",
              "46          Patient_mental_condition_Stable        7\n",
              "31              Treated_with_drugs_DX2 DX4         6\n",
              "38                  Treated_with_drugs_DX4         5\n",
              "3                                         A        4\n",
              "21      Treated_with_drugs_DX1 DX3 DX4 DX5         3\n",
              "39              Treated_with_drugs_DX4 DX5         2\n",
              "19              Treated_with_drugs_DX1 DX3         1\n",
              "7                                         E        1\n",
              "6                                         D        1\n",
              "44                Patient_Rural_Urban_RURAL        1\n",
              "43                       Patient_Smoker_YES        1\n",
              "42                        Patient_Smoker_NO        1\n",
              "41                   Treated_with_drugs_DX6        1\n",
              "40                  Treated_with_drugs_DX5         1\n",
              "37              Treated_with_drugs_DX3 DX5         1\n",
              "36          Treated_with_drugs_DX3 DX4 DX5         1\n",
              "33              Treated_with_drugs_DX2 DX5         1\n",
              "8                                         F        1\n",
              "20          Treated_with_drugs_DX1 DX3 DX4         1\n",
              "32          Treated_with_drugs_DX2 DX4 DX5         1\n",
              "30          Treated_with_drugs_DX2 DX3 DX5         1\n",
              "9                       Number_of_prev_cond        1\n",
              "11              Treated_with_drugs_DX1 DX2         1\n",
              "12          Treated_with_drugs_DX1 DX2 DX3         1\n",
              "13      Treated_with_drugs_DX1 DX2 DX3 DX4         1\n",
              "24          Treated_with_drugs_DX1 DX4 DX5         1\n",
              "18          Treated_with_drugs_DX1 DX2 DX5         1\n",
              "22          Treated_with_drugs_DX1 DX3 DX5         1\n",
              "25              Treated_with_drugs_DX1 DX5         1"
            ]
          },
          "metadata": {
            "tags": []
          },
          "execution_count": 50
        }
      ]
    },
    {
      "cell_type": "code",
      "metadata": {
        "id": "NUO3EE3CC1aF",
        "colab_type": "code",
        "colab": {}
      },
      "source": [
        "X_train_rfe = rfe.transform(X_train)\n",
        "X_test_rfe = rfe.transform(X_test)\n",
        "\n"
      ],
      "execution_count": 51,
      "outputs": []
    },
    {
      "cell_type": "code",
      "metadata": {
        "id": "5389z22COC8A",
        "colab_type": "code",
        "colab": {
          "base_uri": "https://localhost:8080/",
          "height": 34
        },
        "outputId": "acf07e57-d9cc-46f1-c562-00c07947ae8f"
      },
      "source": [
        "print(X_train_rfe.shape,X_train.shape)"
      ],
      "execution_count": 52,
      "outputs": [
        {
          "output_type": "stream",
          "text": [
            "(16386, 23) (16386, 47)\n"
          ],
          "name": "stdout"
        }
      ]
    },
    {
      "cell_type": "code",
      "metadata": {
        "id": "mdDpeqyUNYjl",
        "colab_type": "code",
        "colab": {
          "base_uri": "https://localhost:8080/",
          "height": 105
        },
        "outputId": "85b55d73-0995-4083-9202-4d9b7227b29b"
      },
      "source": [
        "logreg.fit(X_train_rfe,y_train)"
      ],
      "execution_count": 53,
      "outputs": [
        {
          "output_type": "execute_result",
          "data": {
            "text/plain": [
              "LogisticRegression(C=1.0, class_weight=None, dual=False, fit_intercept=True,\n",
              "                   intercept_scaling=1, l1_ratio=None, max_iter=100,\n",
              "                   multi_class='auto', n_jobs=-1, penalty='l2',\n",
              "                   random_state=None, solver='lbfgs', tol=0.0001, verbose=0,\n",
              "                   warm_start=False)"
            ]
          },
          "metadata": {
            "tags": []
          },
          "execution_count": 53
        }
      ]
    },
    {
      "cell_type": "code",
      "metadata": {
        "id": "z-DRYZ68NxPv",
        "colab_type": "code",
        "colab": {
          "base_uri": "https://localhost:8080/",
          "height": 52
        },
        "outputId": "9b623520-ba5d-400c-baef-42a2c3997a97"
      },
      "source": [
        "print(\"Acurracy Base\",accuracy_score(y_test,logreg.predict(X_test_rfe)))\n",
        "print(\"F1 BAse\",f1_score(y_test,logreg.predict(X_test_rfe)))"
      ],
      "execution_count": 54,
      "outputs": [
        {
          "output_type": "stream",
          "text": [
            "Acurracy Base 0.7268899871865275\n",
            "F1 BAse 0.7985961123110151\n"
          ],
          "name": "stdout"
        }
      ]
    },
    {
      "cell_type": "markdown",
      "metadata": {
        "id": "iMVwoO8AOSbI",
        "colab_type": "text"
      },
      "source": [
        "\n",
        "\n",
        "---\n",
        "# Tuning hyperparamateres\n"
      ]
    },
    {
      "cell_type": "code",
      "metadata": {
        "id": "YE42tVL56_ND",
        "colab_type": "code",
        "colab": {}
      },
      "source": [
        "params = {\n",
        "    \"penalty\": [\"l1\",\"l2\",\"elasticnet\",\"none\"],\n",
        "    \"solver\": [\"newton-cg\",\"lbfgs\",\"liblinear\",\"sag\",\"saga\"],\n",
        "    \n",
        "}"
      ],
      "execution_count": 55,
      "outputs": []
    },
    {
      "cell_type": "code",
      "metadata": {
        "id": "5qr1Vzk79g3b",
        "colab_type": "code",
        "colab": {}
      },
      "source": [
        "log_CV = LogisticRegression(n_jobs=-1)"
      ],
      "execution_count": 56,
      "outputs": []
    },
    {
      "cell_type": "code",
      "metadata": {
        "id": "ZFQbJYK79nHp",
        "colab_type": "code",
        "colab": {}
      },
      "source": [
        "search = GridSearchCV(log_CV,params,cv=5,verbose=2)"
      ],
      "execution_count": 57,
      "outputs": []
    },
    {
      "cell_type": "code",
      "metadata": {
        "id": "xfpZ9JsC98Ct",
        "colab_type": "code",
        "colab": {
          "base_uri": "https://localhost:8080/",
          "height": 1000
        },
        "outputId": "fcf75145-2d8d-4316-92e3-cd9707e807c0"
      },
      "source": [
        "search.fit(X_train,y_train)"
      ],
      "execution_count": 58,
      "outputs": [
        {
          "output_type": "stream",
          "text": [
            "Fitting 5 folds for each of 20 candidates, totalling 100 fits\n",
            "[CV] penalty=l1, solver=newton-cg ....................................\n",
            "[CV] ..................... penalty=l1, solver=newton-cg, total=   0.0s\n",
            "[CV] penalty=l1, solver=newton-cg ....................................\n",
            "[CV] ..................... penalty=l1, solver=newton-cg, total=   0.0s\n",
            "[CV] penalty=l1, solver=newton-cg ....................................\n",
            "[CV] ..................... penalty=l1, solver=newton-cg, total=   0.0s\n",
            "[CV] penalty=l1, solver=newton-cg ....................................\n",
            "[CV] ..................... penalty=l1, solver=newton-cg, total=   0.0s\n",
            "[CV] penalty=l1, solver=newton-cg ....................................\n",
            "[CV] ..................... penalty=l1, solver=newton-cg, total=   0.0s\n",
            "[CV] penalty=l1, solver=lbfgs ........................................\n",
            "[CV] ......................... penalty=l1, solver=lbfgs, total=   0.0s\n",
            "[CV] penalty=l1, solver=lbfgs ........................................\n",
            "[CV] ......................... penalty=l1, solver=lbfgs, total=   0.0s\n",
            "[CV] penalty=l1, solver=lbfgs ........................................\n",
            "[CV] ......................... penalty=l1, solver=lbfgs, total=   0.0s\n",
            "[CV] penalty=l1, solver=lbfgs ........................................\n",
            "[CV] ......................... penalty=l1, solver=lbfgs, total=   0.0s\n",
            "[CV] penalty=l1, solver=lbfgs ........................................\n",
            "[CV] ......................... penalty=l1, solver=lbfgs, total=   0.0s\n",
            "[CV] penalty=l1, solver=liblinear ....................................\n"
          ],
          "name": "stdout"
        },
        {
          "output_type": "stream",
          "text": [
            "[Parallel(n_jobs=1)]: Using backend SequentialBackend with 1 concurrent workers.\n",
            "/usr/local/lib/python3.6/dist-packages/sklearn/model_selection/_validation.py:536: FitFailedWarning: Estimator fit failed. The score on this train-test partition for these parameters will be set to nan. Details: \n",
            "ValueError: Solver newton-cg supports only 'l2' or 'none' penalties, got l1 penalty.\n",
            "\n",
            "  FitFailedWarning)\n",
            "[Parallel(n_jobs=1)]: Done   1 out of   1 | elapsed:    0.0s remaining:    0.0s\n",
            "/usr/local/lib/python3.6/dist-packages/sklearn/model_selection/_validation.py:536: FitFailedWarning: Estimator fit failed. The score on this train-test partition for these parameters will be set to nan. Details: \n",
            "ValueError: Solver lbfgs supports only 'l2' or 'none' penalties, got l1 penalty.\n",
            "\n",
            "  FitFailedWarning)\n",
            "/usr/local/lib/python3.6/dist-packages/sklearn/linear_model/_logistic.py:1539: UserWarning: 'n_jobs' > 1 does not have any effect when 'solver' is set to 'liblinear'. Got 'n_jobs' = 2.\n",
            "  \" = {}.\".format(effective_n_jobs(self.n_jobs)))\n"
          ],
          "name": "stderr"
        },
        {
          "output_type": "stream",
          "text": [
            "[CV] ..................... penalty=l1, solver=liblinear, total=   0.9s\n",
            "[CV] penalty=l1, solver=liblinear ....................................\n"
          ],
          "name": "stdout"
        },
        {
          "output_type": "stream",
          "text": [
            "/usr/local/lib/python3.6/dist-packages/sklearn/linear_model/_logistic.py:1539: UserWarning: 'n_jobs' > 1 does not have any effect when 'solver' is set to 'liblinear'. Got 'n_jobs' = 2.\n",
            "  \" = {}.\".format(effective_n_jobs(self.n_jobs)))\n"
          ],
          "name": "stderr"
        },
        {
          "output_type": "stream",
          "text": [
            "[CV] ..................... penalty=l1, solver=liblinear, total=   1.0s\n",
            "[CV] penalty=l1, solver=liblinear ....................................\n"
          ],
          "name": "stdout"
        },
        {
          "output_type": "stream",
          "text": [
            "/usr/local/lib/python3.6/dist-packages/sklearn/linear_model/_logistic.py:1539: UserWarning: 'n_jobs' > 1 does not have any effect when 'solver' is set to 'liblinear'. Got 'n_jobs' = 2.\n",
            "  \" = {}.\".format(effective_n_jobs(self.n_jobs)))\n"
          ],
          "name": "stderr"
        },
        {
          "output_type": "stream",
          "text": [
            "[CV] ..................... penalty=l1, solver=liblinear, total=   0.9s\n",
            "[CV] penalty=l1, solver=liblinear ....................................\n"
          ],
          "name": "stdout"
        },
        {
          "output_type": "stream",
          "text": [
            "/usr/local/lib/python3.6/dist-packages/sklearn/linear_model/_logistic.py:1539: UserWarning: 'n_jobs' > 1 does not have any effect when 'solver' is set to 'liblinear'. Got 'n_jobs' = 2.\n",
            "  \" = {}.\".format(effective_n_jobs(self.n_jobs)))\n"
          ],
          "name": "stderr"
        },
        {
          "output_type": "stream",
          "text": [
            "[CV] ..................... penalty=l1, solver=liblinear, total=   0.8s\n",
            "[CV] penalty=l1, solver=liblinear ....................................\n"
          ],
          "name": "stdout"
        },
        {
          "output_type": "stream",
          "text": [
            "/usr/local/lib/python3.6/dist-packages/sklearn/linear_model/_logistic.py:1539: UserWarning: 'n_jobs' > 1 does not have any effect when 'solver' is set to 'liblinear'. Got 'n_jobs' = 2.\n",
            "  \" = {}.\".format(effective_n_jobs(self.n_jobs)))\n"
          ],
          "name": "stderr"
        },
        {
          "output_type": "stream",
          "text": [
            "[CV] ..................... penalty=l1, solver=liblinear, total=   0.9s\n",
            "[CV] penalty=l1, solver=sag ..........................................\n",
            "[CV] ........................... penalty=l1, solver=sag, total=   0.0s\n",
            "[CV] penalty=l1, solver=sag ..........................................\n",
            "[CV] ........................... penalty=l1, solver=sag, total=   0.0s\n",
            "[CV] penalty=l1, solver=sag ..........................................\n",
            "[CV] ........................... penalty=l1, solver=sag, total=   0.0s\n",
            "[CV] penalty=l1, solver=sag ..........................................\n",
            "[CV] ........................... penalty=l1, solver=sag, total=   0.0s\n",
            "[CV] penalty=l1, solver=sag ..........................................\n",
            "[CV] ........................... penalty=l1, solver=sag, total=   0.0s\n",
            "[CV] penalty=l1, solver=saga .........................................\n"
          ],
          "name": "stdout"
        },
        {
          "output_type": "stream",
          "text": [
            "/usr/local/lib/python3.6/dist-packages/sklearn/model_selection/_validation.py:536: FitFailedWarning: Estimator fit failed. The score on this train-test partition for these parameters will be set to nan. Details: \n",
            "ValueError: Solver sag supports only 'l2' or 'none' penalties, got l1 penalty.\n",
            "\n",
            "  FitFailedWarning)\n"
          ],
          "name": "stderr"
        },
        {
          "output_type": "stream",
          "text": [
            "[CV] .......................... penalty=l1, solver=saga, total=   1.3s\n",
            "[CV] penalty=l1, solver=saga .........................................\n",
            "[CV] .......................... penalty=l1, solver=saga, total=   1.4s\n",
            "[CV] penalty=l1, solver=saga .........................................\n",
            "[CV] .......................... penalty=l1, solver=saga, total=   1.3s\n",
            "[CV] penalty=l1, solver=saga .........................................\n",
            "[CV] .......................... penalty=l1, solver=saga, total=   1.3s\n",
            "[CV] penalty=l1, solver=saga .........................................\n",
            "[CV] .......................... penalty=l1, solver=saga, total=   1.3s\n",
            "[CV] penalty=l2, solver=newton-cg ....................................\n",
            "[CV] ..................... penalty=l2, solver=newton-cg, total=   1.6s\n",
            "[CV] penalty=l2, solver=newton-cg ....................................\n",
            "[CV] ..................... penalty=l2, solver=newton-cg, total=   1.7s\n",
            "[CV] penalty=l2, solver=newton-cg ....................................\n",
            "[CV] ..................... penalty=l2, solver=newton-cg, total=   1.6s\n",
            "[CV] penalty=l2, solver=newton-cg ....................................\n",
            "[CV] ..................... penalty=l2, solver=newton-cg, total=   1.5s\n",
            "[CV] penalty=l2, solver=newton-cg ....................................\n",
            "[CV] ..................... penalty=l2, solver=newton-cg, total=   1.7s\n",
            "[CV] penalty=l2, solver=lbfgs ........................................\n",
            "[CV] ......................... penalty=l2, solver=lbfgs, total=   0.9s\n",
            "[CV] penalty=l2, solver=lbfgs ........................................\n",
            "[CV] ......................... penalty=l2, solver=lbfgs, total=   0.9s\n",
            "[CV] penalty=l2, solver=lbfgs ........................................\n",
            "[CV] ......................... penalty=l2, solver=lbfgs, total=   0.9s\n",
            "[CV] penalty=l2, solver=lbfgs ........................................\n",
            "[CV] ......................... penalty=l2, solver=lbfgs, total=   0.9s\n",
            "[CV] penalty=l2, solver=lbfgs ........................................\n",
            "[CV] ......................... penalty=l2, solver=lbfgs, total=   1.0s\n",
            "[CV] penalty=l2, solver=liblinear ....................................\n",
            "[CV] ..................... penalty=l2, solver=liblinear, total=   0.1s\n",
            "[CV] penalty=l2, solver=liblinear ....................................\n"
          ],
          "name": "stdout"
        },
        {
          "output_type": "stream",
          "text": [
            "/usr/local/lib/python3.6/dist-packages/sklearn/linear_model/_logistic.py:1539: UserWarning: 'n_jobs' > 1 does not have any effect when 'solver' is set to 'liblinear'. Got 'n_jobs' = 2.\n",
            "  \" = {}.\".format(effective_n_jobs(self.n_jobs)))\n",
            "/usr/local/lib/python3.6/dist-packages/sklearn/linear_model/_logistic.py:1539: UserWarning: 'n_jobs' > 1 does not have any effect when 'solver' is set to 'liblinear'. Got 'n_jobs' = 2.\n",
            "  \" = {}.\".format(effective_n_jobs(self.n_jobs)))\n"
          ],
          "name": "stderr"
        },
        {
          "output_type": "stream",
          "text": [
            "[CV] ..................... penalty=l2, solver=liblinear, total=   0.1s\n",
            "[CV] penalty=l2, solver=liblinear ....................................\n",
            "[CV] ..................... penalty=l2, solver=liblinear, total=   0.1s\n",
            "[CV] penalty=l2, solver=liblinear ....................................\n"
          ],
          "name": "stdout"
        },
        {
          "output_type": "stream",
          "text": [
            "/usr/local/lib/python3.6/dist-packages/sklearn/linear_model/_logistic.py:1539: UserWarning: 'n_jobs' > 1 does not have any effect when 'solver' is set to 'liblinear'. Got 'n_jobs' = 2.\n",
            "  \" = {}.\".format(effective_n_jobs(self.n_jobs)))\n",
            "/usr/local/lib/python3.6/dist-packages/sklearn/linear_model/_logistic.py:1539: UserWarning: 'n_jobs' > 1 does not have any effect when 'solver' is set to 'liblinear'. Got 'n_jobs' = 2.\n",
            "  \" = {}.\".format(effective_n_jobs(self.n_jobs)))\n"
          ],
          "name": "stderr"
        },
        {
          "output_type": "stream",
          "text": [
            "[CV] ..................... penalty=l2, solver=liblinear, total=   0.1s\n",
            "[CV] penalty=l2, solver=liblinear ....................................\n",
            "[CV] ..................... penalty=l2, solver=liblinear, total=   0.1s\n",
            "[CV] penalty=l2, solver=sag ..........................................\n"
          ],
          "name": "stdout"
        },
        {
          "output_type": "stream",
          "text": [
            "/usr/local/lib/python3.6/dist-packages/sklearn/linear_model/_logistic.py:1539: UserWarning: 'n_jobs' > 1 does not have any effect when 'solver' is set to 'liblinear'. Got 'n_jobs' = 2.\n",
            "  \" = {}.\".format(effective_n_jobs(self.n_jobs)))\n"
          ],
          "name": "stderr"
        },
        {
          "output_type": "stream",
          "text": [
            "[CV] ........................... penalty=l2, solver=sag, total=   0.9s\n",
            "[CV] penalty=l2, solver=sag ..........................................\n",
            "[CV] ........................... penalty=l2, solver=sag, total=   0.9s\n",
            "[CV] penalty=l2, solver=sag ..........................................\n",
            "[CV] ........................... penalty=l2, solver=sag, total=   1.0s\n",
            "[CV] penalty=l2, solver=sag ..........................................\n",
            "[CV] ........................... penalty=l2, solver=sag, total=   0.9s\n",
            "[CV] penalty=l2, solver=sag ..........................................\n",
            "[CV] ........................... penalty=l2, solver=sag, total=   0.9s\n",
            "[CV] penalty=l2, solver=saga .........................................\n",
            "[CV] .......................... penalty=l2, solver=saga, total=   1.0s\n",
            "[CV] penalty=l2, solver=saga .........................................\n",
            "[CV] .......................... penalty=l2, solver=saga, total=   1.0s\n",
            "[CV] penalty=l2, solver=saga .........................................\n",
            "[CV] .......................... penalty=l2, solver=saga, total=   1.0s\n",
            "[CV] penalty=l2, solver=saga .........................................\n",
            "[CV] .......................... penalty=l2, solver=saga, total=   1.0s\n",
            "[CV] penalty=l2, solver=saga .........................................\n",
            "[CV] .......................... penalty=l2, solver=saga, total=   1.0s\n",
            "[CV] penalty=elasticnet, solver=newton-cg ............................\n",
            "[CV] ............. penalty=elasticnet, solver=newton-cg, total=   0.0s\n",
            "[CV] penalty=elasticnet, solver=newton-cg ............................\n",
            "[CV] ............. penalty=elasticnet, solver=newton-cg, total=   0.0s\n",
            "[CV] penalty=elasticnet, solver=newton-cg ............................\n",
            "[CV] ............. penalty=elasticnet, solver=newton-cg, total=   0.0s\n",
            "[CV] penalty=elasticnet, solver=newton-cg ............................\n",
            "[CV] ............. penalty=elasticnet, solver=newton-cg, total=   0.0s\n",
            "[CV] penalty=elasticnet, solver=newton-cg ............................\n",
            "[CV] ............. penalty=elasticnet, solver=newton-cg, total=   0.0s\n",
            "[CV] penalty=elasticnet, solver=lbfgs ................................\n",
            "[CV] ................. penalty=elasticnet, solver=lbfgs, total=   0.0s\n",
            "[CV] penalty=elasticnet, solver=lbfgs ................................\n",
            "[CV] ................. penalty=elasticnet, solver=lbfgs, total=   0.0s\n",
            "[CV] penalty=elasticnet, solver=lbfgs ................................\n",
            "[CV] ................. penalty=elasticnet, solver=lbfgs, total=   0.0s\n",
            "[CV] penalty=elasticnet, solver=lbfgs ................................\n",
            "[CV] ................. penalty=elasticnet, solver=lbfgs, total=   0.0s\n",
            "[CV] penalty=elasticnet, solver=lbfgs ................................\n",
            "[CV] ................. penalty=elasticnet, solver=lbfgs, total=   0.0s\n",
            "[CV] penalty=elasticnet, solver=liblinear ............................\n",
            "[CV] ............. penalty=elasticnet, solver=liblinear, total=   0.0s\n",
            "[CV] penalty=elasticnet, solver=liblinear ............................\n",
            "[CV] ............. penalty=elasticnet, solver=liblinear, total=   0.0s\n",
            "[CV] penalty=elasticnet, solver=liblinear ............................\n",
            "[CV] ............. penalty=elasticnet, solver=liblinear, total=   0.0s\n",
            "[CV] penalty=elasticnet, solver=liblinear ............................\n",
            "[CV] ............. penalty=elasticnet, solver=liblinear, total=   0.0s\n",
            "[CV] penalty=elasticnet, solver=liblinear ............................\n",
            "[CV] ............. penalty=elasticnet, solver=liblinear, total=   0.0s\n",
            "[CV] penalty=elasticnet, solver=sag ..................................\n",
            "[CV] ................... penalty=elasticnet, solver=sag, total=   0.0s\n",
            "[CV] penalty=elasticnet, solver=sag ..................................\n",
            "[CV] ................... penalty=elasticnet, solver=sag, total=   0.0s\n",
            "[CV] penalty=elasticnet, solver=sag ..................................\n",
            "[CV] ................... penalty=elasticnet, solver=sag, total=   0.0s\n",
            "[CV] penalty=elasticnet, solver=sag ..................................\n",
            "[CV] ................... penalty=elasticnet, solver=sag, total=   0.0s\n",
            "[CV] penalty=elasticnet, solver=sag ..................................\n",
            "[CV] ................... penalty=elasticnet, solver=sag, total=   0.0s\n",
            "[CV] penalty=elasticnet, solver=saga .................................\n",
            "[CV] .................. penalty=elasticnet, solver=saga, total=   0.0s\n",
            "[CV] penalty=elasticnet, solver=saga .................................\n",
            "[CV] .................. penalty=elasticnet, solver=saga, total=   0.0s\n",
            "[CV] penalty=elasticnet, solver=saga .................................\n",
            "[CV] .................. penalty=elasticnet, solver=saga, total=   0.0s\n",
            "[CV] penalty=elasticnet, solver=saga .................................\n",
            "[CV] .................. penalty=elasticnet, solver=saga, total=   0.0s\n",
            "[CV] penalty=elasticnet, solver=saga .................................\n",
            "[CV] .................. penalty=elasticnet, solver=saga, total=   0.0s\n",
            "[CV] penalty=none, solver=newton-cg ..................................\n"
          ],
          "name": "stdout"
        },
        {
          "output_type": "stream",
          "text": [
            "/usr/local/lib/python3.6/dist-packages/sklearn/model_selection/_validation.py:536: FitFailedWarning: Estimator fit failed. The score on this train-test partition for these parameters will be set to nan. Details: \n",
            "ValueError: Solver newton-cg supports only 'l2' or 'none' penalties, got elasticnet penalty.\n",
            "\n",
            "  FitFailedWarning)\n",
            "/usr/local/lib/python3.6/dist-packages/sklearn/model_selection/_validation.py:536: FitFailedWarning: Estimator fit failed. The score on this train-test partition for these parameters will be set to nan. Details: \n",
            "ValueError: Solver lbfgs supports only 'l2' or 'none' penalties, got elasticnet penalty.\n",
            "\n",
            "  FitFailedWarning)\n",
            "/usr/local/lib/python3.6/dist-packages/sklearn/model_selection/_validation.py:536: FitFailedWarning: Estimator fit failed. The score on this train-test partition for these parameters will be set to nan. Details: \n",
            "ValueError: Only 'saga' solver supports elasticnet penalty, got solver=liblinear.\n",
            "\n",
            "  FitFailedWarning)\n",
            "/usr/local/lib/python3.6/dist-packages/sklearn/model_selection/_validation.py:536: FitFailedWarning: Estimator fit failed. The score on this train-test partition for these parameters will be set to nan. Details: \n",
            "ValueError: Solver sag supports only 'l2' or 'none' penalties, got elasticnet penalty.\n",
            "\n",
            "  FitFailedWarning)\n",
            "/usr/local/lib/python3.6/dist-packages/sklearn/model_selection/_validation.py:536: FitFailedWarning: Estimator fit failed. The score on this train-test partition for these parameters will be set to nan. Details: \n",
            "ValueError: l1_ratio must be between 0 and 1; got (l1_ratio=None)\n",
            "\n",
            "  FitFailedWarning)\n"
          ],
          "name": "stderr"
        },
        {
          "output_type": "stream",
          "text": [
            "[CV] ................... penalty=none, solver=newton-cg, total=   3.8s\n",
            "[CV] penalty=none, solver=newton-cg ..................................\n",
            "[CV] ................... penalty=none, solver=newton-cg, total=   4.2s\n",
            "[CV] penalty=none, solver=newton-cg ..................................\n",
            "[CV] ................... penalty=none, solver=newton-cg, total=   4.9s\n",
            "[CV] penalty=none, solver=newton-cg ..................................\n",
            "[CV] ................... penalty=none, solver=newton-cg, total=   4.4s\n",
            "[CV] penalty=none, solver=newton-cg ..................................\n",
            "[CV] ................... penalty=none, solver=newton-cg, total=   5.2s\n",
            "[CV] penalty=none, solver=lbfgs ......................................\n",
            "[CV] ....................... penalty=none, solver=lbfgs, total=   0.9s\n",
            "[CV] penalty=none, solver=lbfgs ......................................\n",
            "[CV] ....................... penalty=none, solver=lbfgs, total=   0.9s\n",
            "[CV] penalty=none, solver=lbfgs ......................................\n",
            "[CV] ....................... penalty=none, solver=lbfgs, total=   0.9s\n",
            "[CV] penalty=none, solver=lbfgs ......................................\n",
            "[CV] ....................... penalty=none, solver=lbfgs, total=   0.9s\n",
            "[CV] penalty=none, solver=lbfgs ......................................\n",
            "[CV] ....................... penalty=none, solver=lbfgs, total=   0.9s\n",
            "[CV] penalty=none, solver=liblinear ..................................\n",
            "[CV] ................... penalty=none, solver=liblinear, total=   0.0s\n",
            "[CV] penalty=none, solver=liblinear ..................................\n",
            "[CV] ................... penalty=none, solver=liblinear, total=   0.0s\n",
            "[CV] penalty=none, solver=liblinear ..................................\n",
            "[CV] ................... penalty=none, solver=liblinear, total=   0.0s\n",
            "[CV] penalty=none, solver=liblinear ..................................\n",
            "[CV] ................... penalty=none, solver=liblinear, total=   0.0s\n",
            "[CV] penalty=none, solver=liblinear ..................................\n",
            "[CV] ................... penalty=none, solver=liblinear, total=   0.0s\n",
            "[CV] penalty=none, solver=sag ........................................\n"
          ],
          "name": "stdout"
        },
        {
          "output_type": "stream",
          "text": [
            "/usr/local/lib/python3.6/dist-packages/sklearn/model_selection/_validation.py:536: FitFailedWarning: Estimator fit failed. The score on this train-test partition for these parameters will be set to nan. Details: \n",
            "ValueError: penalty='none' is not supported for the liblinear solver\n",
            "\n",
            "  FitFailedWarning)\n"
          ],
          "name": "stderr"
        },
        {
          "output_type": "stream",
          "text": [
            "[CV] ......................... penalty=none, solver=sag, total=   0.8s\n",
            "[CV] penalty=none, solver=sag ........................................\n",
            "[CV] ......................... penalty=none, solver=sag, total=   0.9s\n",
            "[CV] penalty=none, solver=sag ........................................\n",
            "[CV] ......................... penalty=none, solver=sag, total=   0.9s\n",
            "[CV] penalty=none, solver=sag ........................................\n",
            "[CV] ......................... penalty=none, solver=sag, total=   0.9s\n",
            "[CV] penalty=none, solver=sag ........................................\n",
            "[CV] ......................... penalty=none, solver=sag, total=   0.9s\n",
            "[CV] penalty=none, solver=saga .......................................\n",
            "[CV] ........................ penalty=none, solver=saga, total=   1.0s\n",
            "[CV] penalty=none, solver=saga .......................................\n",
            "[CV] ........................ penalty=none, solver=saga, total=   1.0s\n",
            "[CV] penalty=none, solver=saga .......................................\n",
            "[CV] ........................ penalty=none, solver=saga, total=   1.0s\n",
            "[CV] penalty=none, solver=saga .......................................\n",
            "[CV] ........................ penalty=none, solver=saga, total=   1.0s\n",
            "[CV] penalty=none, solver=saga .......................................\n",
            "[CV] ........................ penalty=none, solver=saga, total=   1.0s\n"
          ],
          "name": "stdout"
        },
        {
          "output_type": "stream",
          "text": [
            "[Parallel(n_jobs=1)]: Done 100 out of 100 | elapsed:  1.2min finished\n"
          ],
          "name": "stderr"
        },
        {
          "output_type": "execute_result",
          "data": {
            "text/plain": [
              "GridSearchCV(cv=5, error_score=nan,\n",
              "             estimator=LogisticRegression(C=1.0, class_weight=None, dual=False,\n",
              "                                          fit_intercept=True,\n",
              "                                          intercept_scaling=1, l1_ratio=None,\n",
              "                                          max_iter=100, multi_class='auto',\n",
              "                                          n_jobs=-1, penalty='l2',\n",
              "                                          random_state=None, solver='lbfgs',\n",
              "                                          tol=0.0001, verbose=0,\n",
              "                                          warm_start=False),\n",
              "             iid='deprecated', n_jobs=None,\n",
              "             param_grid={'penalty': ['l1', 'l2', 'elasticnet', 'none'],\n",
              "                         'solver': ['newton-cg', 'lbfgs', 'liblinear', 'sag',\n",
              "                                    'saga']},\n",
              "             pre_dispatch='2*n_jobs', refit=True, return_train_score=False,\n",
              "             scoring=None, verbose=2)"
            ]
          },
          "metadata": {
            "tags": []
          },
          "execution_count": 58
        }
      ]
    },
    {
      "cell_type": "code",
      "metadata": {
        "id": "T8ukhZYW-BZO",
        "colab_type": "code",
        "colab": {
          "base_uri": "https://localhost:8080/",
          "height": 34
        },
        "outputId": "e0f1f44b-fa31-4bbf-ccdf-88d542f3b802"
      },
      "source": [
        "search.best_params_"
      ],
      "execution_count": 59,
      "outputs": [
        {
          "output_type": "execute_result",
          "data": {
            "text/plain": [
              "{'penalty': 'none', 'solver': 'lbfgs'}"
            ]
          },
          "metadata": {
            "tags": []
          },
          "execution_count": 59
        }
      ]
    },
    {
      "cell_type": "code",
      "metadata": {
        "id": "AYOfWQln-Z_O",
        "colab_type": "code",
        "colab": {
          "base_uri": "https://localhost:8080/",
          "height": 34
        },
        "outputId": "72349149-287b-47db-a1ec-6b72f93ac674"
      },
      "source": [
        "search.best_score_"
      ],
      "execution_count": 60,
      "outputs": [
        {
          "output_type": "execute_result",
          "data": {
            "text/plain": [
              "0.727938859836794"
            ]
          },
          "metadata": {
            "tags": []
          },
          "execution_count": 60
        }
      ]
    },
    {
      "cell_type": "markdown",
      "metadata": {
        "id": "RkLLdEkaVf-6",
        "colab_type": "text"
      },
      "source": [
        "\n",
        "\n",
        "---\n",
        "# Random Forest Model\n"
      ]
    },
    {
      "cell_type": "code",
      "metadata": {
        "id": "P-ieCdLlVkV5",
        "colab_type": "code",
        "colab": {}
      },
      "source": [
        "from sklearn.ensemble import RandomForestClassifier"
      ],
      "execution_count": 61,
      "outputs": []
    },
    {
      "cell_type": "code",
      "metadata": {
        "id": "EMiMORVgVpVk",
        "colab_type": "code",
        "colab": {}
      },
      "source": [
        "rf_model = RandomForestClassifier(n_jobs=-1)"
      ],
      "execution_count": 62,
      "outputs": []
    },
    {
      "cell_type": "code",
      "metadata": {
        "id": "eS9FbSbZXRqG",
        "colab_type": "code",
        "colab": {
          "base_uri": "https://localhost:8080/",
          "height": 158
        },
        "outputId": "4067d1f5-6b55-42ee-df3c-62353b00a259"
      },
      "source": [
        "rf_model.fit(X_train,y_train)"
      ],
      "execution_count": 63,
      "outputs": [
        {
          "output_type": "execute_result",
          "data": {
            "text/plain": [
              "RandomForestClassifier(bootstrap=True, ccp_alpha=0.0, class_weight=None,\n",
              "                       criterion='gini', max_depth=None, max_features='auto',\n",
              "                       max_leaf_nodes=None, max_samples=None,\n",
              "                       min_impurity_decrease=0.0, min_impurity_split=None,\n",
              "                       min_samples_leaf=1, min_samples_split=2,\n",
              "                       min_weight_fraction_leaf=0.0, n_estimators=100,\n",
              "                       n_jobs=-1, oob_score=False, random_state=None, verbose=0,\n",
              "                       warm_start=False)"
            ]
          },
          "metadata": {
            "tags": []
          },
          "execution_count": 63
        }
      ]
    },
    {
      "cell_type": "code",
      "metadata": {
        "id": "xpcjgWgtXXPK",
        "colab_type": "code",
        "colab": {
          "base_uri": "https://localhost:8080/",
          "height": 52
        },
        "outputId": "bb53bd64-13a2-4b60-acb7-54ab3b620aa4"
      },
      "source": [
        "print(\"Acuracy Model \",accuracy_score(y_test,rf_model.predict(X_test)))\n",
        "print(\"F1 Model \",accuracy_score(y_test,rf_model.predict(X_test)))"
      ],
      "execution_count": 64,
      "outputs": [
        {
          "output_type": "stream",
          "text": [
            "Acuracy Model  0.8231740801757276\n",
            "F1 Model  0.8231740801757276\n"
          ],
          "name": "stdout"
        }
      ]
    },
    {
      "cell_type": "code",
      "metadata": {
        "id": "qgGaJAPGX8nA",
        "colab_type": "code",
        "colab": {
          "base_uri": "https://localhost:8080/",
          "height": 158
        },
        "outputId": "a2b52aae-48ad-4aff-9825-15b2d6e7ba96"
      },
      "source": [
        "rf_model.fit(X_train_rfe,y_train)"
      ],
      "execution_count": 65,
      "outputs": [
        {
          "output_type": "execute_result",
          "data": {
            "text/plain": [
              "RandomForestClassifier(bootstrap=True, ccp_alpha=0.0, class_weight=None,\n",
              "                       criterion='gini', max_depth=None, max_features='auto',\n",
              "                       max_leaf_nodes=None, max_samples=None,\n",
              "                       min_impurity_decrease=0.0, min_impurity_split=None,\n",
              "                       min_samples_leaf=1, min_samples_split=2,\n",
              "                       min_weight_fraction_leaf=0.0, n_estimators=100,\n",
              "                       n_jobs=-1, oob_score=False, random_state=None, verbose=0,\n",
              "                       warm_start=False)"
            ]
          },
          "metadata": {
            "tags": []
          },
          "execution_count": 65
        }
      ]
    },
    {
      "cell_type": "code",
      "metadata": {
        "id": "XLhfBpbqX5Mk",
        "colab_type": "code",
        "colab": {
          "base_uri": "https://localhost:8080/",
          "height": 52
        },
        "outputId": "270177ca-3bbf-4ea0-904f-bd462b3f2f26"
      },
      "source": [
        "print(\"Acuracy Model \",accuracy_score(y_test,rf_model.predict(X_test_rfe)))\n",
        "print(\"F1 Model \",accuracy_score(y_test,rf_model.predict(X_test_rfe)))"
      ],
      "execution_count": 66,
      "outputs": [
        {
          "output_type": "stream",
          "text": [
            "Acuracy Model  0.7285374336445176\n",
            "F1 Model  0.7285374336445176\n"
          ],
          "name": "stdout"
        }
      ]
    },
    {
      "cell_type": "markdown",
      "metadata": {
        "id": "5Xwdlc8cYPHF",
        "colab_type": "text"
      },
      "source": [
        "\n",
        "\n",
        "---\n",
        "## Tuning random forest\n"
      ]
    },
    {
      "cell_type": "code",
      "metadata": {
        "id": "KLe6xc7wYLXg",
        "colab_type": "code",
        "colab": {
          "base_uri": "https://localhost:8080/",
          "height": 354
        },
        "outputId": "87ee02be-bc61-48cb-e5cb-d868fd3897ef"
      },
      "source": [
        "rf_model.get_params()"
      ],
      "execution_count": 67,
      "outputs": [
        {
          "output_type": "execute_result",
          "data": {
            "text/plain": [
              "{'bootstrap': True,\n",
              " 'ccp_alpha': 0.0,\n",
              " 'class_weight': None,\n",
              " 'criterion': 'gini',\n",
              " 'max_depth': None,\n",
              " 'max_features': 'auto',\n",
              " 'max_leaf_nodes': None,\n",
              " 'max_samples': None,\n",
              " 'min_impurity_decrease': 0.0,\n",
              " 'min_impurity_split': None,\n",
              " 'min_samples_leaf': 1,\n",
              " 'min_samples_split': 2,\n",
              " 'min_weight_fraction_leaf': 0.0,\n",
              " 'n_estimators': 100,\n",
              " 'n_jobs': -1,\n",
              " 'oob_score': False,\n",
              " 'random_state': None,\n",
              " 'verbose': 0,\n",
              " 'warm_start': False}"
            ]
          },
          "metadata": {
            "tags": []
          },
          "execution_count": 67
        }
      ]
    },
    {
      "cell_type": "code",
      "metadata": {
        "id": "Mbdh5dJXY758",
        "colab_type": "code",
        "colab": {}
      },
      "source": [
        "from sklearn.model_selection import RandomizedSearchCV\n",
        "# Number of trees in random forest\n",
        "n_estimators = [int(x) for x in np.linspace(start = 200, stop = 2000, num = 10)]\n",
        "# Number of features to consider at every split\n",
        "max_features = ['auto', 'sqrt']\n",
        "# Maximum number of levels in tree\n",
        "max_depth = [int(x) for x in np.linspace(10, 110, num = 11)]\n",
        "max_depth.append(None)\n",
        "# Minimum number of samples required to split a node\n",
        "min_samples_split = [2, 5, 10]\n",
        "# Minimum number of samples required at each leaf node\n",
        "min_samples_leaf = [1, 2, 4]\n",
        "# Method of selecting samples for training each tree\n",
        "bootstrap = [True, False]\n",
        "# Create the random grid\n",
        "random_grid = {'n_estimators': n_estimators,\n",
        "               'max_features': max_features,\n",
        "               'max_depth': max_depth,\n",
        "               'min_samples_split': min_samples_split,\n",
        "               'min_samples_leaf': min_samples_leaf,\n",
        "               'bootstrap': bootstrap}"
      ],
      "execution_count": 68,
      "outputs": []
    },
    {
      "cell_type": "code",
      "metadata": {
        "id": "9qzyYFq4Y-lA",
        "colab_type": "code",
        "colab": {}
      },
      "source": [
        "rf = RandomForestClassifier()\n",
        "rf_random = RandomizedSearchCV(estimator=rf,param_distributions=random_grid,n_iter=100,\n",
        "                               cv=5,verbose=2,random_state=6,n_jobs=-1)"
      ],
      "execution_count": 69,
      "outputs": []
    },
    {
      "cell_type": "code",
      "metadata": {
        "id": "_acvM0TIZiPP",
        "colab_type": "code",
        "colab": {
          "base_uri": "https://localhost:8080/",
          "height": 694
        },
        "outputId": "31adcf1f-f44b-49b9-e41a-3494b9341b73"
      },
      "source": [
        "rf_random.fit(X_train_rfe,y_train)"
      ],
      "execution_count": 70,
      "outputs": [
        {
          "output_type": "stream",
          "text": [
            "Fitting 5 folds for each of 100 candidates, totalling 500 fits\n"
          ],
          "name": "stdout"
        },
        {
          "output_type": "stream",
          "text": [
            "[Parallel(n_jobs=-1)]: Using backend LokyBackend with 2 concurrent workers.\n",
            "[Parallel(n_jobs=-1)]: Done  37 tasks      | elapsed:  2.0min\n",
            "[Parallel(n_jobs=-1)]: Done 158 tasks      | elapsed: 15.4min\n",
            "/usr/local/lib/python3.6/dist-packages/joblib/externals/loky/process_executor.py:691: UserWarning: A worker stopped while some jobs were given to the executor. This can be caused by a too short worker timeout or by a memory leak.\n",
            "  \"timeout or by a memory leak.\", UserWarning\n",
            "[Parallel(n_jobs=-1)]: Done 361 tasks      | elapsed: 38.8min\n",
            "[Parallel(n_jobs=-1)]: Done 500 out of 500 | elapsed: 54.9min finished\n"
          ],
          "name": "stderr"
        },
        {
          "output_type": "execute_result",
          "data": {
            "text/plain": [
              "RandomizedSearchCV(cv=5, error_score=nan,\n",
              "                   estimator=RandomForestClassifier(bootstrap=True,\n",
              "                                                    ccp_alpha=0.0,\n",
              "                                                    class_weight=None,\n",
              "                                                    criterion='gini',\n",
              "                                                    max_depth=None,\n",
              "                                                    max_features='auto',\n",
              "                                                    max_leaf_nodes=None,\n",
              "                                                    max_samples=None,\n",
              "                                                    min_impurity_decrease=0.0,\n",
              "                                                    min_impurity_split=None,\n",
              "                                                    min_samples_leaf=1,\n",
              "                                                    min_samples_split=2,\n",
              "                                                    min_weight_fraction_leaf=0.0,\n",
              "                                                    n_estimators=100,\n",
              "                                                    n_jobs...\n",
              "                   iid='deprecated', n_iter=100, n_jobs=-1,\n",
              "                   param_distributions={'bootstrap': [True, False],\n",
              "                                        'max_depth': [10, 20, 30, 40, 50, 60,\n",
              "                                                      70, 80, 90, 100, 110,\n",
              "                                                      None],\n",
              "                                        'max_features': ['auto', 'sqrt'],\n",
              "                                        'min_samples_leaf': [1, 2, 4],\n",
              "                                        'min_samples_split': [2, 5, 10],\n",
              "                                        'n_estimators': [200, 400, 600, 800,\n",
              "                                                         1000, 1200, 1400, 1600,\n",
              "                                                         1800, 2000]},\n",
              "                   pre_dispatch='2*n_jobs', random_state=6, refit=True,\n",
              "                   return_train_score=False, scoring=None, verbose=2)"
            ]
          },
          "metadata": {
            "tags": []
          },
          "execution_count": 70
        }
      ]
    },
    {
      "cell_type": "code",
      "metadata": {
        "id": "dGZ_xcV5ptdB",
        "colab_type": "code",
        "colab": {
          "base_uri": "https://localhost:8080/",
          "height": 52
        },
        "outputId": "2e9f6cc5-468a-4337-e7c9-eb34d40be89d"
      },
      "source": [
        "print(\"Acuracy Model \",accuracy_score(y_test,rf_random.predict(X_test_rfe)))\n",
        "print(\"F1 Model \",accuracy_score(y_test,rf_random.predict(X_test_rfe)))"
      ],
      "execution_count": 71,
      "outputs": [
        {
          "output_type": "stream",
          "text": [
            "Acuracy Model  0.7300018304960645\n",
            "F1 Model  0.7300018304960645\n"
          ],
          "name": "stdout"
        }
      ]
    },
    {
      "cell_type": "code",
      "metadata": {
        "id": "CKbqIx4RqYG2",
        "colab_type": "code",
        "colab": {
          "base_uri": "https://localhost:8080/",
          "height": 167
        },
        "outputId": "9006ad32-e942-4d6d-d02d-47dce170f518"
      },
      "source": [
        "rf_random.fit(X_train_forest,y_train)"
      ],
      "execution_count": 72,
      "outputs": [
        {
          "output_type": "error",
          "ename": "NameError",
          "evalue": "ignored",
          "traceback": [
            "\u001b[0;31m---------------------------------------------------------------------------\u001b[0m",
            "\u001b[0;31mNameError\u001b[0m                                 Traceback (most recent call last)",
            "\u001b[0;32m<ipython-input-72-737f48c77e37>\u001b[0m in \u001b[0;36m<module>\u001b[0;34m()\u001b[0m\n\u001b[0;32m----> 1\u001b[0;31m \u001b[0mrf_random\u001b[0m\u001b[0;34m.\u001b[0m\u001b[0mfit\u001b[0m\u001b[0;34m(\u001b[0m\u001b[0mX_train_forest\u001b[0m\u001b[0;34m,\u001b[0m\u001b[0my_train\u001b[0m\u001b[0;34m)\u001b[0m\u001b[0;34m\u001b[0m\u001b[0;34m\u001b[0m\u001b[0m\n\u001b[0m",
            "\u001b[0;31mNameError\u001b[0m: name 'X_train_forest' is not defined"
          ]
        }
      ]
    },
    {
      "cell_type": "code",
      "metadata": {
        "id": "0fv8mtuxqegh",
        "colab_type": "code",
        "colab": {}
      },
      "source": [
        "print(\"Acuracy Model \",accuracy_score(y_test,rf_random.predict(X_test_forest)))\n",
        "print(\"F1 Model \",accuracy_score(y_test,rf_random.predict(X_test_forest)))"
      ],
      "execution_count": null,
      "outputs": []
    },
    {
      "cell_type": "markdown",
      "metadata": {
        "id": "o5BMqqJXOqVi",
        "colab_type": "text"
      },
      "source": [
        "\n",
        "\n",
        "---\n",
        "# X_train rfe tuning\n"
      ]
    },
    {
      "cell_type": "code",
      "metadata": {
        "id": "tAWIziHQ-r3S",
        "colab_type": "code",
        "colab": {}
      },
      "source": [
        "search.fit(X_train_rfe,y_train)"
      ],
      "execution_count": null,
      "outputs": []
    },
    {
      "cell_type": "code",
      "metadata": {
        "id": "c8I2C1UoPCzL",
        "colab_type": "code",
        "colab": {}
      },
      "source": [
        "search.best_score_"
      ],
      "execution_count": null,
      "outputs": []
    },
    {
      "cell_type": "code",
      "metadata": {
        "id": "vXKmssnZSqdE",
        "colab_type": "code",
        "colab": {}
      },
      "source": [
        "search.best_params_"
      ],
      "execution_count": null,
      "outputs": []
    },
    {
      "cell_type": "code",
      "metadata": {
        "id": "tIuoDhtvO1VT",
        "colab_type": "code",
        "colab": {}
      },
      "source": [
        "logreg2= LogisticRegression(penalty= 'l1', solver= 'saga')\n",
        "logreg2.fit(X_train_rfe,y_train)"
      ],
      "execution_count": null,
      "outputs": []
    },
    {
      "cell_type": "code",
      "metadata": {
        "id": "rTqcuOj8UgB4",
        "colab_type": "code",
        "colab": {}
      },
      "source": [
        "X_test.shape"
      ],
      "execution_count": null,
      "outputs": []
    },
    {
      "cell_type": "code",
      "metadata": {
        "id": "LRyeWAFOUcbY",
        "colab_type": "code",
        "colab": {}
      },
      "source": [
        "X_test_rfe.shape"
      ],
      "execution_count": null,
      "outputs": []
    },
    {
      "cell_type": "code",
      "metadata": {
        "id": "4P-NLy1XS9ZX",
        "colab_type": "code",
        "colab": {}
      },
      "source": [
        "print(\"Acurracy\",accuracy_score(y_test,logreg2.predict(X_test_rfe)))\n",
        "print(\"F1 Score\",f1_score(y_test,logreg2.predict(X_test_rfe)))\n"
      ],
      "execution_count": null,
      "outputs": []
    },
    {
      "cell_type": "markdown",
      "metadata": {
        "id": "7d54c9RSPSmf",
        "colab_type": "text"
      },
      "source": [
        "\n",
        "\n",
        "---\n",
        "## FEature selecting random forest\n"
      ]
    },
    {
      "cell_type": "code",
      "metadata": {
        "id": "TOM__zrQPa0-",
        "colab_type": "code",
        "colab": {}
      },
      "source": [
        "from sklearn.ensemble import  RandomForestClassifier"
      ],
      "execution_count": null,
      "outputs": []
    },
    {
      "cell_type": "code",
      "metadata": {
        "id": "DimTJlSUPiBw",
        "colab_type": "code",
        "colab": {}
      },
      "source": [
        "rf_clf = RandomForestClassifier(n_estimators=10000,random_state=6,n_jobs=-1)"
      ],
      "execution_count": null,
      "outputs": []
    },
    {
      "cell_type": "code",
      "metadata": {
        "id": "f7B5hSOGPrLx",
        "colab_type": "code",
        "colab": {}
      },
      "source": [
        "rf_clf.fit(X_train,y_train)"
      ],
      "execution_count": null,
      "outputs": []
    },
    {
      "cell_type": "code",
      "metadata": {
        "id": "0Jw00jJPPz6q",
        "colab_type": "code",
        "colab": {}
      },
      "source": [
        "feat_importance = pd.Series(rf_clf.feature_importances_,index=X_train.columns)\n",
        "feat_importance.nlargest(15).plot(kind=\"barh\")\n",
        "plt.show()"
      ],
      "execution_count": null,
      "outputs": []
    },
    {
      "cell_type": "code",
      "metadata": {
        "id": "bcDz_CIrQFxc",
        "colab_type": "code",
        "colab": {}
      },
      "source": [
        "from sklearn.feature_selection import SelectFromModel"
      ],
      "execution_count": null,
      "outputs": []
    },
    {
      "cell_type": "code",
      "metadata": {
        "id": "eLnvhh5KRSTn",
        "colab_type": "code",
        "colab": {}
      },
      "source": [
        "rf_sfm = SelectFromModel(rf_clf)"
      ],
      "execution_count": null,
      "outputs": []
    },
    {
      "cell_type": "code",
      "metadata": {
        "id": "8bsl6M5QRZNW",
        "colab_type": "code",
        "colab": {}
      },
      "source": [
        "rf_sfm = rf_sfm.fit(X_train,y_train)"
      ],
      "execution_count": null,
      "outputs": []
    },
    {
      "cell_type": "code",
      "metadata": {
        "id": "hW4mbswbRjeH",
        "colab_type": "code",
        "colab": {}
      },
      "source": [
        "X_train_forest = rf_sfm.transform(X_train)\n",
        "X_test_forest = rf_sfm.transform(X_test)"
      ],
      "execution_count": null,
      "outputs": []
    },
    {
      "cell_type": "code",
      "metadata": {
        "id": "qkmRJdu5R78X",
        "colab_type": "code",
        "colab": {}
      },
      "source": [
        "\n",
        "logreg3 = logreg2.fit(X_train_forest,y_train)"
      ],
      "execution_count": null,
      "outputs": []
    },
    {
      "cell_type": "code",
      "metadata": {
        "id": "LmiNQFrUTlGX",
        "colab_type": "code",
        "colab": {}
      },
      "source": [
        "y_pred_3 = logreg3.predict(X_test_forest)\n",
        "print(\"Accuracy\", accuracy_score(y_test,y_pred_3))\n",
        "print(\"F1 Score\", f1_score(y_test,y_pred_3))"
      ],
      "execution_count": null,
      "outputs": []
    },
    {
      "cell_type": "code",
      "metadata": {
        "id": "ZRZuHig3UIv5",
        "colab_type": "code",
        "colab": {}
      },
      "source": [
        "X_train_forest.shape"
      ],
      "execution_count": null,
      "outputs": []
    },
    {
      "cell_type": "markdown",
      "metadata": {
        "id": "wuc0G_XzUxz7",
        "colab_type": "text"
      },
      "source": [
        "\n",
        "\n",
        "---\n",
        "\n",
        "## Boruta"
      ]
    },
    {
      "cell_type": "code",
      "metadata": {
        "id": "_eg0iMEXUU7R",
        "colab_type": "code",
        "colab": {
          "base_uri": "https://localhost:8080/",
          "height": 105
        },
        "outputId": "afb8d7b8-80ed-4eae-e447-93e1242540a7"
      },
      "source": [
        "!pip install Boruta"
      ],
      "execution_count": 75,
      "outputs": [
        {
          "output_type": "stream",
          "text": [
            "Requirement already satisfied: Boruta in /usr/local/lib/python3.6/dist-packages (0.3)\n",
            "Requirement already satisfied: numpy>=1.10.4 in /usr/local/lib/python3.6/dist-packages (from Boruta) (1.18.5)\n",
            "Requirement already satisfied: scipy>=0.17.0 in /usr/local/lib/python3.6/dist-packages (from Boruta) (1.4.1)\n",
            "Requirement already satisfied: scikit-learn>=0.17.1 in /usr/local/lib/python3.6/dist-packages (from Boruta) (0.22.2.post1)\n",
            "Requirement already satisfied: joblib>=0.11 in /usr/local/lib/python3.6/dist-packages (from scikit-learn>=0.17.1->Boruta) (0.15.1)\n"
          ],
          "name": "stdout"
        }
      ]
    },
    {
      "cell_type": "code",
      "metadata": {
        "id": "W7HavbfnU7bI",
        "colab_type": "code",
        "colab": {}
      },
      "source": [
        "from sklearn.feature_selection import SelectFromModel\n",
        "from sklearn.metrics import accuracy_score,f1_score\n",
        "from sklearn.ensemble import RandomForestClassifier"
      ],
      "execution_count": 76,
      "outputs": []
    },
    {
      "cell_type": "code",
      "metadata": {
        "id": "MjkX0IfyVJoW",
        "colab_type": "code",
        "colab": {}
      },
      "source": [
        "from boruta import BorutaPy"
      ],
      "execution_count": 77,
      "outputs": []
    },
    {
      "cell_type": "code",
      "metadata": {
        "id": "JUjuvdPxVU-m",
        "colab_type": "code",
        "colab": {
          "base_uri": "https://localhost:8080/",
          "height": 158
        },
        "outputId": "1a30278a-d832-4e8d-a891-6af686440393"
      },
      "source": [
        "forest = RandomForestClassifier(n_jobs=-1,max_depth=5,random_state=6)\n",
        "forest.fit(X_train,y_train)"
      ],
      "execution_count": 78,
      "outputs": [
        {
          "output_type": "execute_result",
          "data": {
            "text/plain": [
              "RandomForestClassifier(bootstrap=True, ccp_alpha=0.0, class_weight=None,\n",
              "                       criterion='gini', max_depth=5, max_features='auto',\n",
              "                       max_leaf_nodes=None, max_samples=None,\n",
              "                       min_impurity_decrease=0.0, min_impurity_split=None,\n",
              "                       min_samples_leaf=1, min_samples_split=2,\n",
              "                       min_weight_fraction_leaf=0.0, n_estimators=100,\n",
              "                       n_jobs=-1, oob_score=False, random_state=6, verbose=0,\n",
              "                       warm_start=False)"
            ]
          },
          "metadata": {
            "tags": []
          },
          "execution_count": 78
        }
      ]
    },
    {
      "cell_type": "code",
      "metadata": {
        "id": "6EHVtL0uJJzs",
        "colab_type": "code",
        "colab": {
          "base_uri": "https://localhost:8080/",
          "height": 52
        },
        "outputId": "93338058-79ff-4c59-ebc4-911799b09ca4"
      },
      "source": [
        "# Apply The Full Featured Classifier To The Test Data\n",
        "y_pred = forest.predict(X_test)\n",
        "ac = accuracy_score(y_test, y_pred)\n",
        "fscore = f1_score(y_test ,y_pred)\n",
        "\n",
        "# View The Accuracy Of Our Full Feature (8 Features) Model\n",
        "print(\"Baseline Model Accuracy:\", ac)\n",
        "print(\"Baseline Model F1 Score:\", fscore)"
      ],
      "execution_count": 79,
      "outputs": [
        {
          "output_type": "stream",
          "text": [
            "Baseline Model Accuracy: 0.767343950210507\n",
            "Baseline Model F1 Score: 0.8358941252420917\n"
          ],
          "name": "stdout"
        }
      ]
    },
    {
      "cell_type": "code",
      "metadata": {
        "id": "oXBXCNW9JMq0",
        "colab_type": "code",
        "colab": {
          "base_uri": "https://localhost:8080/",
          "height": 1000
        },
        "outputId": "b79a9c1b-4a7b-439f-bbd2-f20fb282c81b"
      },
      "source": [
        "# define Boruta feature selection method\n",
        "# boruta_selector = BorutaPy(forest, n_estimators='auto', verbose=2)\n",
        "boruta_selector = BorutaPy(forest, n_estimators='auto', verbose=2, random_state=1)\n",
        "\n",
        "# find all relevant features\n",
        "boruta_selector.fit(np.array(X_train), np.array(y_train))"
      ],
      "execution_count": 80,
      "outputs": [
        {
          "output_type": "stream",
          "text": [
            "Iteration: \t1 / 100\n",
            "Confirmed: \t0\n",
            "Tentative: \t47\n",
            "Rejected: \t0\n",
            "Iteration: \t2 / 100\n",
            "Confirmed: \t0\n",
            "Tentative: \t47\n",
            "Rejected: \t0\n",
            "Iteration: \t3 / 100\n",
            "Confirmed: \t0\n",
            "Tentative: \t47\n",
            "Rejected: \t0\n",
            "Iteration: \t4 / 100\n",
            "Confirmed: \t0\n",
            "Tentative: \t47\n",
            "Rejected: \t0\n",
            "Iteration: \t5 / 100\n",
            "Confirmed: \t0\n",
            "Tentative: \t47\n",
            "Rejected: \t0\n",
            "Iteration: \t6 / 100\n",
            "Confirmed: \t0\n",
            "Tentative: \t47\n",
            "Rejected: \t0\n",
            "Iteration: \t7 / 100\n",
            "Confirmed: \t0\n",
            "Tentative: \t47\n",
            "Rejected: \t0\n",
            "Iteration: \t8 / 100\n",
            "Confirmed: \t15\n",
            "Tentative: \t6\n",
            "Rejected: \t26\n",
            "Iteration: \t9 / 100\n",
            "Confirmed: \t15\n",
            "Tentative: \t6\n",
            "Rejected: \t26\n",
            "Iteration: \t10 / 100\n",
            "Confirmed: \t15\n",
            "Tentative: \t6\n",
            "Rejected: \t26\n",
            "Iteration: \t11 / 100\n",
            "Confirmed: \t15\n",
            "Tentative: \t6\n",
            "Rejected: \t26\n",
            "Iteration: \t12 / 100\n",
            "Confirmed: \t15\n",
            "Tentative: \t6\n",
            "Rejected: \t26\n",
            "Iteration: \t13 / 100\n",
            "Confirmed: \t15\n",
            "Tentative: \t5\n",
            "Rejected: \t27\n",
            "Iteration: \t14 / 100\n",
            "Confirmed: \t15\n",
            "Tentative: \t5\n",
            "Rejected: \t27\n",
            "Iteration: \t15 / 100\n",
            "Confirmed: \t15\n",
            "Tentative: \t5\n",
            "Rejected: \t27\n",
            "Iteration: \t16 / 100\n",
            "Confirmed: \t15\n",
            "Tentative: \t5\n",
            "Rejected: \t27\n",
            "Iteration: \t17 / 100\n",
            "Confirmed: \t15\n",
            "Tentative: \t5\n",
            "Rejected: \t27\n",
            "Iteration: \t18 / 100\n",
            "Confirmed: \t15\n",
            "Tentative: \t5\n",
            "Rejected: \t27\n",
            "Iteration: \t19 / 100\n",
            "Confirmed: \t15\n",
            "Tentative: \t4\n",
            "Rejected: \t28\n",
            "Iteration: \t20 / 100\n",
            "Confirmed: \t15\n",
            "Tentative: \t4\n",
            "Rejected: \t28\n",
            "Iteration: \t21 / 100\n",
            "Confirmed: \t15\n",
            "Tentative: \t4\n",
            "Rejected: \t28\n",
            "Iteration: \t22 / 100\n",
            "Confirmed: \t16\n",
            "Tentative: \t3\n",
            "Rejected: \t28\n",
            "Iteration: \t23 / 100\n",
            "Confirmed: \t16\n",
            "Tentative: \t3\n",
            "Rejected: \t28\n",
            "Iteration: \t24 / 100\n",
            "Confirmed: \t16\n",
            "Tentative: \t3\n",
            "Rejected: \t28\n",
            "Iteration: \t25 / 100\n",
            "Confirmed: \t16\n",
            "Tentative: \t3\n",
            "Rejected: \t28\n",
            "Iteration: \t26 / 100\n",
            "Confirmed: \t16\n",
            "Tentative: \t3\n",
            "Rejected: \t28\n",
            "Iteration: \t27 / 100\n",
            "Confirmed: \t16\n",
            "Tentative: \t3\n",
            "Rejected: \t28\n",
            "Iteration: \t28 / 100\n",
            "Confirmed: \t16\n",
            "Tentative: \t3\n",
            "Rejected: \t28\n",
            "Iteration: \t29 / 100\n",
            "Confirmed: \t16\n",
            "Tentative: \t3\n",
            "Rejected: \t28\n",
            "Iteration: \t30 / 100\n",
            "Confirmed: \t16\n",
            "Tentative: \t3\n",
            "Rejected: \t28\n",
            "Iteration: \t31 / 100\n",
            "Confirmed: \t16\n",
            "Tentative: \t3\n",
            "Rejected: \t28\n",
            "Iteration: \t32 / 100\n",
            "Confirmed: \t16\n",
            "Tentative: \t2\n",
            "Rejected: \t29\n",
            "Iteration: \t33 / 100\n",
            "Confirmed: \t16\n",
            "Tentative: \t2\n",
            "Rejected: \t29\n",
            "Iteration: \t34 / 100\n",
            "Confirmed: \t16\n",
            "Tentative: \t2\n",
            "Rejected: \t29\n",
            "Iteration: \t35 / 100\n",
            "Confirmed: \t16\n",
            "Tentative: \t2\n",
            "Rejected: \t29\n",
            "Iteration: \t36 / 100\n",
            "Confirmed: \t16\n",
            "Tentative: \t2\n",
            "Rejected: \t29\n",
            "Iteration: \t37 / 100\n",
            "Confirmed: \t16\n",
            "Tentative: \t1\n",
            "Rejected: \t30\n",
            "Iteration: \t38 / 100\n",
            "Confirmed: \t16\n",
            "Tentative: \t1\n",
            "Rejected: \t30\n",
            "Iteration: \t39 / 100\n",
            "Confirmed: \t16\n",
            "Tentative: \t1\n",
            "Rejected: \t30\n",
            "Iteration: \t40 / 100\n",
            "Confirmed: \t16\n",
            "Tentative: \t1\n",
            "Rejected: \t30\n",
            "Iteration: \t41 / 100\n",
            "Confirmed: \t16\n",
            "Tentative: \t1\n",
            "Rejected: \t30\n",
            "Iteration: \t42 / 100\n",
            "Confirmed: \t16\n",
            "Tentative: \t1\n",
            "Rejected: \t30\n",
            "Iteration: \t43 / 100\n",
            "Confirmed: \t16\n",
            "Tentative: \t1\n",
            "Rejected: \t30\n",
            "Iteration: \t44 / 100\n",
            "Confirmed: \t16\n",
            "Tentative: \t1\n",
            "Rejected: \t30\n",
            "Iteration: \t45 / 100\n",
            "Confirmed: \t16\n",
            "Tentative: \t1\n",
            "Rejected: \t30\n",
            "Iteration: \t46 / 100\n",
            "Confirmed: \t16\n",
            "Tentative: \t1\n",
            "Rejected: \t30\n",
            "Iteration: \t47 / 100\n",
            "Confirmed: \t16\n",
            "Tentative: \t1\n",
            "Rejected: \t30\n",
            "Iteration: \t48 / 100\n",
            "Confirmed: \t16\n",
            "Tentative: \t1\n",
            "Rejected: \t30\n",
            "Iteration: \t49 / 100\n",
            "Confirmed: \t16\n",
            "Tentative: \t1\n",
            "Rejected: \t30\n",
            "Iteration: \t50 / 100\n",
            "Confirmed: \t16\n",
            "Tentative: \t1\n",
            "Rejected: \t30\n",
            "Iteration: \t51 / 100\n",
            "Confirmed: \t16\n",
            "Tentative: \t1\n",
            "Rejected: \t30\n",
            "Iteration: \t52 / 100\n",
            "Confirmed: \t16\n",
            "Tentative: \t1\n",
            "Rejected: \t30\n",
            "Iteration: \t53 / 100\n",
            "Confirmed: \t16\n",
            "Tentative: \t1\n",
            "Rejected: \t30\n",
            "Iteration: \t54 / 100\n",
            "Confirmed: \t16\n",
            "Tentative: \t1\n",
            "Rejected: \t30\n",
            "Iteration: \t55 / 100\n",
            "Confirmed: \t16\n",
            "Tentative: \t1\n",
            "Rejected: \t30\n",
            "Iteration: \t56 / 100\n",
            "Confirmed: \t16\n",
            "Tentative: \t1\n",
            "Rejected: \t30\n",
            "Iteration: \t57 / 100\n",
            "Confirmed: \t16\n",
            "Tentative: \t1\n",
            "Rejected: \t30\n",
            "Iteration: \t58 / 100\n",
            "Confirmed: \t16\n",
            "Tentative: \t1\n",
            "Rejected: \t30\n",
            "Iteration: \t59 / 100\n",
            "Confirmed: \t16\n",
            "Tentative: \t1\n",
            "Rejected: \t30\n",
            "Iteration: \t60 / 100\n",
            "Confirmed: \t16\n",
            "Tentative: \t1\n",
            "Rejected: \t30\n",
            "Iteration: \t61 / 100\n",
            "Confirmed: \t16\n",
            "Tentative: \t1\n",
            "Rejected: \t30\n",
            "Iteration: \t62 / 100\n",
            "Confirmed: \t16\n",
            "Tentative: \t0\n",
            "Rejected: \t31\n",
            "\n",
            "\n",
            "BorutaPy finished running.\n",
            "\n",
            "Iteration: \t63 / 100\n",
            "Confirmed: \t16\n",
            "Tentative: \t0\n",
            "Rejected: \t31\n"
          ],
          "name": "stdout"
        },
        {
          "output_type": "execute_result",
          "data": {
            "text/plain": [
              "BorutaPy(alpha=0.05,\n",
              "         estimator=RandomForestClassifier(bootstrap=True, ccp_alpha=0.0,\n",
              "                                          class_weight=None, criterion='gini',\n",
              "                                          max_depth=5, max_features='auto',\n",
              "                                          max_leaf_nodes=None, max_samples=None,\n",
              "                                          min_impurity_decrease=0.0,\n",
              "                                          min_impurity_split=None,\n",
              "                                          min_samples_leaf=1,\n",
              "                                          min_samples_split=2,\n",
              "                                          min_weight_fraction_leaf=0.0,\n",
              "                                          n_estimators=116, n_jobs=-1,\n",
              "                                          oob_score=False,\n",
              "                                          random_state=RandomState(MT19937) at 0x7F1D0C3AECA8,\n",
              "                                          verbose=0, warm_start=False),\n",
              "         max_iter=100, n_estimators='auto', perc=100,\n",
              "         random_state=RandomState(MT19937) at 0x7F1D0C3AECA8, two_step=True,\n",
              "         verbose=2)"
            ]
          },
          "metadata": {
            "tags": []
          },
          "execution_count": 80
        }
      ]
    },
    {
      "cell_type": "code",
      "metadata": {
        "id": "RKY-38A5JOkQ",
        "colab_type": "code",
        "colab": {
          "base_uri": "https://localhost:8080/",
          "height": 141
        },
        "outputId": "8b31a426-7443-4cba-c338-91ad129aa21a"
      },
      "source": [
        "# check selected features\n",
        "print(\"Selected Features: \", boruta_selector.support_)\n",
        " \n",
        "# check ranking of features\n",
        "print(\"Ranking: \",boruta_selector.ranking_)\n",
        "\n",
        "print(\"No. of significant features: \", boruta_selector.n_features_)"
      ],
      "execution_count": 81,
      "outputs": [
        {
          "output_type": "stream",
          "text": [
            "Selected Features:  [ True  True  True  True  True False  True False False  True  True False\n",
            " False False False False False False False False False False False False\n",
            " False  True False False False False False False False False  True False\n",
            " False False False False  True  True  True  True  True  True False]\n",
            "Ranking:  [ 1  1  1  1  1  3  1 10 12  1  1 14 23 25 31 30 25 29 22  7 20 27 14 11\n",
            " 19  1  2 17 23 28 12 17 21  6  1  9 16  4  4  8  1  1  1  1  1  1 32]\n",
            "No. of significant features:  16\n"
          ],
          "name": "stdout"
        }
      ]
    },
    {
      "cell_type": "code",
      "metadata": {
        "id": "GCN1zAnAJsOI",
        "colab_type": "code",
        "colab": {
          "base_uri": "https://localhost:8080/",
          "height": 1000
        },
        "outputId": "ecb403eb-2f4b-4673-ab8a-d33e279b6b31"
      },
      "source": [
        "# Let's visualise it better in the form of a table\n",
        "selected_rfe_features = pd.DataFrame({'Feature':list(X_train.columns),\n",
        "                                      'Ranking':boruta_selector.ranking_})\n",
        "selected_rfe_features.sort_values(by='Ranking')"
      ],
      "execution_count": 82,
      "outputs": [
        {
          "output_type": "execute_result",
          "data": {
            "text/html": [
              "<div>\n",
              "<style scoped>\n",
              "    .dataframe tbody tr th:only-of-type {\n",
              "        vertical-align: middle;\n",
              "    }\n",
              "\n",
              "    .dataframe tbody tr th {\n",
              "        vertical-align: top;\n",
              "    }\n",
              "\n",
              "    .dataframe thead th {\n",
              "        text-align: right;\n",
              "    }\n",
              "</style>\n",
              "<table border=\"1\" class=\"dataframe\">\n",
              "  <thead>\n",
              "    <tr style=\"text-align: right;\">\n",
              "      <th></th>\n",
              "      <th>Feature</th>\n",
              "      <th>Ranking</th>\n",
              "    </tr>\n",
              "  </thead>\n",
              "  <tbody>\n",
              "    <tr>\n",
              "      <th>0</th>\n",
              "      <td>Diagnosed_Condition</td>\n",
              "      <td>1</td>\n",
              "    </tr>\n",
              "    <tr>\n",
              "      <th>34</th>\n",
              "      <td>Treated_with_drugs_DX3</td>\n",
              "      <td>1</td>\n",
              "    </tr>\n",
              "    <tr>\n",
              "      <th>40</th>\n",
              "      <td>Treated_with_drugs_DX5</td>\n",
              "      <td>1</td>\n",
              "    </tr>\n",
              "    <tr>\n",
              "      <th>41</th>\n",
              "      <td>Treated_with_drugs_DX6</td>\n",
              "      <td>1</td>\n",
              "    </tr>\n",
              "    <tr>\n",
              "      <th>45</th>\n",
              "      <td>Patient_Rural_Urban_URBAN</td>\n",
              "      <td>1</td>\n",
              "    </tr>\n",
              "    <tr>\n",
              "      <th>43</th>\n",
              "      <td>Patient_Smoker_YES</td>\n",
              "      <td>1</td>\n",
              "    </tr>\n",
              "    <tr>\n",
              "      <th>10</th>\n",
              "      <td>Treated_with_drugs_DX1</td>\n",
              "      <td>1</td>\n",
              "    </tr>\n",
              "    <tr>\n",
              "      <th>9</th>\n",
              "      <td>Number_of_prev_cond</td>\n",
              "      <td>1</td>\n",
              "    </tr>\n",
              "    <tr>\n",
              "      <th>42</th>\n",
              "      <td>Patient_Smoker_NO</td>\n",
              "      <td>1</td>\n",
              "    </tr>\n",
              "    <tr>\n",
              "      <th>6</th>\n",
              "      <td>D</td>\n",
              "      <td>1</td>\n",
              "    </tr>\n",
              "    <tr>\n",
              "      <th>4</th>\n",
              "      <td>B</td>\n",
              "      <td>1</td>\n",
              "    </tr>\n",
              "    <tr>\n",
              "      <th>3</th>\n",
              "      <td>A</td>\n",
              "      <td>1</td>\n",
              "    </tr>\n",
              "    <tr>\n",
              "      <th>2</th>\n",
              "      <td>Patient_Body_Mass_Index</td>\n",
              "      <td>1</td>\n",
              "    </tr>\n",
              "    <tr>\n",
              "      <th>1</th>\n",
              "      <td>Patient_Age</td>\n",
              "      <td>1</td>\n",
              "    </tr>\n",
              "    <tr>\n",
              "      <th>44</th>\n",
              "      <td>Patient_Rural_Urban_RURAL</td>\n",
              "      <td>1</td>\n",
              "    </tr>\n",
              "    <tr>\n",
              "      <th>25</th>\n",
              "      <td>Treated_with_drugs_DX1 DX5</td>\n",
              "      <td>1</td>\n",
              "    </tr>\n",
              "    <tr>\n",
              "      <th>26</th>\n",
              "      <td>Treated_with_drugs_DX2</td>\n",
              "      <td>2</td>\n",
              "    </tr>\n",
              "    <tr>\n",
              "      <th>5</th>\n",
              "      <td>C</td>\n",
              "      <td>3</td>\n",
              "    </tr>\n",
              "    <tr>\n",
              "      <th>38</th>\n",
              "      <td>Treated_with_drugs_DX4</td>\n",
              "      <td>4</td>\n",
              "    </tr>\n",
              "    <tr>\n",
              "      <th>37</th>\n",
              "      <td>Treated_with_drugs_DX3 DX5</td>\n",
              "      <td>4</td>\n",
              "    </tr>\n",
              "    <tr>\n",
              "      <th>33</th>\n",
              "      <td>Treated_with_drugs_DX2 DX5</td>\n",
              "      <td>6</td>\n",
              "    </tr>\n",
              "    <tr>\n",
              "      <th>19</th>\n",
              "      <td>Treated_with_drugs_DX1 DX3</td>\n",
              "      <td>7</td>\n",
              "    </tr>\n",
              "    <tr>\n",
              "      <th>39</th>\n",
              "      <td>Treated_with_drugs_DX4 DX5</td>\n",
              "      <td>8</td>\n",
              "    </tr>\n",
              "    <tr>\n",
              "      <th>35</th>\n",
              "      <td>Treated_with_drugs_DX3 DX4</td>\n",
              "      <td>9</td>\n",
              "    </tr>\n",
              "    <tr>\n",
              "      <th>7</th>\n",
              "      <td>E</td>\n",
              "      <td>10</td>\n",
              "    </tr>\n",
              "    <tr>\n",
              "      <th>23</th>\n",
              "      <td>Treated_with_drugs_DX1 DX4</td>\n",
              "      <td>11</td>\n",
              "    </tr>\n",
              "    <tr>\n",
              "      <th>8</th>\n",
              "      <td>F</td>\n",
              "      <td>12</td>\n",
              "    </tr>\n",
              "    <tr>\n",
              "      <th>30</th>\n",
              "      <td>Treated_with_drugs_DX2 DX3 DX5</td>\n",
              "      <td>12</td>\n",
              "    </tr>\n",
              "    <tr>\n",
              "      <th>22</th>\n",
              "      <td>Treated_with_drugs_DX1 DX3 DX5</td>\n",
              "      <td>14</td>\n",
              "    </tr>\n",
              "    <tr>\n",
              "      <th>11</th>\n",
              "      <td>Treated_with_drugs_DX1 DX2</td>\n",
              "      <td>14</td>\n",
              "    </tr>\n",
              "    <tr>\n",
              "      <th>36</th>\n",
              "      <td>Treated_with_drugs_DX3 DX4 DX5</td>\n",
              "      <td>16</td>\n",
              "    </tr>\n",
              "    <tr>\n",
              "      <th>31</th>\n",
              "      <td>Treated_with_drugs_DX2 DX4</td>\n",
              "      <td>17</td>\n",
              "    </tr>\n",
              "    <tr>\n",
              "      <th>27</th>\n",
              "      <td>Treated_with_drugs_DX2 DX3</td>\n",
              "      <td>17</td>\n",
              "    </tr>\n",
              "    <tr>\n",
              "      <th>24</th>\n",
              "      <td>Treated_with_drugs_DX1 DX4 DX5</td>\n",
              "      <td>19</td>\n",
              "    </tr>\n",
              "    <tr>\n",
              "      <th>20</th>\n",
              "      <td>Treated_with_drugs_DX1 DX3 DX4</td>\n",
              "      <td>20</td>\n",
              "    </tr>\n",
              "    <tr>\n",
              "      <th>32</th>\n",
              "      <td>Treated_with_drugs_DX2 DX4 DX5</td>\n",
              "      <td>21</td>\n",
              "    </tr>\n",
              "    <tr>\n",
              "      <th>18</th>\n",
              "      <td>Treated_with_drugs_DX1 DX2 DX5</td>\n",
              "      <td>22</td>\n",
              "    </tr>\n",
              "    <tr>\n",
              "      <th>12</th>\n",
              "      <td>Treated_with_drugs_DX1 DX2 DX3</td>\n",
              "      <td>23</td>\n",
              "    </tr>\n",
              "    <tr>\n",
              "      <th>28</th>\n",
              "      <td>Treated_with_drugs_DX2 DX3 DX4</td>\n",
              "      <td>23</td>\n",
              "    </tr>\n",
              "    <tr>\n",
              "      <th>16</th>\n",
              "      <td>Treated_with_drugs_DX1 DX2 DX4</td>\n",
              "      <td>25</td>\n",
              "    </tr>\n",
              "    <tr>\n",
              "      <th>13</th>\n",
              "      <td>Treated_with_drugs_DX1 DX2 DX3 DX4</td>\n",
              "      <td>25</td>\n",
              "    </tr>\n",
              "    <tr>\n",
              "      <th>21</th>\n",
              "      <td>Treated_with_drugs_DX1 DX3 DX4 DX5</td>\n",
              "      <td>27</td>\n",
              "    </tr>\n",
              "    <tr>\n",
              "      <th>29</th>\n",
              "      <td>Treated_with_drugs_DX2 DX3 DX4 DX5</td>\n",
              "      <td>28</td>\n",
              "    </tr>\n",
              "    <tr>\n",
              "      <th>17</th>\n",
              "      <td>Treated_with_drugs_DX1 DX2 DX4 DX5</td>\n",
              "      <td>29</td>\n",
              "    </tr>\n",
              "    <tr>\n",
              "      <th>15</th>\n",
              "      <td>Treated_with_drugs_DX1 DX2 DX3 DX5</td>\n",
              "      <td>30</td>\n",
              "    </tr>\n",
              "    <tr>\n",
              "      <th>14</th>\n",
              "      <td>Treated_with_drugs_DX1 DX2 DX3 DX4 DX5</td>\n",
              "      <td>31</td>\n",
              "    </tr>\n",
              "    <tr>\n",
              "      <th>46</th>\n",
              "      <td>Patient_mental_condition_Stable</td>\n",
              "      <td>32</td>\n",
              "    </tr>\n",
              "  </tbody>\n",
              "</table>\n",
              "</div>"
            ],
            "text/plain": [
              "                                    Feature  Ranking\n",
              "0                       Diagnosed_Condition        1\n",
              "34                  Treated_with_drugs_DX3         1\n",
              "40                  Treated_with_drugs_DX5         1\n",
              "41                   Treated_with_drugs_DX6        1\n",
              "45                Patient_Rural_Urban_URBAN        1\n",
              "43                       Patient_Smoker_YES        1\n",
              "10                  Treated_with_drugs_DX1         1\n",
              "9                       Number_of_prev_cond        1\n",
              "42                        Patient_Smoker_NO        1\n",
              "6                                         D        1\n",
              "4                                         B        1\n",
              "3                                         A        1\n",
              "2                   Patient_Body_Mass_Index        1\n",
              "1                               Patient_Age        1\n",
              "44                Patient_Rural_Urban_RURAL        1\n",
              "25              Treated_with_drugs_DX1 DX5         1\n",
              "26                  Treated_with_drugs_DX2         2\n",
              "5                                         C        3\n",
              "38                  Treated_with_drugs_DX4         4\n",
              "37              Treated_with_drugs_DX3 DX5         4\n",
              "33              Treated_with_drugs_DX2 DX5         6\n",
              "19              Treated_with_drugs_DX1 DX3         7\n",
              "39              Treated_with_drugs_DX4 DX5         8\n",
              "35              Treated_with_drugs_DX3 DX4         9\n",
              "7                                         E       10\n",
              "23              Treated_with_drugs_DX1 DX4        11\n",
              "8                                         F       12\n",
              "30          Treated_with_drugs_DX2 DX3 DX5        12\n",
              "22          Treated_with_drugs_DX1 DX3 DX5        14\n",
              "11              Treated_with_drugs_DX1 DX2        14\n",
              "36          Treated_with_drugs_DX3 DX4 DX5        16\n",
              "31              Treated_with_drugs_DX2 DX4        17\n",
              "27              Treated_with_drugs_DX2 DX3        17\n",
              "24          Treated_with_drugs_DX1 DX4 DX5        19\n",
              "20          Treated_with_drugs_DX1 DX3 DX4        20\n",
              "32          Treated_with_drugs_DX2 DX4 DX5        21\n",
              "18          Treated_with_drugs_DX1 DX2 DX5        22\n",
              "12          Treated_with_drugs_DX1 DX2 DX3        23\n",
              "28          Treated_with_drugs_DX2 DX3 DX4        23\n",
              "16          Treated_with_drugs_DX1 DX2 DX4        25\n",
              "13      Treated_with_drugs_DX1 DX2 DX3 DX4        25\n",
              "21      Treated_with_drugs_DX1 DX3 DX4 DX5        27\n",
              "29      Treated_with_drugs_DX2 DX3 DX4 DX5        28\n",
              "17      Treated_with_drugs_DX1 DX2 DX4 DX5        29\n",
              "15      Treated_with_drugs_DX1 DX2 DX3 DX5        30\n",
              "14  Treated_with_drugs_DX1 DX2 DX3 DX4 DX5        31\n",
              "46          Patient_mental_condition_Stable       32"
            ]
          },
          "metadata": {
            "tags": []
          },
          "execution_count": 82
        }
      ]
    },
    {
      "cell_type": "code",
      "metadata": {
        "id": "QDel_rW3JuHE",
        "colab_type": "code",
        "colab": {}
      },
      "source": [
        "X_important_train = boruta_selector.transform(np.array(X_train))\n",
        "X_important_test = boruta_selector.transform(np.array(X_test))"
      ],
      "execution_count": 83,
      "outputs": []
    },
    {
      "cell_type": "code",
      "metadata": {
        "id": "ch6qUJIzJxzZ",
        "colab_type": "code",
        "colab": {
          "base_uri": "https://localhost:8080/",
          "height": 158
        },
        "outputId": "df3a764a-8003-4b6c-e676-532fa88b9137"
      },
      "source": [
        "# Create a new random forest classifier for the most important features\n",
        "rf_important = RandomForestClassifier(n_estimators=10000, random_state=1, n_jobs=-1)\n",
        "\n",
        "# Train the new classifier on the new dataset containing the most important features\n",
        "rf_important.fit(X_important_train, y_train)"
      ],
      "execution_count": 84,
      "outputs": [
        {
          "output_type": "execute_result",
          "data": {
            "text/plain": [
              "RandomForestClassifier(bootstrap=True, ccp_alpha=0.0, class_weight=None,\n",
              "                       criterion='gini', max_depth=None, max_features='auto',\n",
              "                       max_leaf_nodes=None, max_samples=None,\n",
              "                       min_impurity_decrease=0.0, min_impurity_split=None,\n",
              "                       min_samples_leaf=1, min_samples_split=2,\n",
              "                       min_weight_fraction_leaf=0.0, n_estimators=10000,\n",
              "                       n_jobs=-1, oob_score=False, random_state=1, verbose=0,\n",
              "                       warm_start=False)"
            ]
          },
          "metadata": {
            "tags": []
          },
          "execution_count": 84
        }
      ]
    },
    {
      "cell_type": "code",
      "metadata": {
        "id": "wiR-Gld6J1MC",
        "colab_type": "code",
        "colab": {
          "base_uri": "https://localhost:8080/",
          "height": 52
        },
        "outputId": "002587c1-0afa-46db-81ae-b1e74b255457"
      },
      "source": [
        "# Apply The Limited Featured Classifier To The Test Data\n",
        "y_important_pred = rf_important.predict(X_important_test)\n",
        "\n",
        "# View The Accuracy Of Our Limited Feature (4 Features) Model\n",
        "rf_imp_ac = accuracy_score(y_test, y_important_pred)\n",
        "rf_imp_fscore = f1_score(y_test, y_important_pred)\n",
        "\n",
        "print(\"Limited Features Boruta Model Accuracy:\", rf_imp_ac)\n",
        "print(\"Limited Features Boruta Model F1 Score:\", rf_imp_fscore)"
      ],
      "execution_count": 85,
      "outputs": [
        {
          "output_type": "stream",
          "text": [
            "Limited Features Boruta Model Accuracy: 0.8160351455244371\n",
            "Limited Features Boruta Model F1 Score: 0.8550829127613555\n"
          ],
          "name": "stdout"
        }
      ]
    },
    {
      "cell_type": "markdown",
      "metadata": {
        "id": "jjmKNfxuK-zh",
        "colab_type": "text"
      },
      "source": [
        "XGBOost"
      ]
    },
    {
      "cell_type": "code",
      "metadata": {
        "id": "Wg89y3cZRf-Y",
        "colab_type": "code",
        "colab": {}
      },
      "source": [
        "test_new = pd.read_csv('https://raw.githubusercontent.com/dphi-official/Datasets/master/pharma_data/Testing_set_begs.csv')"
      ],
      "execution_count": 138,
      "outputs": []
    },
    {
      "cell_type": "code",
      "metadata": {
        "id": "OeFWNoQ6TtoW",
        "colab_type": "code",
        "colab": {}
      },
      "source": [
        "test = test_new.drop(\"Patient_ID\",axis=1)"
      ],
      "execution_count": 139,
      "outputs": []
    },
    {
      "cell_type": "code",
      "metadata": {
        "id": "ZVmcynlaT_Uk",
        "colab_type": "code",
        "colab": {}
      },
      "source": [
        "test = test.drop(\"Z\",axis=1)"
      ],
      "execution_count": 140,
      "outputs": []
    },
    {
      "cell_type": "code",
      "metadata": {
        "id": "xFu295ksUFOd",
        "colab_type": "code",
        "colab": {}
      },
      "source": [
        "test = test.drop('ID_Patient_Care_Situation',axis=1)"
      ],
      "execution_count": 141,
      "outputs": []
    },
    {
      "cell_type": "code",
      "metadata": {
        "id": "XK-PbTu_UB8T",
        "colab_type": "code",
        "colab": {}
      },
      "source": [
        "\n",
        "for i in col_cat:\n",
        "  test = pd.get_dummies(test,columns=[i],prefix=[i])"
      ],
      "execution_count": 142,
      "outputs": []
    },
    {
      "cell_type": "code",
      "metadata": {
        "id": "nDv5r2lEU8Zg",
        "colab_type": "code",
        "colab": {
          "base_uri": "https://localhost:8080/",
          "height": 34
        },
        "outputId": "4fc286d9-3116-45d6-a530-589ae5f57daa"
      },
      "source": [
        "X.shape"
      ],
      "execution_count": 143,
      "outputs": [
        {
          "output_type": "execute_result",
          "data": {
            "text/plain": [
              "(21849, 47)"
            ]
          },
          "metadata": {
            "tags": []
          },
          "execution_count": 143
        }
      ]
    },
    {
      "cell_type": "code",
      "metadata": {
        "id": "hE2cXf3jJ4aW",
        "colab_type": "code",
        "colab": {}
      },
      "source": [
        "from xgboost import XGBClassifier\n",
        "from xgboost import plot_importance"
      ],
      "execution_count": 144,
      "outputs": []
    },
    {
      "cell_type": "code",
      "metadata": {
        "id": "uMFhW4EzK-CL",
        "colab_type": "code",
        "colab": {}
      },
      "source": [
        "xgbmodel = XGBClassifier(random_state=6)"
      ],
      "execution_count": 145,
      "outputs": []
    },
    {
      "cell_type": "code",
      "metadata": {
        "id": "fkia01KNObBc",
        "colab_type": "code",
        "colab": {
          "base_uri": "https://localhost:8080/",
          "height": 141
        },
        "outputId": "c841a2b7-ef64-429b-a911-33739e9f4559"
      },
      "source": [
        "xgbmodel.fit(X,y)"
      ],
      "execution_count": 203,
      "outputs": [
        {
          "output_type": "execute_result",
          "data": {
            "text/plain": [
              "XGBClassifier(base_score=0.5, booster='gbtree', colsample_bylevel=1,\n",
              "              colsample_bynode=1, colsample_bytree=1, gamma=0,\n",
              "              learning_rate=0.1, max_delta_step=0, max_depth=3,\n",
              "              min_child_weight=1, missing=None, n_estimators=100, n_jobs=1,\n",
              "              nthread=None, objective='binary:logistic', random_state=6,\n",
              "              reg_alpha=0, reg_lambda=1, scale_pos_weight=1, seed=None,\n",
              "              silent=None, subsample=1, verbosity=1)"
            ]
          },
          "metadata": {
            "tags": []
          },
          "execution_count": 203
        }
      ]
    },
    {
      "cell_type": "code",
      "metadata": {
        "id": "Z8CeES-2LtrM",
        "colab_type": "code",
        "colab": {
          "base_uri": "https://localhost:8080/",
          "height": 436
        },
        "outputId": "f5dd7f37-5218-4149-d115-72a7c755f16b"
      },
      "source": [
        "print(\"Feature Importances : \", xgbmodel.feature_importances_)\n",
        "\n",
        "# plot feature importance\n",
        "plot_importance(xgbmodel)\n",
        "plt.show()"
      ],
      "execution_count": 204,
      "outputs": [
        {
          "output_type": "stream",
          "text": [
            "Feature Importances :  [0.06981708 0.06463675 0.09039853 0.05854087 0.02132596 0.09473816\n",
            " 0.04998073 0.01836735 0.         0.03471358 0.02542281 0.01973772\n",
            " 0.01110071 0.         0.         0.         0.         0.\n",
            " 0.         0.00638489 0.         0.         0.00731649 0.\n",
            " 0.         0.01553475 0.         0.         0.         0.\n",
            " 0.         0.         0.         0.01123543 0.01579233 0.\n",
            " 0.00335175 0.00775891 0.01831426 0.00533824 0.02470158 0.1736417\n",
            " 0.09680282 0.         0.05504658 0.         0.        ]\n"
          ],
          "name": "stdout"
        },
        {
          "output_type": "display_data",
          "data": {
            "image/png": "[encoded data removed]",
            "text/plain": [
              "<Figure size 432x288 with 1 Axes>"
            ]
          },
          "metadata": {
            "tags": [],
            "needs_background": "light"
          }
        }
      ]
    },
    {
      "cell_type": "code",
      "metadata": {
        "id": "S0gbRr5KLuLE",
        "colab_type": "code",
        "colab": {}
      },
      "source": [
        "selection = SelectFromModel(xgbmodel)\n",
        "selection.fit(X, y)\n",
        "\n",
        "# Transform the train and test features\n",
        "select_X_train = selection.transform(X)\n",
        "select_X_test = selection.transform(test) \n"
      ],
      "execution_count": 205,
      "outputs": []
    },
    {
      "cell_type": "code",
      "metadata": {
        "id": "BpdnlQDZVknd",
        "colab_type": "code",
        "colab": {
          "base_uri": "https://localhost:8080/",
          "height": 34
        },
        "outputId": "8126cc3c-b71e-439b-e4ba-786e07614e91"
      },
      "source": [
        "select_X_train.shape\n",
        "y_train.shape"
      ],
      "execution_count": 206,
      "outputs": [
        {
          "output_type": "execute_result",
          "data": {
            "text/plain": [
              "(16386,)"
            ]
          },
          "metadata": {
            "tags": []
          },
          "execution_count": 206
        }
      ]
    },
    {
      "cell_type": "code",
      "metadata": {
        "id": "5OrL4Ts_VQNK",
        "colab_type": "code",
        "colab": {
          "base_uri": "https://localhost:8080/",
          "height": 141
        },
        "outputId": "d3103d10-50df-49ac-ee07-7b6a3aca7e20"
      },
      "source": [
        "\n",
        "# train model\n",
        "selection_model = XGBClassifier()\n",
        "selection_model.fit(select_X_train, y)"
      ],
      "execution_count": 207,
      "outputs": [
        {
          "output_type": "execute_result",
          "data": {
            "text/plain": [
              "XGBClassifier(base_score=0.5, booster='gbtree', colsample_bylevel=1,\n",
              "              colsample_bynode=1, colsample_bytree=1, gamma=0,\n",
              "              learning_rate=0.1, max_delta_step=0, max_depth=3,\n",
              "              min_child_weight=1, missing=None, n_estimators=100, n_jobs=1,\n",
              "              nthread=None, objective='binary:logistic', random_state=0,\n",
              "              reg_alpha=0, reg_lambda=1, scale_pos_weight=1, seed=None,\n",
              "              silent=None, subsample=1, verbosity=1)"
            ]
          },
          "metadata": {
            "tags": []
          },
          "execution_count": 207
        }
      ]
    },
    {
      "cell_type": "code",
      "metadata": {
        "id": "0dwKBmzQWcmI",
        "colab_type": "code",
        "colab": {
          "base_uri": "https://localhost:8080/",
          "height": 352
        },
        "outputId": "9f791ab3-c539-4a08-b706-bc699d5ff8a6"
      },
      "source": [
        "# define Boruta feature selection method\n",
        "# boruta_selector = BorutaPy(forest, n_estimators='auto', verbose=2)\n",
        "boruta_selector2 = BorutaPy(selection, n_estimators='auto', verbose=2, random_state=1)\n",
        "\n",
        "# find all relevant features\n",
        "boruta_selector2.fit(np.array(X), np.array(y))"
      ],
      "execution_count": 208,
      "outputs": [
        {
          "output_type": "error",
          "ename": "KeyError",
          "evalue": "ignored",
          "traceback": [
            "\u001b[0;31m---------------------------------------------------------------------------\u001b[0m",
            "\u001b[0;31mKeyError\u001b[0m                                  Traceback (most recent call last)",
            "\u001b[0;32m<ipython-input-208-72413f31083e>\u001b[0m in \u001b[0;36m<module>\u001b[0;34m()\u001b[0m\n\u001b[1;32m      4\u001b[0m \u001b[0;34m\u001b[0m\u001b[0m\n\u001b[1;32m      5\u001b[0m \u001b[0;31m# find all relevant features\u001b[0m\u001b[0;34m\u001b[0m\u001b[0;34m\u001b[0m\u001b[0;34m\u001b[0m\u001b[0m\n\u001b[0;32m----> 6\u001b[0;31m \u001b[0mboruta_selector2\u001b[0m\u001b[0;34m.\u001b[0m\u001b[0mfit\u001b[0m\u001b[0;34m(\u001b[0m\u001b[0mnp\u001b[0m\u001b[0;34m.\u001b[0m\u001b[0marray\u001b[0m\u001b[0;34m(\u001b[0m\u001b[0mX\u001b[0m\u001b[0;34m)\u001b[0m\u001b[0;34m,\u001b[0m \u001b[0mnp\u001b[0m\u001b[0;34m.\u001b[0m\u001b[0marray\u001b[0m\u001b[0;34m(\u001b[0m\u001b[0my\u001b[0m\u001b[0;34m)\u001b[0m\u001b[0;34m)\u001b[0m\u001b[0;34m\u001b[0m\u001b[0;34m\u001b[0m\u001b[0m\n\u001b[0m",
            "\u001b[0;32m/usr/local/lib/python3.6/dist-packages/boruta/boruta_py.py\u001b[0m in \u001b[0;36mfit\u001b[0;34m(self, X, y)\u001b[0m\n\u001b[1;32m    199\u001b[0m         \"\"\"\n\u001b[1;32m    200\u001b[0m \u001b[0;34m\u001b[0m\u001b[0m\n\u001b[0;32m--> 201\u001b[0;31m         \u001b[0;32mreturn\u001b[0m \u001b[0mself\u001b[0m\u001b[0;34m.\u001b[0m\u001b[0m_fit\u001b[0m\u001b[0;34m(\u001b[0m\u001b[0mX\u001b[0m\u001b[0;34m,\u001b[0m \u001b[0my\u001b[0m\u001b[0;34m)\u001b[0m\u001b[0;34m\u001b[0m\u001b[0;34m\u001b[0m\u001b[0m\n\u001b[0m\u001b[1;32m    202\u001b[0m \u001b[0;34m\u001b[0m\u001b[0m\n\u001b[1;32m    203\u001b[0m     \u001b[0;32mdef\u001b[0m \u001b[0mtransform\u001b[0m\u001b[0;34m(\u001b[0m\u001b[0mself\u001b[0m\u001b[0;34m,\u001b[0m \u001b[0mX\u001b[0m\u001b[0;34m,\u001b[0m \u001b[0mweak\u001b[0m\u001b[0;34m=\u001b[0m\u001b[0;32mFalse\u001b[0m\u001b[0;34m)\u001b[0m\u001b[0;34m:\u001b[0m\u001b[0;34m\u001b[0m\u001b[0;34m\u001b[0m\u001b[0m\n",
            "\u001b[0;32m/usr/local/lib/python3.6/dist-packages/boruta/boruta_py.py\u001b[0m in \u001b[0;36m_fit\u001b[0;34m(self, X, y)\u001b[0m\n\u001b[1;32m    276\u001b[0m                 \u001b[0;31m# number of features that aren't rejected\u001b[0m\u001b[0;34m\u001b[0m\u001b[0;34m\u001b[0m\u001b[0;34m\u001b[0m\u001b[0m\n\u001b[1;32m    277\u001b[0m                 \u001b[0mnot_rejected\u001b[0m \u001b[0;34m=\u001b[0m \u001b[0mnp\u001b[0m\u001b[0;34m.\u001b[0m\u001b[0mwhere\u001b[0m\u001b[0;34m(\u001b[0m\u001b[0mdec_reg\u001b[0m \u001b[0;34m>=\u001b[0m \u001b[0;36m0\u001b[0m\u001b[0;34m)\u001b[0m\u001b[0;34m[\u001b[0m\u001b[0;36m0\u001b[0m\u001b[0;34m]\u001b[0m\u001b[0;34m.\u001b[0m\u001b[0mshape\u001b[0m\u001b[0;34m[\u001b[0m\u001b[0;36m0\u001b[0m\u001b[0;34m]\u001b[0m\u001b[0;34m\u001b[0m\u001b[0;34m\u001b[0m\u001b[0m\n\u001b[0;32m--> 278\u001b[0;31m                 \u001b[0mn_tree\u001b[0m \u001b[0;34m=\u001b[0m \u001b[0mself\u001b[0m\u001b[0;34m.\u001b[0m\u001b[0m_get_tree_num\u001b[0m\u001b[0;34m(\u001b[0m\u001b[0mnot_rejected\u001b[0m\u001b[0;34m)\u001b[0m\u001b[0;34m\u001b[0m\u001b[0;34m\u001b[0m\u001b[0m\n\u001b[0m\u001b[1;32m    279\u001b[0m                 \u001b[0mself\u001b[0m\u001b[0;34m.\u001b[0m\u001b[0mestimator\u001b[0m\u001b[0;34m.\u001b[0m\u001b[0mset_params\u001b[0m\u001b[0;34m(\u001b[0m\u001b[0mn_estimators\u001b[0m\u001b[0;34m=\u001b[0m\u001b[0mn_tree\u001b[0m\u001b[0;34m)\u001b[0m\u001b[0;34m\u001b[0m\u001b[0;34m\u001b[0m\u001b[0m\n\u001b[1;32m    280\u001b[0m \u001b[0;34m\u001b[0m\u001b[0m\n",
            "\u001b[0;32m/usr/local/lib/python3.6/dist-packages/boruta/boruta_py.py\u001b[0m in \u001b[0;36m_get_tree_num\u001b[0;34m(self, n_feat)\u001b[0m\n\u001b[1;32m    370\u001b[0m \u001b[0;34m\u001b[0m\u001b[0m\n\u001b[1;32m    371\u001b[0m     \u001b[0;32mdef\u001b[0m \u001b[0m_get_tree_num\u001b[0m\u001b[0;34m(\u001b[0m\u001b[0mself\u001b[0m\u001b[0;34m,\u001b[0m \u001b[0mn_feat\u001b[0m\u001b[0;34m)\u001b[0m\u001b[0;34m:\u001b[0m\u001b[0;34m\u001b[0m\u001b[0;34m\u001b[0m\u001b[0m\n\u001b[0;32m--> 372\u001b[0;31m         \u001b[0mdepth\u001b[0m \u001b[0;34m=\u001b[0m \u001b[0mself\u001b[0m\u001b[0;34m.\u001b[0m\u001b[0mestimator\u001b[0m\u001b[0;34m.\u001b[0m\u001b[0mget_params\u001b[0m\u001b[0;34m(\u001b[0m\u001b[0;34m)\u001b[0m\u001b[0;34m[\u001b[0m\u001b[0;34m'max_depth'\u001b[0m\u001b[0;34m]\u001b[0m\u001b[0;34m\u001b[0m\u001b[0;34m\u001b[0m\u001b[0m\n\u001b[0m\u001b[1;32m    373\u001b[0m         \u001b[0;32mif\u001b[0m \u001b[0mdepth\u001b[0m \u001b[0;34m==\u001b[0m \u001b[0;32mNone\u001b[0m\u001b[0;34m:\u001b[0m\u001b[0;34m\u001b[0m\u001b[0;34m\u001b[0m\u001b[0m\n\u001b[1;32m    374\u001b[0m             \u001b[0mdepth\u001b[0m \u001b[0;34m=\u001b[0m \u001b[0;36m10\u001b[0m\u001b[0;34m\u001b[0m\u001b[0;34m\u001b[0m\u001b[0m\n",
            "\u001b[0;31mKeyError\u001b[0m: 'max_depth'"
          ]
        }
      ]
    },
    {
      "cell_type": "code",
      "metadata": {
        "id": "fj6I0fv8MBET",
        "colab_type": "code",
        "colab": {}
      },
      "source": [
        "y_pred = xgbmodel.predict(test)"
      ],
      "execution_count": 209,
      "outputs": []
    },
    {
      "cell_type": "code",
      "metadata": {
        "id": "EHPMKBSmXqt0",
        "colab_type": "code",
        "colab": {}
      },
      "source": [
        "res = pd.DataFrame(y_pred)\n",
        "res.index = test_new.index\n",
        "res.columns = [\"prediction\"]\n",
        "res.to_csv(\"prediction.csv\")"
      ],
      "execution_count": 211,
      "outputs": []
    },
    {
      "cell_type": "code",
      "metadata": {
        "id": "q1fsCgRvMCUG",
        "colab_type": "code",
        "colab": {
          "base_uri": "https://localhost:8080/",
          "height": 52
        },
        "outputId": "754862bc-560d-4e9e-fb47-40a8d4539bd8"
      },
      "source": [
        "# Evaluating the model\n",
        "predictions = selection_model.predict(select_X_test)      # predict for selected features of X_test\n",
        "xgb_accuracy = accuracy_score(y_test, predictions)        # Calculating accuracy score on test data\n",
        "xgb_fscore = f1_score(y_test , predictions)               # Calculating F1 score on test data\n",
        "\n",
        "\n",
        "# View The Accuracy Of Our Limited Feature (4 Features) Model\n",
        "print(\"Limited Features XGBoost Model Accuracy:\", xgb_accuracy)\n",
        "print(\"Limited Features XGBoost Model F1 Score:\", xgb_fscore)"
      ],
      "execution_count": 115,
      "outputs": [
        {
          "output_type": "stream",
          "text": [
            "Limited Features XGBoost Model Accuracy: 0.8262859234852645\n",
            "Limited Features XGBoost Model F1 Score: 0.865523593595012\n"
          ],
          "name": "stdout"
        }
      ]
    },
    {
      "cell_type": "code",
      "metadata": {
        "id": "4VLd-MCoNBNl",
        "colab_type": "code",
        "colab": {
          "base_uri": "https://localhost:8080/",
          "height": 34
        },
        "outputId": "ec2aad97-6577-4b5a-d02d-cebefd73c497"
      },
      "source": [
        "dtrain"
      ],
      "execution_count": 94,
      "outputs": [
        {
          "output_type": "execute_result",
          "data": {
            "text/plain": [
              "<xgboost.core.DMatrix at 0x7f1d08f66278>"
            ]
          },
          "metadata": {
            "tags": []
          },
          "execution_count": 94
        }
      ]
    },
    {
      "cell_type": "code",
      "metadata": {
        "id": "wAgo7fnPNB-c",
        "colab_type": "code",
        "colab": {
          "base_uri": "https://localhost:8080/",
          "height": 34
        },
        "outputId": "1943aad3-bf04-4a7a-b309-4d62b0375577"
      },
      "source": [
        "X.shape"
      ],
      "execution_count": 109,
      "outputs": [
        {
          "output_type": "execute_result",
          "data": {
            "text/plain": [
              "(21849, 47)"
            ]
          },
          "metadata": {
            "tags": []
          },
          "execution_count": 109
        }
      ]
    },
    {
      "cell_type": "code",
      "metadata": {
        "id": "MGFoJMrvRsAb",
        "colab_type": "code",
        "colab": {}
      },
      "source": [
        ""
      ],
      "execution_count": null,
      "outputs": []
    }
  ]
}